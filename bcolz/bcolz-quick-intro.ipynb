{
 "cells": [
  {
   "cell_type": "code",
   "execution_count": 4,
   "metadata": {
    "collapsed": false
   },
   "outputs": [],
   "source": [
    "import bcolz\n",
    "import tables as tb"
   ]
  },
  {
   "cell_type": "code",
   "execution_count": 5,
   "metadata": {
    "collapsed": false
   },
   "outputs": [],
   "source": [
    "fname = \"../data/ic_dst_NEXT_v0_08_02_Kr_ACTIVE_0_0_5bar_MCRD_10000.root.h5\"\n",
    "f = tb.open_file(fname, \"a\")"
   ]
  },
  {
   "cell_type": "code",
   "execution_count": 6,
   "metadata": {
    "collapsed": false
   },
   "outputs": [
    {
     "name": "stdout",
     "output_type": "stream",
     "text": [
      "../data/ic_dst_NEXT_v0_08_02_Kr_ACTIVE_0_0_5bar_MCRD_10000.root.h5 (File) ''\n",
      "Last modif.: 'Mon Oct 17 16:03:20 2016'\n",
      "Object Tree: \n",
      "/ (RootGroup) ''\n",
      "/BLR (Group) ''\n",
      "/BLR/acum (EArray(100, 32000), shuffle, zlib(1)) ''\n",
      "/BLR/baseline (EArray(100, 12), shuffle, zlib(1)) ''\n",
      "/BLR/mau (EArray(100, 32000), shuffle, zlib(1)) ''\n",
      "/BLR/pulse_on (EArray(100, 32000), shuffle, zlib(1)) ''\n",
      "/BLR/wait_over (EArray(100, 32000), shuffle, zlib(1)) ''\n",
      "/Detector (Group) ''\n",
      "/Detector/DetectorGeometry (Table(1,)) ''\n",
      "/MC (Group) ''\n",
      "/MC/FEE (Table(1,)) 'EP-FEE parameters'\n",
      "/MC/MCTracks (Table(806,), zlib(1)) ''\n",
      "/RD (Group) ''\n",
      "/RD/pmtcwf (EArray(100, 12, 32000), shuffle, zlib(1)) ''\n",
      "/RD/pmtrwf (EArray(100, 12, 32000), shuffle, zlib(1)) ''\n",
      "/RD/sipmrwf (EArray(100, 1789, 800), shuffle, zlib(1)) ''\n",
      "/Sensors (Group) ''\n",
      "/Sensors/DataPMT (Table(12,)) ''\n",
      "/Sensors/DataSiPM (Table(1789,)) ''\n",
      "/TWF (Group) ''\n",
      "/TWF/TWF (Table(1420,), shuffle, zlib(1)) 'Store for TWF'\n",
      "\n"
     ]
    }
   ],
   "source": [
    "print(f)"
   ]
  },
  {
   "cell_type": "code",
   "execution_count": 7,
   "metadata": {
    "collapsed": false
   },
   "outputs": [
    {
     "ename": "ValueError",
     "evalue": "The file '../data/ic_dst_NEXT_v0_08_02_Kr_ACTIVE_0_0_5bar_MCRD_10000.root.h5' is already opened, but not in read-only mode (as requested).",
     "output_type": "error",
     "traceback": [
      "\u001b[0;31m---------------------------------------------------------------------------\u001b[0m",
      "\u001b[0;31mValueError\u001b[0m                                Traceback (most recent call last)",
      "\u001b[0;32m<ipython-input-7-064df5411414>\u001b[0m in \u001b[0;36m<module>\u001b[0;34m()\u001b[0m\n\u001b[0;32m----> 1\u001b[0;31m \u001b[0mtwf\u001b[0m \u001b[0;34m=\u001b[0m \u001b[0mbcolz\u001b[0m\u001b[0;34m.\u001b[0m\u001b[0mctable\u001b[0m\u001b[0;34m.\u001b[0m\u001b[0mfromhdf5\u001b[0m\u001b[0;34m(\u001b[0m\u001b[0mfname\u001b[0m\u001b[0;34m,\u001b[0m \u001b[0;34m\"/TWF/TWF\"\u001b[0m\u001b[0;34m)\u001b[0m\u001b[0;34m\u001b[0m\u001b[0m\n\u001b[0m",
      "\u001b[0;32m/Applications/anaconda3/lib/python3.5/site-packages/bcolz/ctable.py\u001b[0m in \u001b[0;36mfromhdf5\u001b[0;34m(filepath, nodepath, **kwargs)\u001b[0m\n\u001b[1;32m    706\u001b[0m \u001b[0;34m\u001b[0m\u001b[0m\n\u001b[1;32m    707\u001b[0m         \u001b[0;31m# Read the Table on file\u001b[0m\u001b[0;34m\u001b[0m\u001b[0;34m\u001b[0m\u001b[0m\n\u001b[0;32m--> 708\u001b[0;31m         \u001b[0mf\u001b[0m \u001b[0;34m=\u001b[0m \u001b[0mtb\u001b[0m\u001b[0;34m.\u001b[0m\u001b[0mopen_file\u001b[0m\u001b[0;34m(\u001b[0m\u001b[0mfilepath\u001b[0m\u001b[0;34m)\u001b[0m\u001b[0;34m\u001b[0m\u001b[0m\n\u001b[0m\u001b[1;32m    709\u001b[0m         \u001b[0;32mtry\u001b[0m\u001b[0;34m:\u001b[0m\u001b[0;34m\u001b[0m\u001b[0m\n\u001b[1;32m    710\u001b[0m             \u001b[0mt\u001b[0m \u001b[0;34m=\u001b[0m \u001b[0mf\u001b[0m\u001b[0;34m.\u001b[0m\u001b[0mget_node\u001b[0m\u001b[0;34m(\u001b[0m\u001b[0mnodepath\u001b[0m\u001b[0;34m)\u001b[0m\u001b[0;34m\u001b[0m\u001b[0m\n",
      "\u001b[0;32m/Applications/anaconda3/lib/python3.5/site-packages/tables/file.py\u001b[0m in \u001b[0;36mopen_file\u001b[0;34m(filename, mode, title, root_uep, filters, **kwargs)\u001b[0m\n\u001b[1;32m    302\u001b[0m                 raise ValueError(\n\u001b[1;32m    303\u001b[0m                     \u001b[0;34m\"The file '%s' is already opened, but \"\u001b[0m\u001b[0;34m\u001b[0m\u001b[0m\n\u001b[0;32m--> 304\u001b[0;31m                     \"not in read-only mode (as requested).\" % filename)\n\u001b[0m\u001b[1;32m    305\u001b[0m             \u001b[0;31m# 'a' and 'r+' are compatible with everything except 'r'\u001b[0m\u001b[0;34m\u001b[0m\u001b[0;34m\u001b[0m\u001b[0m\n\u001b[1;32m    306\u001b[0m             \u001b[0;32melif\u001b[0m \u001b[0mmode\u001b[0m \u001b[0;32min\u001b[0m \u001b[0;34m(\u001b[0m\u001b[0;34m'a'\u001b[0m\u001b[0;34m,\u001b[0m \u001b[0;34m'r+'\u001b[0m\u001b[0;34m)\u001b[0m \u001b[0;32mand\u001b[0m \u001b[0momode\u001b[0m \u001b[0;34m==\u001b[0m \u001b[0;34m'r'\u001b[0m\u001b[0;34m:\u001b[0m\u001b[0;34m\u001b[0m\u001b[0m\n",
      "\u001b[0;31mValueError\u001b[0m: The file '../data/ic_dst_NEXT_v0_08_02_Kr_ACTIVE_0_0_5bar_MCRD_10000.root.h5' is already opened, but not in read-only mode (as requested)."
     ]
    }
   ],
   "source": [
    "twf = bcolz.ctable.fromhdf5(fname, \"/TWF/TWF\")"
   ]
  },
  {
   "cell_type": "code",
   "execution_count": null,
   "metadata": {
    "collapsed": false
   },
   "outputs": [],
   "source": [
    "twf"
   ]
  },
  {
   "cell_type": "code",
   "execution_count": null,
   "metadata": {
    "collapsed": false
   },
   "outputs": [],
   "source": [
    "sipm = bcolz.ctable.fromhdf5(fname, \"/Sensors/DataSiPM\")"
   ]
  },
  {
   "cell_type": "code",
   "execution_count": null,
   "metadata": {
    "collapsed": false
   },
   "outputs": [],
   "source": [
    "sipm"
   ]
  },
  {
   "cell_type": "code",
   "execution_count": 9,
   "metadata": {
    "collapsed": false
   },
   "outputs": [
    {
     "name": "stdout",
     "output_type": "stream",
     "text": [
      "CPU times: user 2.11 s, sys: 625 ms, total: 2.73 s\n",
      "Wall time: 2.55 s\n"
     ]
    }
   ],
   "source": [
    "%time pmtrwf = bcolz.carray(f.root.RD.pmtrwf)"
   ]
  },
  {
   "cell_type": "code",
   "execution_count": 10,
   "metadata": {
    "collapsed": false
   },
   "outputs": [
    {
     "data": {
      "text/plain": [
       "carray((100, 12, 32000), float32)\n",
       "  nbytes: 146.48 MB; cbytes: 76.88 MB; ratio: 1.91\n",
       "  cparams := cparams(clevel=5, shuffle=1, cname='blosclz')\n",
       "[[[ 2500.00268555  2500.13574219  2499.24194336 ...,  2499.73193359\n",
       "    2500.62475586  2499.89794922]\n",
       "  [ 2500.          2500.01513672  2500.25634766 ...,  2499.83398438\n",
       "    2500.02783203  2499.13134766]\n",
       "  [ 2500.00073242  2499.67626953  2499.88134766 ...,  2499.38452148\n",
       "    2499.82763672  2501.03271484]\n",
       "  ..., \n",
       "  [ 2500.01000977  2499.54541016  2501.05126953 ...,  2500.0949707\n",
       "    2499.04443359  2500.45361328]\n",
       "  [ 2499.99707031  2499.5715332   2500.1965332  ...,  2499.7644043\n",
       "    2500.11132812  2499.42529297]\n",
       "  [ 2499.99389648  2499.87084961  2499.203125   ...,  2500.11865234\n",
       "    2499.2578125   2499.52734375]]\n",
       "\n",
       " [[ 2500.          2500.45849609  2499.91357422 ...,  2500.21655273\n",
       "    2500.23413086  2500.38769531]\n",
       "  [ 2500.00585938  2499.52636719  2499.42285156 ...,  2499.5703125\n",
       "    2499.91552734  2500.9309082 ]\n",
       "  [ 2500.00341797  2499.53857422  2499.68530273 ...,  2500.7109375\n",
       "    2500.12890625  2500.90136719]\n",
       "  ..., \n",
       "  [ 2500.00073242  2500.12548828  2499.96386719 ...,  2500.62402344\n",
       "    2499.76123047  2500.4309082 ]\n",
       "  [ 2500.00756836  2499.89624023  2499.5769043  ...,  2499.69433594\n",
       "    2500.87109375  2500.14257812]\n",
       "  [ 2500.00292969  2500.24169922  2500.26708984 ...,  2500.04370117\n",
       "    2499.78979492  2500.02709961]]\n",
       "\n",
       " [[ 2500.00195312  2500.18505859  2499.27978516 ...,  2500.30883789\n",
       "    2500.34106445  2499.84350586]\n",
       "  [ 2499.99951172  2499.42724609  2500.01391602 ...,  2500.13183594\n",
       "    2500.06616211  2499.56713867]\n",
       "  [ 2499.99487305  2499.16259766  2500.08300781 ...,  2499.67089844\n",
       "    2499.43505859  2500.71313477]\n",
       "  ..., \n",
       "  [ 2500.00756836  2500.00219727  2500.23925781 ...,  2500.39501953\n",
       "    2499.66088867  2500.6875    ]\n",
       "  [ 2500.00976562  2499.93945312  2499.6394043  ...,  2499.52929688\n",
       "    2499.32592773  2500.29443359]\n",
       "  [ 2499.99511719  2499.62841797  2500.14086914 ...,  2500.06103516\n",
       "    2500.44213867  2500.67822266]]\n",
       "\n",
       " ..., \n",
       " [[ 2500.00048828  2499.74902344  2500.77832031 ...,  2499.62231445\n",
       "    2498.99169922  2499.56054688]\n",
       "  [ 2500.00415039  2499.95776367  2500.19165039 ...,  2499.44042969\n",
       "    2500.49780273  2499.51977539]\n",
       "  [ 2500.00756836  2499.84277344  2500.0690918  ...,  2499.82128906\n",
       "    2499.83740234  2499.12255859]\n",
       "  ..., \n",
       "  [ 2499.99682617  2499.57250977  2500.58007812 ...,  2499.83178711\n",
       "    2500.16088867  2499.6315918 ]\n",
       "  [ 2500.00097656  2500.23706055  2499.9621582  ...,  2499.86816406\n",
       "    2499.63085938  2499.83374023]\n",
       "  [ 2499.99511719  2498.95483398  2500.20263672 ...,  2499.67138672\n",
       "    2498.79443359  2499.92480469]]\n",
       "\n",
       " [[ 2500.00415039  2499.81762695  2499.37036133 ...,  2500.20874023\n",
       "    2500.2109375   2499.65844727]\n",
       "  [ 2499.99975586  2499.40649414  2500.06640625 ...,  2499.74414062\n",
       "    2500.24829102  2499.85888672]\n",
       "  [ 2499.99804688  2499.67382812  2499.40112305 ...,  2500.6953125\n",
       "    2499.99902344  2500.43701172]\n",
       "  ..., \n",
       "  [ 2499.99023438  2500.21289062  2499.2734375  ...,  2500.16186523\n",
       "    2499.99194336  2499.68969727]\n",
       "  [ 2500.00292969  2499.90673828  2499.796875   ...,  2499.80786133\n",
       "    2500.09301758  2499.49731445]\n",
       "  [ 2500.00683594  2500.29711914  2500.04052734 ...,  2500.31518555\n",
       "    2500.61694336  2500.21362305]]\n",
       "\n",
       " [[ 2499.99975586  2500.33203125  2499.54248047 ...,  2500.02294922\n",
       "    2499.65283203  2500.40844727]\n",
       "  [ 2499.99658203  2500.08105469  2500.12109375 ...,  2500.22680664\n",
       "    2500.20751953  2500.02539062]\n",
       "  [ 2500.00244141  2500.29467773  2500.28930664 ...,  2499.56762695\n",
       "    2500.48461914  2500.22412109]\n",
       "  ..., \n",
       "  [ 2499.99804688  2500.71948242  2499.71191406 ...,  2500.50268555\n",
       "    2500.45776367  2499.19799805]\n",
       "  [ 2500.00610352  2500.07836914  2500.84667969 ...,  2498.72753906\n",
       "    2499.71191406  2500.18579102]\n",
       "  [ 2500.00219727  2499.99365234  2500.         ...,  2499.60107422\n",
       "    2499.66064453  2499.89282227]]]"
      ]
     },
     "execution_count": 10,
     "metadata": {},
     "output_type": "execute_result"
    }
   ],
   "source": [
    "pmtrwf"
   ]
  },
  {
   "cell_type": "markdown",
   "metadata": {},
   "source": [
    "# Operating with carrays"
   ]
  },
  {
   "cell_type": "code",
   "execution_count": 12,
   "metadata": {
    "collapsed": false
   },
   "outputs": [
    {
     "data": {
      "text/plain": [
       "carray((100, 32000), float32)\n",
       "  nbytes: 12.21 MB; cbytes: 7.70 MB; ratio: 1.58\n",
       "  cparams := cparams(clevel=5, shuffle=1, cname='blosclz')\n",
       "[[ 29999.99414062  29999.27148438  29999.41601562 ...,  29998.32421875\n",
       "   29997.87890625  29999.703125  ]\n",
       " [ 30000.00390625  29998.71289062  29998.7734375  ...,  30000.4453125\n",
       "   30000.6640625   30002.84570312]\n",
       " [ 30000.01171875  29995.87304688  30000.17773438 ...,  29999.05859375\n",
       "   30000.89257812  30002.9140625 ]\n",
       " ..., \n",
       " [ 30000.02734375  29998.41992188  30001.75390625 ...,  29997.46875\n",
       "   29997.453125    29998.54296875]\n",
       " [ 30000.01171875  29998.80664062  29997.73828125 ...,  30000.21484375\n",
       "   30000.61914062  30000.84570312]\n",
       " [ 29999.99804688  30001.67382812  30000.96484375 ...,  29998.41015625\n",
       "   29998.98828125  30000.68945312]]"
      ]
     },
     "execution_count": 12,
     "metadata": {},
     "output_type": "execute_result"
    }
   ],
   "source": [
    "reduced = bcolz.zeros((0, 32000), dtype=\"float32\")\n",
    "for s in pmtrwf:\n",
    "    reduced.append(s.sum(axis=0))\n",
    "reduced"
   ]
  },
  {
   "cell_type": "code",
   "execution_count": null,
   "metadata": {
    "collapsed": false
   },
   "outputs": [],
   "source": [
    "f.create_array(f.root.RD, \"reduced\", reduced[:])"
   ]
  },
  {
   "cell_type": "code",
   "execution_count": null,
   "metadata": {
    "collapsed": true
   },
   "outputs": [],
   "source": [
    "f.close()"
   ]
  },
  {
   "cell_type": "code",
   "execution_count": null,
   "metadata": {
    "collapsed": false
   },
   "outputs": [],
   "source": [
    "!ptdump $fname"
   ]
  },
  {
   "cell_type": "code",
   "execution_count": null,
   "metadata": {
    "collapsed": true
   },
   "outputs": [],
   "source": []
  }
 ],
 "metadata": {
  "anaconda-cloud": {},
  "kernelspec": {
   "display_name": "Python [default]",
   "language": "python",
   "name": "python3"
  },
  "language_info": {
   "codemirror_mode": {
    "name": "ipython",
    "version": 3
   },
   "file_extension": ".py",
   "mimetype": "text/x-python",
   "name": "python",
   "nbconvert_exporter": "python",
   "pygments_lexer": "ipython3",
   "version": "3.5.2"
  }
 },
 "nbformat": 4,
 "nbformat_minor": 0
}
