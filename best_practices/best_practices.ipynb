{
 "cells": [
  {
   "cell_type": "markdown",
   "metadata": {},
   "source": [
    "# Best Practices in Coding"
   ]
  },
  {
   "cell_type": "markdown",
   "metadata": {},
   "source": [
    "## Introduction\n",
    "\n",
    "* Many scientists write code regularly but few have been formally trained to do so\n",
    "* Best practices evolved from programmer’s folk wisdom\n",
    "* They increase productivity and decrease stress\n",
    "* Development methodologies, such as Agile Programming and Test Driven Development, are established in the software engineering industry\n",
    "* We can learn a lot from them to improve our coding skills"
   ]
  },
  {
   "cell_type": "markdown",
   "metadata": {},
   "source": [
    "# Coding Style\n",
    "\n",
    "* Readability counts\n",
    "* Explicit is better than implicit\n",
    "* Beautiful is better than ugly\n",
    "* Give your variables intention revealing names\n",
    "  * For example: `numbers` instead of `nu`\n",
    "  * For example: `numbers instead of list_of_float_numbers`"
   ]
  },
  {
   "cell_type": "code",
   "execution_count": null,
   "metadata": {
    "collapsed": false
   },
   "outputs": [],
   "source": [
    "# Example:\n",
    "def my_product(numbers):\n",
    "    \"\"\" Compute the product of a sequence of numbers. \"\"\"\n",
    "    total = 1\n",
    "    for item in numbers:\n",
    "        total *= item\n",
    "    return total"
   ]
  },
  {
   "cell_type": "markdown",
   "metadata": {},
   "source": [
    "## Formatting Code\n",
    "\n",
    "* Format code to coding conventions for example:\n",
    "  * PEP-8\n",
    "  * OR use a consistent style (especially when collaborating)\n",
    "* Conventions Specify:\n",
    "  * variable naming convention\n",
    "  * indentation\n",
    "  * import\n",
    "  * maximum line length\n",
    "  * blank lines, whitespace, comments\n",
    "* Use automated tools to check adherence (aka static checking):\n",
    "  * `pep8`\n",
    "  * `pyflakes`\n",
    "  * flake8 (combination of pep8 and pyflakes)\n",
    "  * pylint\n",
    "  * pycheker\n"
   ]
  },
  {
   "cell_type": "markdown",
   "metadata": {},
   "source": [
    "## About PEP8\n",
    "\n",
    "The name of the pep8 stems from the\n",
    "[Python Enhancement Proposal #8](http://www.python.org/dev/peps/pep-0008/).\n",
    "\n",
    "This proposal is about coding conventions for the Python code comprising the\n",
    "standard library in the main Python distribution.  But it is considered a\n",
    "**good practice** following it in your own code."
   ]
  },
  {
   "cell_type": "markdown",
   "metadata": {},
   "source": [
    "## Exercise:\n",
    "\n",
    "Provided the code below:"
   ]
  },
  {
   "cell_type": "code",
   "execution_count": null,
   "metadata": {
    "collapsed": false
   },
   "outputs": [],
   "source": [
    "%%file downsample.py\n",
    "\n",
    "import os, sys\n",
    "import numpy as np\n",
    "from time import time\n",
    "\n",
    "# This function downsamples a certain image by getting the mean in a certain cell shape\n",
    "def downsample(x, cell):\n",
    "    c0, c1 = cell\n",
    "    yshape = (x.shape[0] // c0, x.shape[1] // c1)\n",
    "    y = np.empty(yshape, x.dtype)\n",
    "    for i in range(yshape[0]):\n",
    "        for j in range(yshape[1]):\n",
    "            y[i, j] = x[i*c0:(i+1)*c0,j*c1:(j+1)*c1].mean()\n",
    "    return y\n",
    "\n",
    "# Create a sample image\n",
    "if len(sys.argv) > 1:\n",
    "    img_shape = int(sys.argv[1]), int(sys.argv[2])\n",
    "else:\n",
    "    img_shape = 2**24\n",
    "img = np.arange(img_shape[0]*img_shape[1], dtype=np.float32).reshape(img_shape)\n",
    "t0 = time()\n",
    "dsimg = downsample_(img, (16,16))\n",
    "print(\"The time for downsampling: %.3f\" % (time() - t0))\n",
    "print(\"Initial shape: %s.  Final shape: %s\" % (img.shape, dsimg.shape))  \n"
   ]
  },
  {
   "cell_type": "markdown",
   "metadata": {},
   "source": [
    "Make it `pep8` and `pyflakes` clean:"
   ]
  },
  {
   "cell_type": "code",
   "execution_count": null,
   "metadata": {
    "collapsed": false
   },
   "outputs": [],
   "source": [
    "! pep8 downsample.py"
   ]
  },
  {
   "cell_type": "code",
   "execution_count": null,
   "metadata": {
    "collapsed": false
   },
   "outputs": [],
   "source": [
    "! pyflakes downsample.py"
   ]
  },
  {
   "cell_type": "markdown",
   "metadata": {},
   "source": [
    " "
   ]
  },
  {
   "cell_type": "markdown",
   "metadata": {},
   "source": [
    "## Documenting Code\n",
    "\n",
    "* Minimum requirement: at least a single line docstring\n",
    "* Not only for others, but also for yourself!\n",
    "* Serves as on-line help in the interpreter\n",
    "* Document arguments and return objects, including types\n",
    "* Use the numpy docstring conventions\n",
    "* Use tools to automatically generate website from docstrings\n",
    " * pydoc\n",
    " * epydoc\n",
    " * sphinx (recommended one nowadays)\n",
    "* For complex algorithms, document every line, and include equations in docstring\n",
    "* When your project gets bigger: provide a how-to, FAQ or quick-start on your website"
   ]
  },
  {
   "cell_type": "markdown",
   "metadata": {},
   "source": [
    "### Example of docstring"
   ]
  },
  {
   "cell_type": "code",
   "execution_count": null,
   "metadata": {
    "collapsed": false
   },
   "outputs": [],
   "source": [
    "def array(object, dtype=None, copy=True, order=None, subok=False, ndmin=0):\n",
    "    \"\"\"\n",
    "    Create an array.\n",
    "\n",
    "    Parameters\n",
    "    ----------\n",
    "    object : array_like\n",
    "        An array, any object exposing the array interface, an\n",
    "        object whose __array__ method returns an array, or any\n",
    "        (nested) sequence.\n",
    "    dtype : data-type, optional\n",
    "        The desired data-type for the array.  If not given, then\n",
    "        the type will be determined as the minimum type required\n",
    "        to hold the objects in the sequence.  This argument can only\n",
    "        be used to 'upcast' the array.  For downcasting, use the\n",
    "        .astype(t) method.\n",
    "    [clip]\n",
    "    \"\"\"\n",
    "    # Implementation here..."
   ]
  },
  {
   "cell_type": "markdown",
   "metadata": {},
   "source": [
    "Example of rendered output in a console:"
   ]
  },
  {
   "cell_type": "code",
   "execution_count": null,
   "metadata": {
    "collapsed": false
   },
   "outputs": [],
   "source": [
    "import numpy\n",
    "numpy.array?"
   ]
  },
  {
   "cell_type": "markdown",
   "metadata": {},
   "source": [
    "Example of rendered output using Sphinx:\n",
    "\n",
    "http://docs.scipy.org/doc/numpy/reference/generated/numpy.array.html#numpy.array"
   ]
  },
  {
   "cell_type": "markdown",
   "metadata": {},
   "source": [
    "### Exercise\n",
    "\n",
    "Document the `downsample` function above following the same structure than the `array`\n",
    "docstrings above."
   ]
  },
  {
   "cell_type": "markdown",
   "metadata": {},
   "source": [
    "# Keep it Simple (Stupid) (KIS(S) Principle)\n",
    "\n",
    "* Resist the urge to over-engineer\n",
    "* Write only what you need now\n",
    "* Simple is better than complex\n",
    "* Complex is better than complicated\n",
    "* Special cases aren’t special enough to break the rules\n",
    "* Although practicality beats purity"
   ]
  },
  {
   "cell_type": "markdown",
   "metadata": {},
   "source": [
    "# The Zen of Python"
   ]
  },
  {
   "cell_type": "code",
   "execution_count": null,
   "metadata": {
    "collapsed": false
   },
   "outputs": [],
   "source": [
    "import this"
   ]
  },
  {
   "cell_type": "markdown",
   "metadata": {},
   "source": [
    "## More info:"
   ]
  },
  {
   "cell_type": "markdown",
   "metadata": {},
   "source": [
    "* [Idiomatic Python](http://python.net/~goodger/projects/pycon/2007/idiomatic/handout.html) by David Goodger\n",
    "* PEP8: http://www.python.org/dev/peps/pep-0008/\n",
    "* About pyflakes: http://www.blog.pythonlibrary.org/2012/06/13/pyflakes-the-passive-checker-of-python-programs/\n",
    "* Nice blog on static code analyzers: http://doughellmann.com/2008/03/static-code-analizers-for-python.html"
   ]
  },
  {
   "cell_type": "code",
   "execution_count": null,
   "metadata": {
    "collapsed": false
   },
   "outputs": [],
   "source": []
  }
 ],
 "metadata": {
  "anaconda-cloud": {},
  "kernelspec": {
   "display_name": "Python [default]",
   "language": "python",
   "name": "python3"
  },
  "language_info": {
   "codemirror_mode": {
    "name": "ipython",
    "version": 3
   },
   "file_extension": ".py",
   "mimetype": "text/x-python",
   "name": "python",
   "nbconvert_exporter": "python",
   "pygments_lexer": "ipython3",
   "version": "3.5.2"
  }
 },
 "nbformat": 4,
 "nbformat_minor": 0
}
