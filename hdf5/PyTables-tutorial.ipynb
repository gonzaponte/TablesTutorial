{
 "cells": [
  {
   "cell_type": "markdown",
   "metadata": {},
   "source": [
    "# Creating datasets"
   ]
  },
  {
   "cell_type": "markdown",
   "metadata": {},
   "source": [
    "Creating datasets with PyTables via NumPy arrays is easy:"
   ]
  },
  {
   "cell_type": "code",
   "execution_count": 1,
   "metadata": {
    "collapsed": false
   },
   "outputs": [
    {
     "data": {
      "text/plain": [
       "/array1 (Array(20, 5)) ''\n",
       "  atom := Int64Atom(shape=(), dflt=0)\n",
       "  maindim := 0\n",
       "  flavor := 'numpy'\n",
       "  byteorder := 'little'\n",
       "  chunkshape := None"
      ]
     },
     "execution_count": 1,
     "metadata": {},
     "output_type": "execute_result"
    }
   ],
   "source": [
    "import numpy as np\n",
    "import tables as tb\n",
    "\n",
    "# Create a new file\n",
    "f = tb.open_file(\"atest.h5\", \"w\")\n",
    "\n",
    "# Create a NumPy array\n",
    "a = np.arange(100).reshape(20,5)\n",
    "\n",
    "# Save the array\n",
    "f.create_array(f.root, \"array1\", a)"
   ]
  },
  {
   "cell_type": "code",
   "execution_count": 2,
   "metadata": {
    "collapsed": false
   },
   "outputs": [
    {
     "data": {
      "text/plain": [
       "array([[ 0,  1,  2,  3,  4],\n",
       "       [ 5,  6,  7,  8,  9],\n",
       "       [10, 11, 12, 13, 14],\n",
       "       [15, 16, 17, 18, 19],\n",
       "       [20, 21, 22, 23, 24],\n",
       "       [25, 26, 27, 28, 29],\n",
       "       [30, 31, 32, 33, 34],\n",
       "       [35, 36, 37, 38, 39],\n",
       "       [40, 41, 42, 43, 44],\n",
       "       [45, 46, 47, 48, 49],\n",
       "       [50, 51, 52, 53, 54],\n",
       "       [55, 56, 57, 58, 59],\n",
       "       [60, 61, 62, 63, 64],\n",
       "       [65, 66, 67, 68, 69],\n",
       "       [70, 71, 72, 73, 74],\n",
       "       [75, 76, 77, 78, 79],\n",
       "       [80, 81, 82, 83, 84],\n",
       "       [85, 86, 87, 88, 89],\n",
       "       [90, 91, 92, 93, 94],\n",
       "       [95, 96, 97, 98, 99]])"
      ]
     },
     "execution_count": 2,
     "metadata": {},
     "output_type": "execute_result"
    }
   ],
   "source": [
    "# Peek data\n",
    "f.root.array1[:]"
   ]
  },
  {
   "cell_type": "code",
   "execution_count": 3,
   "metadata": {
    "collapsed": false
   },
   "outputs": [
    {
     "data": {
      "text/plain": [
       "array([[ 7,  8,  9],\n",
       "       [22, 23, 24],\n",
       "       [37, 38, 39]])"
      ]
     },
     "execution_count": 3,
     "metadata": {},
     "output_type": "execute_result"
    }
   ],
   "source": [
    "# Select some data areas (these, and only these are loaded into memory)\n",
    "ta = f.root.array1\n",
    "ta[1:10:3,2:5]"
   ]
  },
  {
   "cell_type": "code",
   "execution_count": 4,
   "metadata": {
    "collapsed": false
   },
   "outputs": [
    {
     "data": {
      "text/plain": [
       "True"
      ]
     },
     "execution_count": 4,
     "metadata": {},
     "output_type": "execute_result"
    }
   ],
   "source": [
    "# Make sure that the read data is the same than the original\n",
    "np.allclose(ta[1:10:3,2:5], a[1:10:3,2:5])"
   ]
  },
  {
   "cell_type": "code",
   "execution_count": 5,
   "metadata": {
    "collapsed": false
   },
   "outputs": [],
   "source": [
    "# Create another array\n",
    "ta2 = f.create_array(f.root, \"array2\", np.arange(10))"
   ]
  },
  {
   "cell_type": "code",
   "execution_count": 6,
   "metadata": {
    "collapsed": false
   },
   "outputs": [
    {
     "data": {
      "text/plain": [
       "True"
      ]
     },
     "execution_count": 6,
     "metadata": {},
     "output_type": "execute_result"
    }
   ],
   "source": [
    "np.allclose(ta2, np.arange(10))"
   ]
  },
  {
   "cell_type": "code",
   "execution_count": 7,
   "metadata": {
    "collapsed": false
   },
   "outputs": [
    {
     "name": "stdout",
     "output_type": "stream",
     "text": [
      "-rw-rw-r-- 1 faltet faltet 0 oct 14 11:39 atest.h5\r\n"
     ]
    }
   ],
   "source": [
    "# Let's have a look at the size of the underlying file\n",
    "!ls -l atest.h5"
   ]
  },
  {
   "cell_type": "code",
   "execution_count": 8,
   "metadata": {
    "collapsed": false
   },
   "outputs": [],
   "source": [
    "# Flush data to the file (very important to keep all your data safe!)\n",
    "f.flush()"
   ]
  },
  {
   "cell_type": "code",
   "execution_count": 9,
   "metadata": {
    "collapsed": false
   },
   "outputs": [
    {
     "name": "stdout",
     "output_type": "stream",
     "text": [
      "-rw-rw-r-- 1 faltet faltet 3024 oct 14 11:39 atest.h5\r\n"
     ]
    }
   ],
   "source": [
    "# Now better?\n",
    "!ls -l atest.h5"
   ]
  },
  {
   "cell_type": "code",
   "execution_count": 10,
   "metadata": {
    "collapsed": false
   },
   "outputs": [],
   "source": [
    "f.close()  # close access to file"
   ]
  },
  {
   "cell_type": "code",
   "execution_count": 11,
   "metadata": {
    "collapsed": false
   },
   "outputs": [],
   "source": [
    "# Reopen the file and revisit the datasets there\n",
    "f = tb.open_file(\"atest.h5\", mode=\"r\")  # note the 'r'ead mode"
   ]
  },
  {
   "cell_type": "code",
   "execution_count": 12,
   "metadata": {
    "collapsed": false
   },
   "outputs": [
    {
     "data": {
      "text/plain": [
       "File(filename=atest.h5, title='', mode='r', root_uep='/', filters=Filters(complevel=0, shuffle=False, bitshuffle=False, fletcher32=False, least_significant_digit=None))\n",
       "/ (RootGroup) ''\n",
       "/array1 (Array(20, 5)) ''\n",
       "  atom := Int64Atom(shape=(), dflt=0)\n",
       "  maindim := 0\n",
       "  flavor := 'numpy'\n",
       "  byteorder := 'little'\n",
       "  chunkshape := None\n",
       "/array2 (Array(10,)) ''\n",
       "  atom := Int64Atom(shape=(), dflt=0)\n",
       "  maindim := 0\n",
       "  flavor := 'numpy'\n",
       "  byteorder := 'little'\n",
       "  chunkshape := None"
      ]
     },
     "execution_count": 12,
     "metadata": {},
     "output_type": "execute_result"
    }
   ],
   "source": [
    "# Get the summary of the contents\n",
    "f"
   ]
  },
  {
   "cell_type": "code",
   "execution_count": 13,
   "metadata": {
    "collapsed": false
   },
   "outputs": [
    {
     "data": {
      "text/plain": [
       "/array1 (Array(20, 5)) ''\n",
       "  atom := Int64Atom(shape=(), dflt=0)\n",
       "  maindim := 0\n",
       "  flavor := 'numpy'\n",
       "  byteorder := 'little'\n",
       "  chunkshape := None"
      ]
     },
     "execution_count": 13,
     "metadata": {},
     "output_type": "execute_result"
    }
   ],
   "source": [
    "f.root.array1"
   ]
  },
  {
   "cell_type": "code",
   "execution_count": 14,
   "metadata": {
    "collapsed": false
   },
   "outputs": [
    {
     "data": {
      "text/plain": [
       "array([[ 0,  1,  2,  3,  4],\n",
       "       [ 5,  6,  7,  8,  9],\n",
       "       [10, 11, 12, 13, 14],\n",
       "       [15, 16, 17, 18, 19],\n",
       "       [20, 21, 22, 23, 24],\n",
       "       [25, 26, 27, 28, 29],\n",
       "       [30, 31, 32, 33, 34],\n",
       "       [35, 36, 37, 38, 39],\n",
       "       [40, 41, 42, 43, 44],\n",
       "       [45, 46, 47, 48, 49],\n",
       "       [50, 51, 52, 53, 54],\n",
       "       [55, 56, 57, 58, 59],\n",
       "       [60, 61, 62, 63, 64],\n",
       "       [65, 66, 67, 68, 69],\n",
       "       [70, 71, 72, 73, 74],\n",
       "       [75, 76, 77, 78, 79],\n",
       "       [80, 81, 82, 83, 84],\n",
       "       [85, 86, 87, 88, 89],\n",
       "       [90, 91, 92, 93, 94],\n",
       "       [95, 96, 97, 98, 99]])"
      ]
     },
     "execution_count": 14,
     "metadata": {},
     "output_type": "execute_result"
    }
   ],
   "source": [
    "f.root.array1[:]"
   ]
  },
  {
   "cell_type": "code",
   "execution_count": 15,
   "metadata": {
    "collapsed": false
   },
   "outputs": [],
   "source": [
    "f.close()  # remember to always close your files when you are done!"
   ]
  },
  {
   "cell_type": "markdown",
   "metadata": {},
   "source": [
    "# Playing with the object tree"
   ]
  },
  {
   "cell_type": "code",
   "execution_count": 16,
   "metadata": {
    "collapsed": false
   },
   "outputs": [],
   "source": [
    "# Re-open the existing file in 'a'ppend mode\n",
    "f = tb.open_file(\"atest.h5\", \"a\")"
   ]
  },
  {
   "cell_type": "code",
   "execution_count": 17,
   "metadata": {
    "collapsed": false
   },
   "outputs": [
    {
     "data": {
      "text/plain": [
       "File(filename=atest.h5, title='', mode='a', root_uep='/', filters=Filters(complevel=0, shuffle=False, bitshuffle=False, fletcher32=False, least_significant_digit=None))\n",
       "/ (RootGroup) ''\n",
       "/array1 (Array(20, 5)) ''\n",
       "  atom := Int64Atom(shape=(), dflt=0)\n",
       "  maindim := 0\n",
       "  flavor := 'numpy'\n",
       "  byteorder := 'little'\n",
       "  chunkshape := None\n",
       "/array2 (Array(10,)) ''\n",
       "  atom := Int64Atom(shape=(), dflt=0)\n",
       "  maindim := 0\n",
       "  flavor := 'numpy'\n",
       "  byteorder := 'little'\n",
       "  chunkshape := None"
      ]
     },
     "execution_count": 17,
     "metadata": {},
     "output_type": "execute_result"
    }
   ],
   "source": [
    "f"
   ]
  },
  {
   "cell_type": "code",
   "execution_count": 18,
   "metadata": {
    "collapsed": false
   },
   "outputs": [
    {
     "data": {
      "text/plain": [
       "/group1 (Group) 'Title for group1'\n",
       "  children := []"
      ]
     },
     "execution_count": 18,
     "metadata": {},
     "output_type": "execute_result"
    }
   ],
   "source": [
    "# Add a new group\n",
    "f.create_group(f.root, 'group1', 'Title for group1')"
   ]
  },
  {
   "cell_type": "code",
   "execution_count": 19,
   "metadata": {
    "collapsed": false
   },
   "outputs": [
    {
     "data": {
      "text/plain": [
       "File(filename=atest.h5, title='', mode='a', root_uep='/', filters=Filters(complevel=0, shuffle=False, bitshuffle=False, fletcher32=False, least_significant_digit=None))\n",
       "/ (RootGroup) ''\n",
       "/array1 (Array(20, 5)) ''\n",
       "  atom := Int64Atom(shape=(), dflt=0)\n",
       "  maindim := 0\n",
       "  flavor := 'numpy'\n",
       "  byteorder := 'little'\n",
       "  chunkshape := None\n",
       "/array2 (Array(10,)) ''\n",
       "  atom := Int64Atom(shape=(), dflt=0)\n",
       "  maindim := 0\n",
       "  flavor := 'numpy'\n",
       "  byteorder := 'little'\n",
       "  chunkshape := None\n",
       "/group1 (Group) 'Title for group1'"
      ]
     },
     "execution_count": 19,
     "metadata": {},
     "output_type": "execute_result"
    }
   ],
   "source": [
    "f"
   ]
  },
  {
   "cell_type": "code",
   "execution_count": 20,
   "metadata": {
    "collapsed": false
   },
   "outputs": [],
   "source": [
    "f.move_node(f.root.array1, f.root.group1)"
   ]
  },
  {
   "cell_type": "code",
   "execution_count": 21,
   "metadata": {
    "collapsed": false
   },
   "outputs": [
    {
     "data": {
      "text/plain": [
       "File(filename=atest.h5, title='', mode='a', root_uep='/', filters=Filters(complevel=0, shuffle=False, bitshuffle=False, fletcher32=False, least_significant_digit=None))\n",
       "/ (RootGroup) ''\n",
       "/array2 (Array(10,)) ''\n",
       "  atom := Int64Atom(shape=(), dflt=0)\n",
       "  maindim := 0\n",
       "  flavor := 'numpy'\n",
       "  byteorder := 'little'\n",
       "  chunkshape := None\n",
       "/group1 (Group) 'Title for group1'\n",
       "/group1/array1 (Array(20, 5)) ''\n",
       "  atom := Int64Atom(shape=(), dflt=0)\n",
       "  maindim := 0\n",
       "  flavor := 'numpy'\n",
       "  byteorder := 'little'\n",
       "  chunkshape := None"
      ]
     },
     "execution_count": 21,
     "metadata": {},
     "output_type": "execute_result"
    }
   ],
   "source": [
    "f"
   ]
  },
  {
   "cell_type": "code",
   "execution_count": 22,
   "metadata": {
    "collapsed": false
   },
   "outputs": [
    {
     "data": {
      "text/plain": [
       "/g1/g2/g3/g4/g5 (Group) ''\n",
       "  children := []"
      ]
     },
     "execution_count": 22,
     "metadata": {},
     "output_type": "execute_result"
    }
   ],
   "source": [
    "# Create a very nested group (note the `createparents` parameter)\n",
    "f.create_group('/g1/g2/g3/g4', 'g5', createparents=True)"
   ]
  },
  {
   "cell_type": "code",
   "execution_count": 23,
   "metadata": {
    "collapsed": false
   },
   "outputs": [
    {
     "data": {
      "text/plain": [
       "File(filename=atest.h5, title='', mode='a', root_uep='/', filters=Filters(complevel=0, shuffle=False, bitshuffle=False, fletcher32=False, least_significant_digit=None))\n",
       "/ (RootGroup) ''\n",
       "/array2 (Array(10,)) ''\n",
       "  atom := Int64Atom(shape=(), dflt=0)\n",
       "  maindim := 0\n",
       "  flavor := 'numpy'\n",
       "  byteorder := 'little'\n",
       "  chunkshape := None\n",
       "/g1 (Group) ''\n",
       "/group1 (Group) 'Title for group1'\n",
       "/group1/array1 (Array(20, 5)) ''\n",
       "  atom := Int64Atom(shape=(), dflt=0)\n",
       "  maindim := 0\n",
       "  flavor := 'numpy'\n",
       "  byteorder := 'little'\n",
       "  chunkshape := None\n",
       "/g1/g2 (Group) ''\n",
       "/g1/g2/g3 (Group) ''\n",
       "/g1/g2/g3/g4 (Group) ''\n",
       "/g1/g2/g3/g4/g5 (Group) ''"
      ]
     },
     "execution_count": 23,
     "metadata": {},
     "output_type": "execute_result"
    }
   ],
   "source": [
    "f"
   ]
  },
  {
   "cell_type": "code",
   "execution_count": 24,
   "metadata": {
    "collapsed": false
   },
   "outputs": [
    {
     "data": {
      "text/plain": [
       "/g1/g2/g3/g4/g5/array2 (Array(10,)) ''\n",
       "  atom := Int64Atom(shape=(), dflt=0)\n",
       "  maindim := 0\n",
       "  flavor := 'numpy'\n",
       "  byteorder := 'little'\n",
       "  chunkshape := None"
      ]
     },
     "execution_count": 24,
     "metadata": {},
     "output_type": "execute_result"
    }
   ],
   "source": [
    "# Add an array in the 'very nested' group\n",
    "f.create_array(f.root.g1.g2.g3.g4.g5, 'array2', np.arange(10))"
   ]
  },
  {
   "cell_type": "code",
   "execution_count": 25,
   "metadata": {
    "collapsed": false
   },
   "outputs": [
    {
     "data": {
      "text/plain": [
       "File(filename=atest.h5, title='', mode='a', root_uep='/', filters=Filters(complevel=0, shuffle=False, bitshuffle=False, fletcher32=False, least_significant_digit=None))\n",
       "/ (RootGroup) ''\n",
       "/array2 (Array(10,)) ''\n",
       "  atom := Int64Atom(shape=(), dflt=0)\n",
       "  maindim := 0\n",
       "  flavor := 'numpy'\n",
       "  byteorder := 'little'\n",
       "  chunkshape := None\n",
       "/g1 (Group) ''\n",
       "/group1 (Group) 'Title for group1'\n",
       "/group1/array1 (Array(20, 5)) ''\n",
       "  atom := Int64Atom(shape=(), dflt=0)\n",
       "  maindim := 0\n",
       "  flavor := 'numpy'\n",
       "  byteorder := 'little'\n",
       "  chunkshape := None\n",
       "/g1/g2 (Group) ''\n",
       "/g1/g2/g3 (Group) ''\n",
       "/g1/g2/g3/g4 (Group) ''\n",
       "/g1/g2/g3/g4/g5 (Group) ''\n",
       "/g1/g2/g3/g4/g5/array2 (Array(10,)) ''\n",
       "  atom := Int64Atom(shape=(), dflt=0)\n",
       "  maindim := 0\n",
       "  flavor := 'numpy'\n",
       "  byteorder := 'little'\n",
       "  chunkshape := None"
      ]
     },
     "execution_count": 25,
     "metadata": {},
     "output_type": "execute_result"
    }
   ],
   "source": [
    "f"
   ]
  },
  {
   "cell_type": "code",
   "execution_count": 26,
   "metadata": {
    "collapsed": false
   },
   "outputs": [],
   "source": [
    "# Removing nodes is very easy\n",
    "f.remove_node(f.root.g1.g2.g3.g4.g5.array2)"
   ]
  },
  {
   "cell_type": "code",
   "execution_count": 27,
   "metadata": {
    "collapsed": false
   },
   "outputs": [
    {
     "data": {
      "text/plain": [
       "File(filename=atest.h5, title='', mode='a', root_uep='/', filters=Filters(complevel=0, shuffle=False, bitshuffle=False, fletcher32=False, least_significant_digit=None))\n",
       "/ (RootGroup) ''\n",
       "/array2 (Array(10,)) ''\n",
       "  atom := Int64Atom(shape=(), dflt=0)\n",
       "  maindim := 0\n",
       "  flavor := 'numpy'\n",
       "  byteorder := 'little'\n",
       "  chunkshape := None\n",
       "/g1 (Group) ''\n",
       "/group1 (Group) 'Title for group1'\n",
       "/group1/array1 (Array(20, 5)) ''\n",
       "  atom := Int64Atom(shape=(), dflt=0)\n",
       "  maindim := 0\n",
       "  flavor := 'numpy'\n",
       "  byteorder := 'little'\n",
       "  chunkshape := None\n",
       "/g1/g2 (Group) ''\n",
       "/g1/g2/g3 (Group) ''\n",
       "/g1/g2/g3/g4 (Group) ''\n",
       "/g1/g2/g3/g4/g5 (Group) ''"
      ]
     },
     "execution_count": 27,
     "metadata": {},
     "output_type": "execute_result"
    }
   ],
   "source": [
    "f"
   ]
  },
  {
   "cell_type": "code",
   "execution_count": 28,
   "metadata": {
    "collapsed": false
   },
   "outputs": [
    {
     "name": "stdout",
     "output_type": "stream",
     "text": [
      "/ (RootGroup) ''\n",
      "/array2 (Array(10,)) ''\n",
      "/g1 (Group) ''\n",
      "/group1 (Group) 'Title for group1'\n",
      "/g1/g2 (Group) ''\n",
      "/group1/array1 (Array(20, 5)) ''\n",
      "/g1/g2/g3 (Group) ''\n",
      "/g1/g2/g3/g4 (Group) ''\n",
      "/g1/g2/g3/g4/g5 (Group) ''\n"
     ]
    }
   ],
   "source": [
    "# Show the PyTables File object working as an iterator\n",
    "for n in f: print(n)"
   ]
  },
  {
   "cell_type": "code",
   "execution_count": 29,
   "metadata": {
    "collapsed": false
   },
   "outputs": [
    {
     "name": "stdout",
     "output_type": "stream",
     "text": [
      "/ (RootGroup) ''\n",
      "/array2 (Array(10,)) ''\n",
      "/g1 (Group) ''\n",
      "/group1 (Group) 'Title for group1'\n",
      "/g1/g2 (Group) ''\n",
      "/group1/array1 (Array(20, 5)) ''\n",
      "/g1/g2/g3 (Group) ''\n",
      "/g1/g2/g3/g4 (Group) ''\n",
      "/g1/g2/g3/g4/g5 (Group) ''\n"
     ]
    }
   ],
   "source": [
    "# The `File.walk_nodes` method offer more flexibility\n",
    "for n in f.walk_nodes(): print(n)"
   ]
  },
  {
   "cell_type": "code",
   "execution_count": 30,
   "metadata": {
    "collapsed": false
   },
   "outputs": [
    {
     "name": "stdout",
     "output_type": "stream",
     "text": [
      "/group1 (Group) 'Title for group1'\n",
      "/group1/array1 (Array(20, 5)) ''\n"
     ]
    }
   ],
   "source": [
    "# Get info from a certain point of the hierarchy on\n",
    "for n in f.walk_nodes(f.root.group1): print(n)"
   ]
  },
  {
   "cell_type": "code",
   "execution_count": 31,
   "metadata": {
    "collapsed": false
   },
   "outputs": [
    {
     "name": "stdout",
     "output_type": "stream",
     "text": [
      "[[0 1 2 3 4]\n",
      " [5 6 7 8 9]]\n"
     ]
    }
   ],
   "source": [
    "# walknodes allows to iterate over specific classes\n",
    "for n in f.walk_nodes(f.root.group1, classname=\"Array\"): print(n[:2])"
   ]
  },
  {
   "cell_type": "code",
   "execution_count": 32,
   "metadata": {
    "collapsed": false
   },
   "outputs": [],
   "source": [
    "f.close()"
   ]
  },
  {
   "cell_type": "markdown",
   "metadata": {},
   "source": [
    "# HDF5 atributes"
   ]
  },
  {
   "cell_type": "code",
   "execution_count": 33,
   "metadata": {
    "collapsed": false
   },
   "outputs": [],
   "source": [
    "# Re-open the file\n",
    "f = tb.open_file(\"atest.h5\", \"a\")"
   ]
  },
  {
   "cell_type": "code",
   "execution_count": 34,
   "metadata": {
    "collapsed": false
   },
   "outputs": [
    {
     "data": {
      "text/plain": [
       "File(filename=atest.h5, title='', mode='a', root_uep='/', filters=Filters(complevel=0, shuffle=False, bitshuffle=False, fletcher32=False, least_significant_digit=None))\n",
       "/ (RootGroup) ''\n",
       "/array2 (Array(10,)) ''\n",
       "  atom := Int64Atom(shape=(), dflt=0)\n",
       "  maindim := 0\n",
       "  flavor := 'numpy'\n",
       "  byteorder := 'little'\n",
       "  chunkshape := None\n",
       "/g1 (Group) ''\n",
       "/group1 (Group) 'Title for group1'\n",
       "/group1/array1 (Array(20, 5)) ''\n",
       "  atom := Int64Atom(shape=(), dflt=0)\n",
       "  maindim := 0\n",
       "  flavor := 'numpy'\n",
       "  byteorder := 'little'\n",
       "  chunkshape := None\n",
       "/g1/g2 (Group) ''\n",
       "/g1/g2/g3 (Group) ''\n",
       "/g1/g2/g3/g4 (Group) ''\n",
       "/g1/g2/g3/g4/g5 (Group) ''"
      ]
     },
     "execution_count": 34,
     "metadata": {},
     "output_type": "execute_result"
    }
   ],
   "source": [
    "f"
   ]
  },
  {
   "cell_type": "code",
   "execution_count": 35,
   "metadata": {
    "collapsed": false
   },
   "outputs": [
    {
     "data": {
      "text/plain": [
       "/array2._v_attrs (AttributeSet), 4 attributes:\n",
       "   [CLASS := 'ARRAY',\n",
       "    FLAVOR := 'numpy',\n",
       "    TITLE := '',\n",
       "    VERSION := '2.4']"
      ]
     },
     "execution_count": 35,
     "metadata": {},
     "output_type": "execute_result"
    }
   ],
   "source": [
    "# Print the attrs in /array2\n",
    "f.root.array2.attrs"
   ]
  },
  {
   "cell_type": "code",
   "execution_count": 36,
   "metadata": {
    "collapsed": false
   },
   "outputs": [],
   "source": [
    "# Add a new attribute to /array2\n",
    "f.root.array2.attrs.myattr = \"Hello World!\""
   ]
  },
  {
   "cell_type": "code",
   "execution_count": 37,
   "metadata": {
    "collapsed": false
   },
   "outputs": [
    {
     "data": {
      "text/plain": [
       "/array2._v_attrs (AttributeSet), 5 attributes:\n",
       "   [CLASS := 'ARRAY',\n",
       "    FLAVOR := 'numpy',\n",
       "    TITLE := '',\n",
       "    VERSION := '2.4',\n",
       "    myattr := 'Hello World!']"
      ]
     },
     "execution_count": 37,
     "metadata": {},
     "output_type": "execute_result"
    }
   ],
   "source": [
    "f.root.array2.attrs"
   ]
  },
  {
   "cell_type": "code",
   "execution_count": 38,
   "metadata": {
    "collapsed": false
   },
   "outputs": [
    {
     "name": "stdout",
     "output_type": "stream",
     "text": [
      "/array2 (Array(10,)) ''\r\n",
      "  /array2._v_attrs (AttributeSet), 4 attributes:\r\n",
      "   [CLASS := 'ARRAY',\r\n",
      "    FLAVOR := 'numpy',\r\n",
      "    TITLE := '',\r\n",
      "    VERSION := '2.4']\r\n"
     ]
    }
   ],
   "source": [
    "# Has the modification arrived to disk yet?\n",
    "!ptdump -a atest.h5:/array2"
   ]
  },
  {
   "cell_type": "code",
   "execution_count": 39,
   "metadata": {
    "collapsed": false
   },
   "outputs": [],
   "source": [
    "# Nope, so force a flush\n",
    "f.flush()"
   ]
  },
  {
   "cell_type": "code",
   "execution_count": 40,
   "metadata": {
    "collapsed": false
   },
   "outputs": [
    {
     "name": "stdout",
     "output_type": "stream",
     "text": [
      "/array2 (Array(10,)) ''\r\n",
      "  /array2._v_attrs (AttributeSet), 5 attributes:\r\n",
      "   [CLASS := 'ARRAY',\r\n",
      "    FLAVOR := 'numpy',\r\n",
      "    TITLE := '',\r\n",
      "    VERSION := '2.4',\r\n",
      "    myattr := 'Hello World!']\r\n"
     ]
    }
   ],
   "source": [
    "!ptdump -a atest.h5:/array2"
   ]
  },
  {
   "cell_type": "code",
   "execution_count": 41,
   "metadata": {
    "collapsed": false
   },
   "outputs": [],
   "source": [
    "# Attributes can also be general arrays\n",
    "f.root.array2.attrs.myarray = np.arange(10)\n",
    "f.flush()"
   ]
  },
  {
   "cell_type": "code",
   "execution_count": 42,
   "metadata": {
    "collapsed": false
   },
   "outputs": [
    {
     "name": "stdout",
     "output_type": "stream",
     "text": [
      "/array2 (Array(10,)) ''\r\n",
      "  /array2._v_attrs (AttributeSet), 6 attributes:\r\n",
      "   [CLASS := 'ARRAY',\r\n",
      "    FLAVOR := 'numpy',\r\n",
      "    TITLE := '',\r\n",
      "    VERSION := '2.4',\r\n",
      "    myarray := array([0, 1, 2, 3, 4, 5, 6, 7, 8, 9]),\r\n",
      "    myattr := 'Hello World!']\r\n"
     ]
    }
   ],
   "source": [
    "!ptdump -a atest.h5:/array2"
   ]
  },
  {
   "cell_type": "code",
   "execution_count": 43,
   "metadata": {
    "collapsed": false
   },
   "outputs": [],
   "source": [
    "# Get a shortcut to the attribute handler\n",
    "attrs = f.root.array2.attrs"
   ]
  },
  {
   "cell_type": "code",
   "execution_count": 44,
   "metadata": {
    "collapsed": false
   },
   "outputs": [
    {
     "data": {
      "text/plain": [
       "/array2._v_attrs (AttributeSet), 6 attributes:\n",
       "   [CLASS := 'ARRAY',\n",
       "    FLAVOR := 'numpy',\n",
       "    TITLE := '',\n",
       "    VERSION := '2.4',\n",
       "    myarray := array([0, 1, 2, 3, 4, 5, 6, 7, 8, 9]),\n",
       "    myattr := 'Hello World!']"
      ]
     },
     "execution_count": 44,
     "metadata": {},
     "output_type": "execute_result"
    }
   ],
   "source": [
    "attrs"
   ]
  },
  {
   "cell_type": "code",
   "execution_count": 45,
   "metadata": {
    "collapsed": false
   },
   "outputs": [
    {
     "data": {
      "text/plain": [
       "/array2._v_attrs (AttributeSet), 5 attributes:\n",
       "   [CLASS := 'ARRAY',\n",
       "    FLAVOR := 'numpy',\n",
       "    TITLE := '',\n",
       "    VERSION := '2.4',\n",
       "    myattr := 'Hello World!']"
      ]
     },
     "execution_count": 45,
     "metadata": {},
     "output_type": "execute_result"
    }
   ],
   "source": [
    "# Removing an attribute\n",
    "del attrs.myarray\n",
    "attrs"
   ]
  },
  {
   "cell_type": "code",
   "execution_count": 46,
   "metadata": {
    "collapsed": false
   },
   "outputs": [
    {
     "data": {
      "text/plain": [
       "/array2._v_attrs (AttributeSet), 5 attributes:\n",
       "   [CLASS := 'ARRAY',\n",
       "    FLAVOR := 'numpy',\n",
       "    TITLE := '',\n",
       "    VERSION := '2.4',\n",
       "    myattr := 12.300000000000001]"
      ]
     },
     "execution_count": 46,
     "metadata": {},
     "output_type": "execute_result"
    }
   ],
   "source": [
    "# Adding another one with the same name than an existing one\n",
    "attrs.myattr = 12.3\n",
    "attrs"
   ]
  },
  {
   "cell_type": "code",
   "execution_count": 47,
   "metadata": {
    "collapsed": false
   },
   "outputs": [
    {
     "name": "stdout",
     "output_type": "stream",
     "text": [
      "/group1/array1._v_attrs (AttributeSet), 4 attributes:\n",
      "   [CLASS := 'ARRAY',\n",
      "    FLAVOR := 'numpy',\n",
      "    TITLE := '',\n",
      "    VERSION := '2.4']\n"
     ]
    }
   ],
   "source": [
    "# Print the attributes for all the arrays in the object tree\n",
    "for n in f.walk_nodes(f.root.group1, classname=\"Array\"): print(repr(n.attrs))"
   ]
  },
  {
   "cell_type": "code",
   "execution_count": 48,
   "metadata": {
    "collapsed": false
   },
   "outputs": [],
   "source": [
    "f.close()"
   ]
  },
  {
   "cell_type": "markdown",
   "metadata": {},
   "source": [
    "# Chunked datasets"
   ]
  },
  {
   "cell_type": "code",
   "execution_count": 49,
   "metadata": {
    "collapsed": false
   },
   "outputs": [],
   "source": [
    "f = tb.open_file('ctest.h5', 'w')"
   ]
  },
  {
   "cell_type": "code",
   "execution_count": 50,
   "metadata": {
    "collapsed": false
   },
   "outputs": [
    {
     "data": {
      "text/plain": [
       "/carray (CArray(10000, 1000)) ''\n",
       "  atom := Float64Atom(shape=(), dflt=0.0)\n",
       "  maindim := 0\n",
       "  flavor := 'numpy'\n",
       "  byteorder := 'little'\n",
       "  chunkshape := (16, 1000)"
      ]
     },
     "execution_count": 50,
     "metadata": {},
     "output_type": "execute_result"
    }
   ],
   "source": [
    "# Create a CArray (Compressible Array)\n",
    "f.create_carray(f.root, 'carray', tb.Float64Atom(), (10000,1000))"
   ]
  },
  {
   "cell_type": "code",
   "execution_count": 51,
   "metadata": {
    "collapsed": false
   },
   "outputs": [],
   "source": [
    "# Flush everything to disk\n",
    "f.flush()"
   ]
  },
  {
   "cell_type": "code",
   "execution_count": 52,
   "metadata": {
    "collapsed": false
   },
   "outputs": [
    {
     "name": "stdout",
     "output_type": "stream",
     "text": [
      "-rw-rw-r-- 1 faltet faltet 1,7K oct 14 11:39 ctest.h5\r\n"
     ]
    }
   ],
   "source": [
    "# The container is there, but not the data (yet)\n",
    "!ls -lh ctest.h5"
   ]
  },
  {
   "cell_type": "code",
   "execution_count": 53,
   "metadata": {
    "collapsed": false
   },
   "outputs": [
    {
     "name": "stdout",
     "output_type": "stream",
     "text": [
      "CPU times: user 20 ms, sys: 36 ms, total: 56 ms\n",
      "Wall time: 53.4 ms\n"
     ]
    }
   ],
   "source": [
    "# Push some data into this carray container\n",
    "ca = f.root.carray\n",
    "na = np.linspace(0, 1, 1e7).reshape(10000,1000)\n",
    "%time ca[:] = na"
   ]
  },
  {
   "cell_type": "code",
   "execution_count": 54,
   "metadata": {
    "collapsed": false
   },
   "outputs": [],
   "source": [
    "# Flush the carray container only\n",
    "ca.flush()"
   ]
  },
  {
   "cell_type": "code",
   "execution_count": 55,
   "metadata": {
    "collapsed": false
   },
   "outputs": [
    {
     "name": "stdout",
     "output_type": "stream",
     "text": [
      "-rw-rw-r-- 1 faltet faltet 77M oct 14 11:39 ctest.h5\r\n"
     ]
    }
   ],
   "source": [
    "!ls -lh ctest.h5"
   ]
  },
  {
   "cell_type": "code",
   "execution_count": 56,
   "metadata": {
    "collapsed": false
   },
   "outputs": [
    {
     "data": {
      "text/plain": [
       "76.2939453125"
      ]
     },
     "execution_count": 56,
     "metadata": {},
     "output_type": "execute_result"
    }
   ],
   "source": [
    "np.prod(ca.shape) * ca.dtype.itemsize / 2**20."
   ]
  },
  {
   "cell_type": "code",
   "execution_count": 57,
   "metadata": {
    "collapsed": false
   },
   "outputs": [
    {
     "data": {
      "text/plain": [
       "array([[  0.00000000e+00,   2.00000020e-07,   4.00000040e-07, ...,\n",
       "          9.94000099e-05,   9.96000100e-05,   9.98000100e-05],\n",
       "       [  1.00000010e-04,   1.00200010e-04,   1.00400010e-04, ...,\n",
       "          1.99400020e-04,   1.99600020e-04,   1.99800020e-04],\n",
       "       [  2.00000020e-04,   2.00200020e-04,   2.00400020e-04, ...,\n",
       "          2.99400030e-04,   2.99600030e-04,   2.99800030e-04],\n",
       "       ..., \n",
       "       [  9.70000097e-03,   9.70020097e-03,   9.70040097e-03, ...,\n",
       "          9.79940098e-03,   9.79960098e-03,   9.79980098e-03],\n",
       "       [  9.80000098e-03,   9.80020098e-03,   9.80040098e-03, ...,\n",
       "          9.89940099e-03,   9.89960099e-03,   9.89980099e-03],\n",
       "       [  9.90000099e-03,   9.90020099e-03,   9.90040099e-03, ...,\n",
       "          9.99940100e-03,   9.99960100e-03,   9.99980100e-03]])"
      ]
     },
     "execution_count": 57,
     "metadata": {},
     "output_type": "execute_result"
    }
   ],
   "source": [
    "# Retrieve only part of the data\n",
    "ca[:100,::2]"
   ]
  },
  {
   "cell_type": "code",
   "execution_count": 58,
   "metadata": {
    "collapsed": false
   },
   "outputs": [],
   "source": [
    "f.close()"
   ]
  },
  {
   "cell_type": "markdown",
   "metadata": {},
   "source": [
    "## Using compression (zlib)"
   ]
  },
  {
   "cell_type": "code",
   "execution_count": 59,
   "metadata": {
    "collapsed": false
   },
   "outputs": [],
   "source": [
    "f = tb.open_file('ctest-zlib.h5', 'w')"
   ]
  },
  {
   "cell_type": "code",
   "execution_count": 60,
   "metadata": {
    "collapsed": false
   },
   "outputs": [],
   "source": [
    "# Create a CArray (Compressible Array) using the zlib compressor\n",
    "filters = tb.Filters(complib='zlib', complevel=1)\n",
    "ca = f.create_carray(f.root, 'carray', tb.Float64Atom(), (10000,1000),\n",
    "                     filters=filters)"
   ]
  },
  {
   "cell_type": "code",
   "execution_count": 61,
   "metadata": {
    "collapsed": false
   },
   "outputs": [
    {
     "name": "stdout",
     "output_type": "stream",
     "text": [
      "CPU times: user 328 ms, sys: 8 ms, total: 336 ms\n",
      "Wall time: 336 ms\n"
     ]
    }
   ],
   "source": [
    "# Push some data on this carray container\n",
    "na = np.linspace(0, 1, 1e7).reshape(10000,1000)\n",
    "%time ca[:] = na"
   ]
  },
  {
   "cell_type": "code",
   "execution_count": 62,
   "metadata": {
    "collapsed": false
   },
   "outputs": [
    {
     "name": "stdout",
     "output_type": "stream",
     "text": [
      "-rw-rw-r-- 1 faltet faltet 6,8M oct 14 11:39 ctest-zlib.h5\r\n"
     ]
    }
   ],
   "source": [
    "# Flush the carray container only\n",
    "ca.flush()\n",
    "!ls -lh ctest-zlib.h5"
   ]
  },
  {
   "cell_type": "code",
   "execution_count": 63,
   "metadata": {
    "collapsed": false
   },
   "outputs": [
    {
     "data": {
      "text/plain": [
       "76.2939453125"
      ]
     },
     "execution_count": 63,
     "metadata": {},
     "output_type": "execute_result"
    }
   ],
   "source": [
    "np.prod(ca.shape) * ca.dtype.itemsize / 2**20."
   ]
  },
  {
   "cell_type": "code",
   "execution_count": 64,
   "metadata": {
    "collapsed": false
   },
   "outputs": [],
   "source": [
    "f.close()"
   ]
  },
  {
   "cell_type": "markdown",
   "metadata": {},
   "source": [
    "## Using compression (Blosc)"
   ]
  },
  {
   "cell_type": "code",
   "execution_count": 65,
   "metadata": {
    "collapsed": false
   },
   "outputs": [],
   "source": [
    "f = tb.open_file('ctest-blosc.h5', 'w')"
   ]
  },
  {
   "cell_type": "code",
   "execution_count": 66,
   "metadata": {
    "collapsed": false
   },
   "outputs": [],
   "source": [
    "# Create a CArray (Compressible Array) using the Blosc compressor\n",
    "filters = tb.Filters(complib='blosc:lz4', complevel=9)\n",
    "ca = f.create_carray(f.root, 'carray', tb.Float64Atom(), (10000,1000),\n",
    "                     filters=filters)"
   ]
  },
  {
   "cell_type": "code",
   "execution_count": 67,
   "metadata": {
    "collapsed": false
   },
   "outputs": [
    {
     "name": "stdout",
     "output_type": "stream",
     "text": [
      "CPU times: user 68 ms, sys: 8 ms, total: 76 ms\n",
      "Wall time: 73.5 ms\n"
     ]
    }
   ],
   "source": [
    "# Push some data on this carray container\n",
    "na = np.linspace(0, 1, 1e7).reshape(10000,1000)\n",
    "%time ca[:] = na"
   ]
  },
  {
   "cell_type": "code",
   "execution_count": 68,
   "metadata": {
    "collapsed": false
   },
   "outputs": [
    {
     "name": "stdout",
     "output_type": "stream",
     "text": [
      "-rw-rw-r-- 1 faltet faltet 7,7M oct 14 11:39 ctest-blosc.h5\r\n"
     ]
    }
   ],
   "source": [
    "# Flush the carray container only\n",
    "ca.flush()\n",
    "!ls -lh ctest-blosc.h5"
   ]
  },
  {
   "cell_type": "code",
   "execution_count": 69,
   "metadata": {
    "collapsed": false
   },
   "outputs": [
    {
     "data": {
      "text/plain": [
       "76.2939453125"
      ]
     },
     "execution_count": 69,
     "metadata": {},
     "output_type": "execute_result"
    }
   ],
   "source": [
    "np.prod(ca.shape) * ca.dtype.itemsize / 2**20."
   ]
  },
  {
   "cell_type": "code",
   "execution_count": 70,
   "metadata": {
    "collapsed": false
   },
   "outputs": [],
   "source": [
    "f.close()"
   ]
  },
  {
   "cell_type": "markdown",
   "metadata": {},
   "source": [
    "# Queries in Table objects"
   ]
  },
  {
   "cell_type": "code",
   "execution_count": 71,
   "metadata": {
    "collapsed": false
   },
   "outputs": [],
   "source": [
    "# The description for the tabular data\n",
    "class TabularData(tb.IsDescription):\n",
    "    col1 = tb.StringCol(200)\n",
    "    col2 = tb.IntCol()\n",
    "    col3 = tb.FloatCol()"
   ]
  },
  {
   "cell_type": "code",
   "execution_count": 72,
   "metadata": {
    "collapsed": false
   },
   "outputs": [],
   "source": [
    "# Open a file and create the Table container\n",
    "f = tb.open_file('atable.h5', 'w')\n",
    "t = f.create_table(f.root, 'table', TabularData, 'table title',\n",
    "                   filters=tb.Filters(9, 'blosc'))"
   ]
  },
  {
   "cell_type": "code",
   "execution_count": 73,
   "metadata": {
    "collapsed": false
   },
   "outputs": [
    {
     "data": {
      "text/plain": [
       "/table (Table(0,), shuffle, blosc(9)) 'table title'\n",
       "  description := {\n",
       "  \"col1\": StringCol(itemsize=200, shape=(), dflt=b'', pos=0),\n",
       "  \"col2\": Int32Col(shape=(), dflt=0, pos=1),\n",
       "  \"col3\": Float64Col(shape=(), dflt=0.0, pos=2)}\n",
       "  byteorder := 'little'\n",
       "  chunkshape := (309,)"
      ]
     },
     "execution_count": 73,
     "metadata": {},
     "output_type": "execute_result"
    }
   ],
   "source": [
    "t"
   ]
  },
  {
   "cell_type": "code",
   "execution_count": 74,
   "metadata": {
    "collapsed": false
   },
   "outputs": [
    {
     "name": "stdout",
     "output_type": "stream",
     "text": [
      "CPU times: user 1.54 s, sys: 8 ms, total: 1.54 s\n",
      "Wall time: 1.54 s\n"
     ]
    }
   ],
   "source": [
    "%%time\n",
    "#  Fill the table with some 1 million rows\n",
    "r = t.row\n",
    "for i in range(1000*1000):\n",
    "    r['col1'] = str(i)\n",
    "    r['col2'] = i + 1\n",
    "    r['col3'] = i * (i + 1)\n",
    "    r.append()\n",
    "t.flush()"
   ]
  },
  {
   "cell_type": "code",
   "execution_count": 75,
   "metadata": {
    "collapsed": false
   },
   "outputs": [
    {
     "data": {
      "text/plain": [
       "/table (Table(1000000,), shuffle, blosc(9)) 'table title'\n",
       "  description := {\n",
       "  \"col1\": StringCol(itemsize=200, shape=(), dflt=b'', pos=0),\n",
       "  \"col2\": Int32Col(shape=(), dflt=0, pos=1),\n",
       "  \"col3\": Float64Col(shape=(), dflt=0.0, pos=2)}\n",
       "  byteorder := 'little'\n",
       "  chunkshape := (309,)"
      ]
     },
     "execution_count": 75,
     "metadata": {},
     "output_type": "execute_result"
    }
   ],
   "source": [
    "t"
   ]
  },
  {
   "cell_type": "code",
   "execution_count": 76,
   "metadata": {
    "collapsed": false
   },
   "outputs": [
    {
     "name": "stdout",
     "output_type": "stream",
     "text": [
      "-rw-rw-r-- 1 faltet faltet 4,9M oct 14 11:39 atable.h5\r\n"
     ]
    }
   ],
   "source": [
    "# Size on disk\n",
    "!ls -lh atable.h5"
   ]
  },
  {
   "cell_type": "code",
   "execution_count": 77,
   "metadata": {
    "collapsed": false
   },
   "outputs": [
    {
     "data": {
      "text/plain": [
       "202.178955078125"
      ]
     },
     "execution_count": 77,
     "metadata": {},
     "output_type": "execute_result"
    }
   ],
   "source": [
    "# Real size\n",
    "np.prod(t.shape) * t.dtype.itemsize / 2**20."
   ]
  },
  {
   "cell_type": "code",
   "execution_count": 78,
   "metadata": {
    "collapsed": false
   },
   "outputs": [
    {
     "name": "stdout",
     "output_type": "stream",
     "text": [
      "CPU times: user 232 ms, sys: 8 ms, total: 240 ms\n",
      "Wall time: 236 ms\n"
     ]
    },
    {
     "data": {
      "text/plain": [
       "[b'0', b'1', b'2', b'3']"
      ]
     },
     "execution_count": 78,
     "metadata": {},
     "output_type": "execute_result"
    }
   ],
   "source": [
    "# Do a query (regular)\n",
    "%time [r['col1'] for r in t if r['col2'] < 5]"
   ]
  },
  {
   "cell_type": "code",
   "execution_count": 79,
   "metadata": {
    "collapsed": false
   },
   "outputs": [
    {
     "name": "stdout",
     "output_type": "stream",
     "text": [
      "CPU times: user 176 ms, sys: 8 ms, total: 184 ms\n",
      "Wall time: 174 ms\n"
     ]
    },
    {
     "data": {
      "text/plain": [
       "[b'0', b'1', b'2', b'3']"
      ]
     },
     "execution_count": 79,
     "metadata": {},
     "output_type": "execute_result"
    }
   ],
   "source": [
    "# Repeat the query, but using in-kernel method\n",
    "%time [r['col1'] for r in t.where('col2 < 5')]"
   ]
  },
  {
   "cell_type": "code",
   "execution_count": 80,
   "metadata": {
    "collapsed": false
   },
   "outputs": [
    {
     "name": "stdout",
     "output_type": "stream",
     "text": [
      "CPU times: user 228 ms, sys: 0 ns, total: 228 ms\n",
      "Wall time: 229 ms\n"
     ]
    },
    {
     "data": {
      "text/plain": [
       "[b'0', b'1', b'2']"
      ]
     },
     "execution_count": 80,
     "metadata": {},
     "output_type": "execute_result"
    }
   ],
   "source": [
    "# Performing complex conditions (regular query)\n",
    "%time [r['col1'] for r in t if r['col2'] < 5 and r['col3'] < 10]"
   ]
  },
  {
   "cell_type": "code",
   "execution_count": 81,
   "metadata": {
    "collapsed": false
   },
   "outputs": [
    {
     "name": "stdout",
     "output_type": "stream",
     "text": [
      "CPU times: user 144 ms, sys: 8 ms, total: 152 ms\n",
      "Wall time: 141 ms\n"
     ]
    },
    {
     "data": {
      "text/plain": [
       "[b'0', b'1', b'2']"
      ]
     },
     "execution_count": 81,
     "metadata": {},
     "output_type": "execute_result"
    }
   ],
   "source": [
    "# Complex, in-kernel queries\n",
    "%time [r['col1'] for r in t.where('(col2 < 5) & (col3 < 10)')]"
   ]
  },
  {
   "cell_type": "code",
   "execution_count": 82,
   "metadata": {
    "collapsed": false
   },
   "outputs": [
    {
     "data": {
      "text/plain": [
       "array([(b'0', 1, 0.0), (b'1', 2, 2.0), (b'2', 3, 6.0), ...,\n",
       "       (b'999997', 999998, 999995000006.0),\n",
       "       (b'999998', 999999, 999997000002.0),\n",
       "       (b'999999', 1000000, 999999000000.0)], \n",
       "      dtype=[('col1', 'S200'), ('col2', '<i4'), ('col3', '<f8')])"
      ]
     },
     "execution_count": 82,
     "metadata": {},
     "output_type": "execute_result"
    }
   ],
   "source": [
    "# Get a structured array out of disk\n",
    "sa = t[:]\n",
    "sa"
   ]
  },
  {
   "cell_type": "code",
   "execution_count": 83,
   "metadata": {
    "collapsed": false
   },
   "outputs": [
    {
     "name": "stdout",
     "output_type": "stream",
     "text": [
      "CPU times: user 20 ms, sys: 4 ms, total: 24 ms\n",
      "Wall time: 21.9 ms\n"
     ]
    },
    {
     "data": {
      "text/plain": [
       "array([b'0', b'1', b'2'], \n",
       "      dtype='|S200')"
      ]
     },
     "execution_count": 83,
     "metadata": {},
     "output_type": "execute_result"
    }
   ],
   "source": [
    "# Perform the query in-memory using pure NumPy machinery \n",
    "%time sa[((sa['col2'] < 5) & (sa['col3'] < 10))]['col1']"
   ]
  },
  {
   "cell_type": "code",
   "execution_count": 84,
   "metadata": {
    "collapsed": false
   },
   "outputs": [
    {
     "name": "stdout",
     "output_type": "stream",
     "text": [
      "CPU times: user 420 ms, sys: 24 ms, total: 444 ms\n",
      "Wall time: 446 ms\n"
     ]
    },
    {
     "data": {
      "text/plain": [
       "1000000"
      ]
     },
     "execution_count": 84,
     "metadata": {},
     "output_type": "execute_result"
    }
   ],
   "source": [
    "# Create an index for the on-disk table\n",
    "%time t.cols.col2.create_csindex()"
   ]
  },
  {
   "cell_type": "code",
   "execution_count": 85,
   "metadata": {
    "collapsed": false
   },
   "outputs": [
    {
     "name": "stdout",
     "output_type": "stream",
     "text": [
      "CPU times: user 8 ms, sys: 0 ns, total: 8 ms\n",
      "Wall time: 5.1 ms\n"
     ]
    },
    {
     "data": {
      "text/plain": [
       "[b'0', b'1', b'2']"
      ]
     },
     "execution_count": 85,
     "metadata": {},
     "output_type": "execute_result"
    }
   ],
   "source": [
    "# Repeat the complex query (indexed)\n",
    "%time [r['col1'] for r in t.where('(col2 < 5) & (col3 < 10)')]"
   ]
  },
  {
   "cell_type": "markdown",
   "metadata": {},
   "source": [
    "Indexing normally offers the best speed for doing queries."
   ]
  },
  {
   "cell_type": "code",
   "execution_count": 86,
   "metadata": {
    "collapsed": false
   },
   "outputs": [],
   "source": [
    "f.close()"
   ]
  },
  {
   "cell_type": "markdown",
   "metadata": {},
   "source": [
    "# Out of Core computations"
   ]
  },
  {
   "cell_type": "code",
   "execution_count": 87,
   "metadata": {
    "collapsed": false
   },
   "outputs": [],
   "source": [
    "# Open file for performing out of core computation\n",
    "f = tb.open_file('poly.h5', 'w')"
   ]
  },
  {
   "cell_type": "code",
   "execution_count": 88,
   "metadata": {
    "collapsed": false
   },
   "outputs": [
    {
     "name": "stdout",
     "output_type": "stream",
     "text": [
      "CPU times: user 180 ms, sys: 8 ms, total: 188 ms\n",
      "Wall time: 185 ms\n"
     ]
    }
   ],
   "source": [
    "%%time\n",
    "# Fill values for the x values\n",
    "x = f.create_earray(f.root, 'x', tb.Float64Atom(), (0,), filters=tb.Filters(9, 'blosc'))\n",
    "for s in range(10):\n",
    "    x.append(np.linspace(s, s+1, 1e6))\n",
    "x.flush()  # dump data to disk"
   ]
  },
  {
   "cell_type": "code",
   "execution_count": 89,
   "metadata": {
    "collapsed": false
   },
   "outputs": [],
   "source": [
    "# Create the expression to compute\n",
    "expr = tb.Expr(\"0.25*x**3 + 0.75*x**2 + 1.5*x - 2\")"
   ]
  },
  {
   "cell_type": "code",
   "execution_count": 90,
   "metadata": {
    "collapsed": false
   },
   "outputs": [],
   "source": [
    "# Create the output vector y\n",
    "y = f.create_carray(f.root, 'y', tb.Float64Atom(), (len(x),),\n",
    "                    filters=tb.Filters(5, 'blosc'))"
   ]
  },
  {
   "cell_type": "code",
   "execution_count": 91,
   "metadata": {
    "collapsed": false
   },
   "outputs": [],
   "source": [
    "# Specify that the ouput of the expression has to go to y on disk\n",
    "expr.set_output(y)"
   ]
  },
  {
   "cell_type": "code",
   "execution_count": 92,
   "metadata": {
    "collapsed": false
   },
   "outputs": [
    {
     "name": "stdout",
     "output_type": "stream",
     "text": [
      "CPU times: user 292 ms, sys: 24 ms, total: 316 ms\n",
      "Wall time: 254 ms\n"
     ]
    },
    {
     "data": {
      "text/plain": [
       "/y (CArray(10000000,), shuffle, blosc(5)) ''\n",
       "  atom := Float64Atom(shape=(), dflt=0.0)\n",
       "  maindim := 0\n",
       "  flavor := 'numpy'\n",
       "  byteorder := 'little'\n",
       "  chunkshape := (16384,)"
      ]
     },
     "execution_count": 92,
     "metadata": {},
     "output_type": "execute_result"
    }
   ],
   "source": [
    "# Evaluate!\n",
    "%time expr.eval()"
   ]
  },
  {
   "cell_type": "code",
   "execution_count": 93,
   "metadata": {
    "collapsed": false
   },
   "outputs": [
    {
     "data": {
      "text/plain": [
       "[<matplotlib.lines.Line2D at 0x7f8a9767a908>]"
      ]
     },
     "execution_count": 93,
     "metadata": {},
     "output_type": "execute_result"
    },
    {
     "data": {
      "image/png": "[encoded data removed]",
      "text/plain": [
       "<matplotlib.figure.Figure at 0x7f8aa01629e8>"
      ]
     },
     "metadata": {},
     "output_type": "display_data"
    }
   ],
   "source": [
    "# Do a plot of the computed polynomial\n",
    "%matplotlib inline\n",
    "import matplotlib.pyplot as plt\n",
    "xn = f.root.x[:]\n",
    "yn = f.root.y[:]\n",
    "plt.plot(xn, yn)"
   ]
  },
  {
   "cell_type": "code",
   "execution_count": 94,
   "metadata": {
    "collapsed": false
   },
   "outputs": [
    {
     "name": "stdout",
     "output_type": "stream",
     "text": [
      "-rw-rw-r-- 1 faltet faltet 59M oct 14 11:39 poly.h5\r\n"
     ]
    }
   ],
   "source": [
    "f.flush()\n",
    "!ls -lh poly.h5"
   ]
  },
  {
   "cell_type": "code",
   "execution_count": 95,
   "metadata": {
    "collapsed": false
   },
   "outputs": [
    {
     "name": "stdout",
     "output_type": "stream",
     "text": [
      "/ (RootGroup) ''\r\n",
      "/x (EArray(10000000,), shuffle, blosc(9)) ''\r\n",
      "  atom := Float64Atom(shape=(), dflt=0.0)\r\n",
      "  maindim := 0\r\n",
      "  flavor := 'numpy'\r\n",
      "  byteorder := 'little'\r\n",
      "  chunkshape := (8192,)\r\n",
      "/y (CArray(10000000,), shuffle, blosc(5)) ''\r\n",
      "  atom := Float64Atom(shape=(), dflt=0.0)\r\n",
      "  maindim := 0\r\n",
      "  flavor := 'numpy'\r\n",
      "  byteorder := 'little'\r\n",
      "  chunkshape := (16384,)\r\n"
     ]
    }
   ],
   "source": [
    "!ptdump -v poly.h5"
   ]
  },
  {
   "cell_type": "code",
   "execution_count": 96,
   "metadata": {
    "collapsed": false
   },
   "outputs": [
    {
     "name": "stdout",
     "output_type": "stream",
     "text": [
      "CPU times: user 692 ms, sys: 44 ms, total: 736 ms\n",
      "Wall time: 736 ms\n"
     ]
    }
   ],
   "source": [
    "# Compare with the time for doing this in-memory with NumPy\n",
    "%time yn2 = 0.25*xn**3 + 0.75*xn**2 + 1.5*xn - 2"
   ]
  },
  {
   "cell_type": "code",
   "execution_count": 97,
   "metadata": {
    "collapsed": false
   },
   "outputs": [
    {
     "data": {
      "text/plain": [
       "True"
      ]
     },
     "execution_count": 97,
     "metadata": {},
     "output_type": "execute_result"
    }
   ],
   "source": [
    "# All the values are the same?\n",
    "np.allclose(yn, yn2)"
   ]
  },
  {
   "cell_type": "code",
   "execution_count": 98,
   "metadata": {
    "collapsed": false
   },
   "outputs": [],
   "source": [
    "f.close()"
   ]
  },
  {
   "cell_type": "markdown",
   "metadata": {},
   "source": [
    "# Exercise"
   ]
  },
  {
   "cell_type": "markdown",
   "metadata": {},
   "source": [
    "Provided the next code for doing a downsampling of an image in-memory:"
   ]
  },
  {
   "cell_type": "code",
   "execution_count": 99,
   "metadata": {
    "collapsed": false
   },
   "outputs": [],
   "source": [
    "import numba\n",
    "\n",
    "@numba.autojit\n",
    "def mymean(x):\n",
    "    xs, ys = x.shape\n",
    "    factor = 1. * xs * ys   # notice the 1. for forcing a float!\n",
    "    s = 0.\n",
    "    for i in range(xs):\n",
    "        for j in range(ys):\n",
    "            s += x[i,j] / factor\n",
    "    return s\n",
    "\n",
    "@numba.autojit\n",
    "def downsample_numba2(x, cell):\n",
    "    c0, c1 = cell\n",
    "    yshape = (x.shape[0] // c0, x.shape[1] // c1)\n",
    "    y = np.empty(yshape, x.dtype)\n",
    "    for i in range(y.shape[0]):\n",
    "        for j in range(y.shape[1]):\n",
    "            y[i, j] = mymean(x[i*c0:(i+1)*c0,j*c1:(j+1)*c1])\n",
    "    return y"
   ]
  },
  {
   "cell_type": "markdown",
   "metadata": {},
   "source": [
    "Adapt it to create a new function that takes an HDF5 bi-dimensional dataset (that can be considered as an image) and create another HDF5 dataset with the result of the downsampled image.  Use the '/BLR/mau' in the [HDF5 sample file](../data/ic_dst_NEXT_v0_08_02_Kr_ACTIVE_0_0_5bar_MCRD_10000.root.h5).\n",
    "\n",
    "** Note: ** You should try to avoid loading the complete image in-memory.  Do that only chunk-by-chunk (or, in this case, cell-by-cell).\n",
    "\n",
    "** Hint: ** As output use a CArray object (because you know the resulting dimensions beforehand).  See the documentation for the [CArray constructor](http://pytables.github.io/usersguide/libref/homogenous_storage.html#the-carray-class).\n",
    "\n",
    "** Bonus: ** Try to optimize the conversion time by computing a downsampled row at a time and storing it in one shot."
   ]
  },
  {
   "cell_type": "code",
   "execution_count": null,
   "metadata": {
    "collapsed": false
   },
   "outputs": [],
   "source": []
  }
 ],
 "metadata": {
  "anaconda-cloud": {},
  "kernelspec": {
   "display_name": "Python [default]",
   "language": "python",
   "name": "python3"
  },
  "language_info": {
   "codemirror_mode": {
    "name": "ipython",
    "version": 3
   },
   "file_extension": ".py",
   "mimetype": "text/x-python",
   "name": "python",
   "nbconvert_exporter": "python",
   "pygments_lexer": "ipython3",
   "version": "3.5.2"
  }
 },
 "nbformat": 4,
 "nbformat_minor": 0
}
