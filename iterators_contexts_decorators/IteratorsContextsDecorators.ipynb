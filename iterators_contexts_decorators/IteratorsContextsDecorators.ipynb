{
 "cells": [
  {
   "cell_type": "markdown",
   "metadata": {},
   "source": [
    "# Intermediate Python"
   ]
  },
  {
   "cell_type": "markdown",
   "metadata": {},
   "source": [
    "## Iterators"
   ]
  },
  {
   "cell_type": "markdown",
   "metadata": {},
   "source": [
    "An iterator is an object that enables a programmer to traverse a data container (similar to a database cursor).\n"
   ]
  },
  {
   "cell_type": "code",
   "execution_count": 1,
   "metadata": {
    "collapsed": false
   },
   "outputs": [
    {
     "name": "stdout",
     "output_type": "stream",
     "text": [
      "1\n",
      "3\n",
      "2\n"
     ]
    }
   ],
   "source": [
    "for value in [1,3,2]:\n",
    "    print(value)"
   ]
  },
  {
   "cell_type": "markdown",
   "metadata": {},
   "source": [
    "An iterator can be useful in some situations, namely:\n",
    "\n",
    "* To process data structures with no or slow random access, like trees or on-disk data.\n",
    "\n",
    "* Iterators can provide a consistent way to iterate on data structures of all kinds, and therefore make the code more readable, reusable, and less sensitive to a change in the data structure.\n"
   ]
  },
  {
   "cell_type": "markdown",
   "metadata": {},
   "source": [
    "A typical use of an iterator is to create lists using the `comprehension list` constructor:"
   ]
  },
  {
   "cell_type": "code",
   "execution_count": 2,
   "metadata": {
    "collapsed": false
   },
   "outputs": [
    {
     "data": {
      "text/plain": [
       "[1, 2, 4, 5, 7, 8]"
      ]
     },
     "execution_count": 2,
     "metadata": {},
     "output_type": "execute_result"
    }
   ],
   "source": [
    "[i for i in range(10) if i % 3]"
   ]
  },
  {
   "cell_type": "code",
   "execution_count": 3,
   "metadata": {
    "collapsed": false
   },
   "outputs": [
    {
     "data": {
      "text/plain": [
       "array([1, 2, 4, 5, 7, 8], dtype=int32)"
      ]
     },
     "execution_count": 3,
     "metadata": {},
     "output_type": "execute_result"
    }
   ],
   "source": [
    "import numpy as np\n",
    "np.array([i for i in range(10) if i % 3], dtype='int32')"
   ]
  },
  {
   "cell_type": "markdown",
   "metadata": {},
   "source": [
    "## Generators"
   ]
  },
  {
   "cell_type": "markdown",
   "metadata": {},
   "source": [
    "Iterators can be used to create other structures without an intermediate container.  Let's see how we can use a generator (an implementation of an iterator) for doing this:"
   ]
  },
  {
   "cell_type": "code",
   "execution_count": 4,
   "metadata": {
    "collapsed": false
   },
   "outputs": [
    {
     "data": {
      "text/plain": [
       "<generator object <genexpr> at 0x109c78a98>"
      ]
     },
     "execution_count": 4,
     "metadata": {},
     "output_type": "execute_result"
    }
   ],
   "source": [
    "(i for i in range(10) if i % 3)"
   ]
  },
  {
   "cell_type": "code",
   "execution_count": 5,
   "metadata": {
    "collapsed": false
   },
   "outputs": [
    {
     "data": {
      "text/plain": [
       "array([1, 2, 4, 5, 7, 8], dtype=int32)"
      ]
     },
     "execution_count": 5,
     "metadata": {},
     "output_type": "execute_result"
    }
   ],
   "source": [
    "np.fromiter((i for i in range(10) if i % 3), dtype='int32')"
   ]
  },
  {
   "cell_type": "markdown",
   "metadata": {},
   "source": [
    "Note how in this case we don't need an intermediate list so as to create a NumPy array out of the iterator."
   ]
  },
  {
   "cell_type": "markdown",
   "metadata": {},
   "source": [
    "### Example"
   ]
  },
  {
   "cell_type": "code",
   "execution_count": 6,
   "metadata": {
    "collapsed": false
   },
   "outputs": [],
   "source": [
    "# Generate a range of floating point numbers \n",
    "def frange(fmin, fmax, divisions):\n",
    "    delta = (fmax - fmin) / divisions\n",
    "    x = fmin\n",
    "    for i in range(divisions):\n",
    "        yield x\n",
    "        x += delta"
   ]
  },
  {
   "cell_type": "code",
   "execution_count": 7,
   "metadata": {
    "collapsed": false
   },
   "outputs": [
    {
     "data": {
      "text/plain": [
       "[0, 0.5, 1.0, 1.5, 2.0, 2.5, 3.0, 3.5, 4.0, 4.5]"
      ]
     },
     "execution_count": 7,
     "metadata": {},
     "output_type": "execute_result"
    }
   ],
   "source": [
    "[f for f in frange(0,5,10)]   # why the result?"
   ]
  },
  {
   "cell_type": "code",
   "execution_count": 8,
   "metadata": {
    "collapsed": false
   },
   "outputs": [
    {
     "data": {
      "text/plain": [
       "[0.0, 0.5, 1.0, 1.5, 2.0, 2.5, 3.0, 3.5, 4.0, 4.5]"
      ]
     },
     "execution_count": 8,
     "metadata": {},
     "output_type": "execute_result"
    }
   ],
   "source": [
    "[f for f in frange(0.,5,10)]  # the intended outcome"
   ]
  },
  {
   "cell_type": "markdown",
   "metadata": {},
   "source": [
    "Generators are typically faster than comprehension lists (and takes less memory!):"
   ]
  },
  {
   "cell_type": "code",
   "execution_count": 9,
   "metadata": {
    "collapsed": false
   },
   "outputs": [
    {
     "name": "stdout",
     "output_type": "stream",
     "text": [
      "In [9] used 0.016 MiB RAM in 0.001s, peaked 0.000 MiB above current, total RAM usage 39.453 MiB\n"
     ]
    }
   ],
   "source": [
    "from ipython_memwatcher import MemWatcher\n",
    "mw = MemWatcher()\n",
    "mw.start_watching_memory()"
   ]
  },
  {
   "cell_type": "code",
   "execution_count": 19,
   "metadata": {
    "collapsed": false
   },
   "outputs": [
    {
     "name": "stdout",
     "output_type": "stream",
     "text": [
      "In [19] used -8.504 MiB RAM in 0.269s, peaked 0.000 MiB above current, total RAM usage 53.906 MiB\n"
     ]
    }
   ],
   "source": [
    "arr2 = np.fromiter((f for f in frange(0.,5.,int(1e6))), dtype='f8')"
   ]
  },
  {
   "cell_type": "code",
   "execution_count": 20,
   "metadata": {
    "collapsed": false
   },
   "outputs": [
    {
     "name": "stdout",
     "output_type": "stream",
     "text": [
      "In [20] used 9.391 MiB RAM in 0.287s, peaked 13.215 MiB above current, total RAM usage 63.297 MiB\n"
     ]
    }
   ],
   "source": [
    "arr1 = np.fromiter([f for f in frange(0.,5.,int(1e6))], dtype='f8')"
   ]
  },
  {
   "cell_type": "markdown",
   "metadata": {},
   "source": [
    "Although the fastest is always use embedded C code (if you can!):"
   ]
  },
  {
   "cell_type": "code",
   "execution_count": 21,
   "metadata": {
    "collapsed": false
   },
   "outputs": [
    {
     "name": "stdout",
     "output_type": "stream",
     "text": [
      "In [21] used 13.953 MiB RAM in 0.015s, peaked 0.000 MiB above current, total RAM usage 77.250 MiB\n"
     ]
    }
   ],
   "source": [
    "arr3 = np.linspace(0, 5, 1e6, endpoint=False)"
   ]
  },
  {
   "cell_type": "code",
   "execution_count": 22,
   "metadata": {
    "collapsed": false
   },
   "outputs": [
    {
     "data": {
      "text/plain": [
       "(True, True)"
      ]
     },
     "execution_count": 22,
     "metadata": {},
     "output_type": "execute_result"
    },
    {
     "name": "stdout",
     "output_type": "stream",
     "text": [
      "In [22] used 14.047 MiB RAM in 0.074s, peaked 0.000 MiB above current, total RAM usage 91.297 MiB\n"
     ]
    }
   ],
   "source": [
    "np.allclose(arr1, arr2), np.allclose(arr1, arr3)"
   ]
  },
  {
   "cell_type": "markdown",
   "metadata": {},
   "source": [
    "Generators are also useful in reductions:"
   ]
  },
  {
   "cell_type": "code",
   "execution_count": 23,
   "metadata": {
    "collapsed": false
   },
   "outputs": [
    {
     "data": {
      "text/plain": [
       "2499997.4999724193"
      ]
     },
     "execution_count": 23,
     "metadata": {},
     "output_type": "execute_result"
    },
    {
     "name": "stdout",
     "output_type": "stream",
     "text": [
      "In [23] used -23.656 MiB RAM in 0.230s, peaked 35.730 MiB above current, total RAM usage 67.641 MiB\n"
     ]
    }
   ],
   "source": [
    "sum([f for f in frange(0.,5.,int(1e6))])"
   ]
  },
  {
   "cell_type": "code",
   "execution_count": 24,
   "metadata": {
    "collapsed": false
   },
   "outputs": [
    {
     "data": {
      "text/plain": [
       "2499997.4999724193"
      ]
     },
     "execution_count": 24,
     "metadata": {},
     "output_type": "execute_result"
    },
    {
     "name": "stdout",
     "output_type": "stream",
     "text": [
      "In [24] used -0.250 MiB RAM in 0.230s, peaked 0.000 MiB above current, total RAM usage 67.391 MiB\n"
     ]
    }
   ],
   "source": [
    "sum((f for f in frange(0.,5.,int(1e6))))"
   ]
  },
  {
   "cell_type": "code",
   "execution_count": 26,
   "metadata": {
    "collapsed": true
   },
   "outputs": [],
   "source": [
    "mw.stop_watching_memory()"
   ]
  },
  {
   "cell_type": "markdown",
   "metadata": {},
   "source": [
    "### Exercise"
   ]
  },
  {
   "cell_type": "markdown",
   "metadata": {},
   "source": [
    "Study the generator below and suggest an efficient way to render the image with NumPy/matplotlib."
   ]
  },
  {
   "cell_type": "code",
   "execution_count": 52,
   "metadata": {
    "collapsed": false
   },
   "outputs": [],
   "source": [
    "# Make a plot of the mandelbrot set\n",
    "\n",
    "# Test a given x,y coordinate to see if it's a member of the set\n",
    "def in_mandelbrot(x0, y0, n):\n",
    "    x = 0\n",
    "    y = 0\n",
    "    while n > 0:\n",
    "        xtemp = x * x - y * y + x0\n",
    "        y = 2 * x * y + y0\n",
    "        x = xtemp\n",
    "        n -= 1\n",
    "        if x * x + y * y > 4: return False\n",
    "    return True\n",
    "\n",
    "# Generate a range of floating point numbers \n",
    "def frange(xmin,xmax,ymin, ymax, xdivisions, ydivisions):\n",
    "    deltax = (xmax - xmin)/xdivisions\n",
    "    deltay = (ymax - ymin)/ydivisions\n",
    "    x = xmin\n",
    "    for i in range(xdivisions):\n",
    "        y = ymin\n",
    "        for j in range(ydivisions):\n",
    "            yield x,y\n",
    "            y += deltay\n",
    "        x += deltax\n",
    "        \n",
    "\n",
    "# Generate all of the pixels of the mandelbrot set.  The output of\n",
    "# this function is a sequence of rows.  Each row is a sequence of\n",
    "# True/False values indicating whether or not a point is a member\n",
    "# of the set or not. Note: This is using generators and generator\n",
    "# expressions to produce all of the pixels without ever allocating\n",
    "# a huge array of pixels in memory. \n",
    "def generate_mandel(xmin=-2.0, ymin=-1.5, width=3.0, height=3.0, pixels=128, n=400):\n",
    "    for x,y in frange(xmin, xmin+width, ymin, ymin + height, pixels, pixels):\n",
    "        yield in_mandelbrot(x, y, n)\n"
   ]
  },
  {
   "cell_type": "markdown",
   "metadata": {},
   "source": [
    "### Solution"
   ]
  },
  {
   "cell_type": "code",
   "execution_count": 59,
   "metadata": {
    "collapsed": false
   },
   "outputs": [
    {
     "data": {
      "text/plain": [
       "<matplotlib.image.AxesImage at 0x10c63b780>"
      ]
     },
     "execution_count": 59,
     "metadata": {},
     "output_type": "execute_result"
    },
    {
     "data": {
      "image/png": "[encoded data removed]",
      "text/plain": [
       "<matplotlib.figure.Figure at 0x10cf97518>"
      ]
     },
     "metadata": {},
     "output_type": "display_data"
    }
   ],
   "source": [
    "import matplotlib as mpl\n",
    "import matplotlib.pyplot as plt\n",
    "import numpy as np\n",
    "%matplotlib inline\n",
    "\n",
    "a = np.fromiter( (i for i in generate_mandel()), dtype=bool).reshape(128,128).T\n",
    "plt.imshow(a)\n",
    "    "
   ]
  },
  {
   "cell_type": "markdown",
   "metadata": {},
   "source": [
    "## Context managers"
   ]
  },
  {
   "cell_type": "markdown",
   "metadata": {},
   "source": [
    "Python’s with statement was first introduced five years ago, in Python 2.5. It’s handy when you have two related operations which you’d like to execute as a pair, with a block of code in between. The classic example is opening a file, manipulating the file, then closing it:"
   ]
  },
  {
   "cell_type": "code",
   "execution_count": 60,
   "metadata": {
    "collapsed": false
   },
   "outputs": [
    {
     "name": "stdout",
     "output_type": "stream",
     "text": [
      "Hi there!"
     ]
    }
   ],
   "source": [
    "# The context manager is here:\n",
    "with open('output.txt', 'w') as f:\n",
    "    f.write('Hi there!')\n",
    "! cat 'output.txt'"
   ]
  },
  {
   "cell_type": "markdown",
   "metadata": {},
   "source": [
    "Note how the `f` handler is opened only within the scope of the context manager.  After that is closed:"
   ]
  },
  {
   "cell_type": "code",
   "execution_count": 61,
   "metadata": {
    "collapsed": false
   },
   "outputs": [
    {
     "data": {
      "text/plain": [
       "<_io.TextIOWrapper name='output.txt' mode='w' encoding='UTF-8'>"
      ]
     },
     "execution_count": 61,
     "metadata": {},
     "output_type": "execute_result"
    }
   ],
   "source": [
    "f"
   ]
  },
  {
   "cell_type": "markdown",
   "metadata": {},
   "source": [
    "## Decorators"
   ]
  },
  {
   "cell_type": "markdown",
   "metadata": {},
   "source": [
    "*Using* decorators is easy! ...but writing them can be complicated.  I'll concentrate on usage, but the concept is powerful, so you may want to get more info about writing them."
   ]
  },
  {
   "cell_type": "markdown",
   "metadata": {},
   "source": [
    "### Example"
   ]
  },
  {
   "cell_type": "code",
   "execution_count": 62,
   "metadata": {
    "collapsed": false
   },
   "outputs": [],
   "source": [
    "import collections\n",
    "import functools\n",
    "\n",
    "class memoized(object):\n",
    "   '''Decorator. Caches a function's return value each time it is called.\n",
    "   \n",
    "   If called later with the same arguments, the cached value is returned\n",
    "   (not reevaluated).\n",
    "   '''\n",
    "   \n",
    "   def __init__(self, func):\n",
    "      self.func = func\n",
    "      self.cache = {}\n",
    "\n",
    "   def __call__(self, *args):\n",
    "      if not isinstance(args, collections.Hashable):\n",
    "         # uncacheable. a list, for instance.\n",
    "         # better to not cache than blow up.\n",
    "         return self.func(*args)\n",
    "      if args in self.cache:\n",
    "         return self.cache[args]\n",
    "      else:\n",
    "         value = self.func(*args)\n",
    "         self.cache[args] = value\n",
    "         return value\n",
    "\n",
    "   def __repr__(self):\n",
    "      '''Return the function's docstring.'''\n",
    "      return self.func.__doc__\n",
    "\n",
    "   def __get__(self, obj, objtype):\n",
    "      '''Support instance methods.'''\n",
    "      return functools.partial(self.__call__, obj)\n",
    "\n",
    "@memoized\n",
    "def fibonacci(n):\n",
    "   \"Return the nth fibonacci number.\"\n",
    "   if n in (0, 1):\n",
    "      return n\n",
    "   return fibonacci(n-1) + fibonacci(n-2)"
   ]
  },
  {
   "cell_type": "code",
   "execution_count": 63,
   "metadata": {
    "collapsed": false
   },
   "outputs": [
    {
     "name": "stdout",
     "output_type": "stream",
     "text": [
      "144\n"
     ]
    }
   ],
   "source": [
    "print(fibonacci(12))"
   ]
  },
  {
   "cell_type": "code",
   "execution_count": 64,
   "metadata": {
    "collapsed": false
   },
   "outputs": [
    {
     "name": "stdout",
     "output_type": "stream",
     "text": [
      "CPU times: user 867 µs, sys: 208 µs, total: 1.07 ms\n",
      "Wall time: 1.1 ms\n"
     ]
    },
    {
     "data": {
      "text/plain": [
       "659034621587630041982498215"
      ]
     },
     "execution_count": 64,
     "metadata": {},
     "output_type": "execute_result"
    }
   ],
   "source": [
    "%time fibonacci(130)"
   ]
  },
  {
   "cell_type": "code",
   "execution_count": 65,
   "metadata": {
    "collapsed": false
   },
   "outputs": [
    {
     "name": "stdout",
     "output_type": "stream",
     "text": [
      "CPU times: user 85 µs, sys: 1e+03 ns, total: 86 µs\n",
      "Wall time: 88.9 µs\n"
     ]
    },
    {
     "data": {
      "text/plain": [
       "81055900096023504197206408605"
      ]
     },
     "execution_count": 65,
     "metadata": {},
     "output_type": "execute_result"
    }
   ],
   "source": [
    "%time fibonacci(140)"
   ]
  },
  {
   "cell_type": "markdown",
   "metadata": {},
   "source": [
    "### Exercise"
   ]
  },
  {
   "cell_type": "markdown",
   "metadata": {},
   "source": [
    "Decorate the `in_mandelbrot()` function above with the @numba.autojit decorator (`import numba` first) and repeat the computations.  How much they accelerate?"
   ]
  },
  {
   "cell_type": "markdown",
   "metadata": {},
   "source": [
    "## Packaging for distribution"
   ]
  },
  {
   "cell_type": "markdown",
   "metadata": {},
   "source": [
    "Packaging is normally made through [distutils](http://docs.python.org/2/distutils/introduction.html) and is a matter of building a 'setup.py' file.  For example, let's suppose that we want to pack or new mandebrot module to send it to a friend:"
   ]
  },
  {
   "cell_type": "code",
   "execution_count": 67,
   "metadata": {
    "collapsed": false
   },
   "outputs": [
    {
     "name": "stdout",
     "output_type": "stream",
     "text": [
      "Writing mandelbrot.py\n"
     ]
    }
   ],
   "source": [
    "%%file mandelbrot.py\n",
    "\n",
    "# Make a plot of the mandelbrot set\n",
    "import numpy as np\n",
    "from matplotlib import pylab as plt\n",
    "from matplotlib import cm\n",
    "\n",
    "# Test a given x,y coordinate to see if it's a member of the set\n",
    "def in_mandelbrot(x0, y0, n):\n",
    "    x = 0\n",
    "    y = 0\n",
    "    while n > 0:\n",
    "        xtemp = x * x - y * y + x0\n",
    "        y = 2 * x * y + y0\n",
    "        x = xtemp\n",
    "        n -= 1\n",
    "        if x * x + y * y > 4:\n",
    "            return False\n",
    "    return True\n",
    "\n",
    "# Generate a range of floating point numbers \n",
    "def frange(fmin,fmax,divisions):\n",
    "    delta = (fmax - fmin)/divisions\n",
    "    x = fmin\n",
    "    for i in range(divisions):\n",
    "        yield x\n",
    "        x += delta\n",
    "\n",
    "# Generate all of the pixels of the mandelbrot set.  The output of\n",
    "# this function is a sequence of rows.  Each row is a sequence of\n",
    "# True/False values indicating whether or not a point is a member\n",
    "# of the set or not. Note: This is using generators and generator\n",
    "# expressions to produce all of the pixels without ever allocating\n",
    "# a huge array of pixels in memory. \n",
    "def generate_mandel(xmin=-2.0, ymin=-1.5, width=3.0, height=3.0, pixels=128, n=400):\n",
    "    for y in frange(ymin, ymin + height, pixels):\n",
    "        for x in frange(xmin, xmin + width, pixels):\n",
    "            yield in_mandelbrot(x, y, n)\n",
    "\n",
    "if __name__ == \"__main__\":\n",
    "    import sys\n",
    "    if len(sys.argv) > 1:\n",
    "        npixels = int(sys.argv[1])\n",
    "    else:\n",
    "        npixels = 128\n",
    "    img = generate_mandel(pixels=npixels)\n",
    "    im = np.fromiter(img, dtype=bool).reshape(npixels, npixels)\n",
    "    plt.imshow(im, cmap=cm.gray_r)\n",
    "    plt.show()"
   ]
  },
  {
   "cell_type": "markdown",
   "metadata": {},
   "source": [
    "Now, we can build a minimalistic setup.py for packaging it:"
   ]
  },
  {
   "cell_type": "code",
   "execution_count": 68,
   "metadata": {
    "collapsed": false
   },
   "outputs": [
    {
     "name": "stdout",
     "output_type": "stream",
     "text": [
      "Writing setup.py\n"
     ]
    }
   ],
   "source": [
    "%%file setup.py\n",
    "\n",
    "from distutils.core import setup\n",
    "setup(name='mymandel',\n",
    "      version='1.0',\n",
    "      py_modules=['mandelbrot'],\n",
    "      )"
   ]
  },
  {
   "cell_type": "markdown",
   "metadata": {},
   "source": [
    "And we can create a tarball easily with:"
   ]
  },
  {
   "cell_type": "code",
   "execution_count": 39,
   "metadata": {
    "collapsed": false
   },
   "outputs": [
    {
     "name": "stdout",
     "output_type": "stream",
     "text": [
      "running sdist\n",
      "running check\n",
      "warning: check: missing required meta-data: url\n",
      "\n",
      "warning: check: missing meta-data: either (author and author_email) or (maintainer and maintainer_email) must be supplied\n",
      "\n",
      "warning: sdist: manifest template 'MANIFEST.in' does not exist (using default file list)\n",
      "\n",
      "warning: sdist: standard file not found: should have one of README, README.txt\n",
      "\n",
      "writing manifest file 'MANIFEST'\n",
      "creating mymandel-1.0\n",
      "making hard links in mymandel-1.0...\n",
      "hard linking mandelbrot.py -> mymandel-1.0\n",
      "hard linking setup.py -> mymandel-1.0\n",
      "Creating tar archive\n",
      "removing 'mymandel-1.0' (and everything under it)\n"
     ]
    }
   ],
   "source": [
    "!python setup.py sdist"
   ]
  },
  {
   "cell_type": "code",
   "execution_count": 40,
   "metadata": {
    "collapsed": false
   },
   "outputs": [
    {
     "name": "stdout",
     "output_type": "stream",
     "text": [
      "total 8\r\n",
      "-rw-r--r--  1 faltet  staff  1110 Oct 18 08:29 mymandel-1.0.tar.gz\r\n"
     ]
    }
   ],
   "source": [
    "!ls -l dist  # this is put in the 'dist/' directory"
   ]
  },
  {
   "cell_type": "markdown",
   "metadata": {},
   "source": [
    "Then, your friend on has to unpack the tarball and install it in his own system with:"
   ]
  },
  {
   "cell_type": "code",
   "execution_count": 41,
   "metadata": {
    "collapsed": false
   },
   "outputs": [],
   "source": [
    "# Just don't run the line below so as to not mess your environment...\n",
    "#!python setup.py install"
   ]
  },
  {
   "cell_type": "markdown",
   "metadata": {},
   "source": [
    "### Exercise"
   ]
  },
  {
   "cell_type": "markdown",
   "metadata": {},
   "source": [
    "Remember the warnings during the `sdist` task above?  Try to get rid of them.\n",
    "\n",
    "Hint: have a look at the [manual of distutils](http://docs.python.org/2/distutils/introduction.html)."
   ]
  },
  {
   "cell_type": "code",
   "execution_count": null,
   "metadata": {
    "collapsed": true
   },
   "outputs": [],
   "source": []
  }
 ],
 "metadata": {
  "anaconda-cloud": {},
  "kernelspec": {
   "display_name": "Python [default]",
   "language": "python",
   "name": "python3"
  },
  "language_info": {
   "codemirror_mode": {
    "name": "ipython",
    "version": 3
   },
   "file_extension": ".py",
   "mimetype": "text/x-python",
   "name": "python",
   "nbconvert_exporter": "python",
   "pygments_lexer": "ipython3",
   "version": "3.5.2"
  }
 },
 "nbformat": 4,
 "nbformat_minor": 0
}
