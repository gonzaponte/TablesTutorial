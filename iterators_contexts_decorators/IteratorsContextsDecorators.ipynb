{
 "cells": [
  {
   "cell_type": "markdown",
   "metadata": {},
   "source": [
    "# Intermediate Python"
   ]
  },
  {
   "cell_type": "markdown",
   "metadata": {},
   "source": [
    "## Iterators"
   ]
  },
  {
   "cell_type": "markdown",
   "metadata": {},
   "source": [
    "An iterator is an object that enables a programmer to traverse a data container (similar to a database cursor).\n"
   ]
  },
  {
   "cell_type": "code",
   "execution_count": 1,
   "metadata": {
    "collapsed": false
   },
   "outputs": [
    {
     "name": "stdout",
     "output_type": "stream",
     "text": [
      "1\n",
      "3\n",
      "2\n"
     ]
    }
   ],
   "source": [
    "for value in [1,3,2]:\n",
    "    print(value)"
   ]
  },
  {
   "cell_type": "markdown",
   "metadata": {},
   "source": [
    "An iterator can be useful in some situations, namely:\n",
    "\n",
    "* To process data structures with no or slow random access, like trees or on-disk data.\n",
    "\n",
    "* Iterators can provide a consistent way to iterate on data structures of all kinds, and therefore make the code more readable, reusable, and less sensitive to a change in the data structure.\n"
   ]
  },
  {
   "cell_type": "markdown",
   "metadata": {},
   "source": [
    "A typical use of an iterator is to create lists using the `comprehension list` constructor:"
   ]
  },
  {
   "cell_type": "code",
   "execution_count": 2,
   "metadata": {
    "collapsed": false
   },
   "outputs": [
    {
     "data": {
      "text/plain": [
       "[1, 2, 4, 5, 7, 8]"
      ]
     },
     "execution_count": 2,
     "metadata": {},
     "output_type": "execute_result"
    }
   ],
   "source": [
    "[i for i in range(10) if i % 3]"
   ]
  },
  {
   "cell_type": "code",
   "execution_count": 3,
   "metadata": {
    "collapsed": false
   },
   "outputs": [
    {
     "data": {
      "text/plain": [
       "array([1, 2, 4, 5, 7, 8], dtype=int32)"
      ]
     },
     "execution_count": 3,
     "metadata": {},
     "output_type": "execute_result"
    }
   ],
   "source": [
    "import numpy as np\n",
    "np.array([i for i in range(10) if i % 3], dtype='int32')"
   ]
  },
  {
   "cell_type": "markdown",
   "metadata": {},
   "source": [
    "## Generators"
   ]
  },
  {
   "cell_type": "markdown",
   "metadata": {},
   "source": [
    "Iterators can be used to create other structures without an intermediate container.  Let's see how we can use a generator (an implementation of an iterator) for doing this:"
   ]
  },
  {
   "cell_type": "code",
   "execution_count": 4,
   "metadata": {
    "collapsed": false
   },
   "outputs": [
    {
     "data": {
      "text/plain": [
       "<generator object <genexpr> at 0x7f9d9f8e38e0>"
      ]
     },
     "execution_count": 4,
     "metadata": {},
     "output_type": "execute_result"
    }
   ],
   "source": [
    "(i for i in range(10) if i % 3)"
   ]
  },
  {
   "cell_type": "code",
   "execution_count": 5,
   "metadata": {
    "collapsed": false
   },
   "outputs": [
    {
     "data": {
      "text/plain": [
       "array([1, 2, 4, 5, 7, 8], dtype=int32)"
      ]
     },
     "execution_count": 5,
     "metadata": {},
     "output_type": "execute_result"
    }
   ],
   "source": [
    "np.fromiter((i for i in range(10) if i % 3), dtype='int32')"
   ]
  },
  {
   "cell_type": "markdown",
   "metadata": {},
   "source": [
    "Note how in this case we don't need an intermediate list so as to create a NumPy array out of the iterator."
   ]
  },
  {
   "cell_type": "markdown",
   "metadata": {},
   "source": [
    "### Example"
   ]
  },
  {
   "cell_type": "code",
   "execution_count": 6,
   "metadata": {
    "collapsed": false
   },
   "outputs": [],
   "source": [
    "# Generate a range of floating point numbers \n",
    "def frange(fmin,fmax,divisions):\n",
    "    delta = (fmax - fmin) / divisions\n",
    "    x = fmin\n",
    "    for i in range(divisions):\n",
    "        yield x\n",
    "        x += delta"
   ]
  },
  {
   "cell_type": "code",
   "execution_count": 7,
   "metadata": {
    "collapsed": false
   },
   "outputs": [
    {
     "data": {
      "text/plain": [
       "[0, 0.5, 1.0, 1.5, 2.0, 2.5, 3.0, 3.5, 4.0, 4.5]"
      ]
     },
     "execution_count": 7,
     "metadata": {},
     "output_type": "execute_result"
    }
   ],
   "source": [
    "[f for f in frange(0,5,10)]   # why the result?"
   ]
  },
  {
   "cell_type": "code",
   "execution_count": 8,
   "metadata": {
    "collapsed": false
   },
   "outputs": [
    {
     "data": {
      "text/plain": [
       "[0.0, 0.5, 1.0, 1.5, 2.0, 2.5, 3.0, 3.5, 4.0, 4.5]"
      ]
     },
     "execution_count": 8,
     "metadata": {},
     "output_type": "execute_result"
    }
   ],
   "source": [
    "[f for f in frange(0.,5,10)]  # the intended outcome"
   ]
  },
  {
   "cell_type": "markdown",
   "metadata": {},
   "source": [
    "Generators are typically faster than comprehension lists (and takes less memory!):"
   ]
  },
  {
   "cell_type": "code",
   "execution_count": 9,
   "metadata": {
    "collapsed": false
   },
   "outputs": [
    {
     "name": "stdout",
     "output_type": "stream",
     "text": [
      "CPU times: user 276 ms, sys: 0 ns, total: 276 ms\n",
      "Wall time: 277 ms\n"
     ]
    }
   ],
   "source": [
    "%time arr2 = np.fromiter((f for f in frange(0.,5.,int(1e6))), dtype='f8')"
   ]
  },
  {
   "cell_type": "code",
   "execution_count": 10,
   "metadata": {
    "collapsed": false
   },
   "outputs": [
    {
     "name": "stdout",
     "output_type": "stream",
     "text": [
      "CPU times: user 252 ms, sys: 12 ms, total: 264 ms\n",
      "Wall time: 266 ms\n"
     ]
    }
   ],
   "source": [
    "%time arr1 = np.fromiter([f for f in frange(0.,5.,int(1e6))], dtype='f8')"
   ]
  },
  {
   "cell_type": "markdown",
   "metadata": {},
   "source": [
    "Although the fastest is always use embedded C code (if you can!):"
   ]
  },
  {
   "cell_type": "code",
   "execution_count": 11,
   "metadata": {
    "collapsed": false
   },
   "outputs": [
    {
     "name": "stdout",
     "output_type": "stream",
     "text": [
      "CPU times: user 8 ms, sys: 12 ms, total: 20 ms\n",
      "Wall time: 19.5 ms\n"
     ]
    }
   ],
   "source": [
    "%time arr3 = np.linspace(0, 5, 1e6, endpoint=False)"
   ]
  },
  {
   "cell_type": "code",
   "execution_count": 12,
   "metadata": {
    "collapsed": false
   },
   "outputs": [
    {
     "data": {
      "text/plain": [
       "(True, True)"
      ]
     },
     "execution_count": 12,
     "metadata": {},
     "output_type": "execute_result"
    }
   ],
   "source": [
    "np.allclose(arr1, arr2), np.allclose(arr1, arr3)"
   ]
  },
  {
   "cell_type": "markdown",
   "metadata": {},
   "source": [
    "Generators are also useful in reductions:"
   ]
  },
  {
   "cell_type": "code",
   "execution_count": 13,
   "metadata": {
    "collapsed": false
   },
   "outputs": [
    {
     "name": "stdout",
     "output_type": "stream",
     "text": [
      "1 loop, best of 3: 137 ms per loop\n"
     ]
    }
   ],
   "source": [
    "%timeit sum([f for f in frange(0.,5.,int(1e6))])"
   ]
  },
  {
   "cell_type": "code",
   "execution_count": 14,
   "metadata": {
    "collapsed": false
   },
   "outputs": [
    {
     "name": "stdout",
     "output_type": "stream",
     "text": [
      "1 loop, best of 3: 156 ms per loop\n"
     ]
    }
   ],
   "source": [
    "%timeit sum((f for f in frange(0.,5.,int(1e6))))"
   ]
  },
  {
   "cell_type": "markdown",
   "metadata": {},
   "source": [
    "### Exercise"
   ]
  },
  {
   "cell_type": "markdown",
   "metadata": {},
   "source": [
    "Study the generator below and suggest an efficient way to render the image with NumPy/matplotlib (try to avoid reading the solution!)"
   ]
  },
  {
   "cell_type": "code",
   "execution_count": 45,
   "metadata": {
    "collapsed": false
   },
   "outputs": [],
   "source": [
    "# Test a given x,y coordinate to see if it's a member of the set\n",
    "def in_mandelbrot(x0, y0, n):\n",
    "    x = 0.\n",
    "    y = 0.\n",
    "    while n > 0:\n",
    "        xtemp = x * x - y * y + x0\n",
    "        y = 2 * x * y + y0\n",
    "        x = xtemp\n",
    "        n -= 1\n",
    "        if x * x + y * y > 4:\n",
    "            return False\n",
    "    return True\n",
    "\n",
    "# Generate a range of floating point numbers \n",
    "def frange(fmin, fmax, divisions):\n",
    "    delta = (fmax - fmin) / divisions\n",
    "    x = fmin\n",
    "    for i in range(divisions):\n",
    "        yield x\n",
    "        x += delta\n",
    "\n",
    "# Generate all of the pixels of the mandelbrot set.  The output of\n",
    "# this function is a sequence of rows.  Each row is a sequence of\n",
    "# True/False values indicating whether or not a point is a member\n",
    "# of the set or not. Note: This is using generators and generator\n",
    "# expressions to produce all of the pixels without ever allocating\n",
    "# a huge array of pixels in memory. \n",
    "def generate_mandel(xmin=-2.0, ymin=-1.5, width=3.0, height=3.0, pixels=128, n=400):\n",
    "    for y in frange(ymin, ymin + height, pixels):\n",
    "        for x in frange(xmin, xmin + width, pixels):\n",
    "            yield in_mandelbrot(x, y, n)\n"
   ]
  },
  {
   "cell_type": "markdown",
   "metadata": {},
   "source": [
    "### Solution"
   ]
  },
  {
   "cell_type": "code",
   "execution_count": null,
   "metadata": {
    "collapsed": true
   },
   "outputs": [],
   "source": []
  },
  {
   "cell_type": "markdown",
   "metadata": {},
   "source": [
    "## Context managers"
   ]
  },
  {
   "cell_type": "markdown",
   "metadata": {},
   "source": [
    "Python’s with statement was first introduced five years ago, in Python 2.5. It’s handy when you have two related operations which you’d like to execute as a pair, with a block of code in between. The classic example is opening a file, manipulating the file, then closing it:"
   ]
  },
  {
   "cell_type": "code",
   "execution_count": 52,
   "metadata": {
    "collapsed": false
   },
   "outputs": [
    {
     "name": "stdout",
     "output_type": "stream",
     "text": [
      "Hi there!"
     ]
    }
   ],
   "source": [
    "# The context manager is here:\n",
    "with open('output.txt', 'w') as f:\n",
    "    f.write('Hi there!')\n",
    "! cat 'output.txt'"
   ]
  },
  {
   "cell_type": "markdown",
   "metadata": {},
   "source": [
    "Note how the `f` handler is closed only within the scope of the context manager.  After that is closed:"
   ]
  },
  {
   "cell_type": "code",
   "execution_count": 53,
   "metadata": {
    "collapsed": false
   },
   "outputs": [
    {
     "data": {
      "text/plain": [
       "<_io.TextIOWrapper name='output.txt' mode='w' encoding='UTF-8'>"
      ]
     },
     "execution_count": 53,
     "metadata": {},
     "output_type": "execute_result"
    }
   ],
   "source": [
    "f"
   ]
  },
  {
   "cell_type": "markdown",
   "metadata": {},
   "source": [
    "Will not go into the details on how to implement them, but I want you not get scared when you see one in the next lectures."
   ]
  },
  {
   "cell_type": "markdown",
   "metadata": {},
   "source": [
    "## Decorators"
   ]
  },
  {
   "cell_type": "markdown",
   "metadata": {},
   "source": [
    "*Using* decorators is easy! ...but writing them can be complicated.  I'll concentrate on usage, but the concept is powerful, so you may want to get more info about writing them."
   ]
  },
  {
   "cell_type": "markdown",
   "metadata": {},
   "source": [
    "### Example"
   ]
  },
  {
   "cell_type": "code",
   "execution_count": 54,
   "metadata": {
    "collapsed": false
   },
   "outputs": [],
   "source": [
    "import collections\n",
    "import functools\n",
    "\n",
    "class memoized(object):\n",
    "   '''Decorator. Caches a function's return value each time it is called.\n",
    "   \n",
    "   If called later with the same arguments, the cached value is returned\n",
    "   (not reevaluated).\n",
    "   '''\n",
    "   \n",
    "   def __init__(self, func):\n",
    "      self.func = func\n",
    "      self.cache = {}\n",
    "\n",
    "   def __call__(self, *args):\n",
    "      if not isinstance(args, collections.Hashable):\n",
    "         # uncacheable. a list, for instance.\n",
    "         # better to not cache than blow up.\n",
    "         return self.func(*args)\n",
    "      if args in self.cache:\n",
    "         return self.cache[args]\n",
    "      else:\n",
    "         value = self.func(*args)\n",
    "         self.cache[args] = value\n",
    "         return value\n",
    "\n",
    "   def __repr__(self):\n",
    "      '''Return the function's docstring.'''\n",
    "      return self.func.__doc__\n",
    "\n",
    "   def __get__(self, obj, objtype):\n",
    "      '''Support instance methods.'''\n",
    "      return functools.partial(self.__call__, obj)\n",
    "\n",
    "@memoized\n",
    "def fibonacci(n):\n",
    "   \"Return the nth fibonacci number.\"\n",
    "   if n in (0, 1):\n",
    "      return n\n",
    "   return fibonacci(n-1) + fibonacci(n-2)"
   ]
  },
  {
   "cell_type": "code",
   "execution_count": 55,
   "metadata": {
    "collapsed": false
   },
   "outputs": [
    {
     "name": "stdout",
     "output_type": "stream",
     "text": [
      "144\n"
     ]
    }
   ],
   "source": [
    "print(fibonacci(12))"
   ]
  },
  {
   "cell_type": "code",
   "execution_count": 56,
   "metadata": {
    "collapsed": false
   },
   "outputs": [
    {
     "name": "stdout",
     "output_type": "stream",
     "text": [
      "CPU times: user 0 ns, sys: 0 ns, total: 0 ns\n",
      "Wall time: 1.5 ms\n"
     ]
    },
    {
     "data": {
      "text/plain": [
       "659034621587630041982498215"
      ]
     },
     "execution_count": 56,
     "metadata": {},
     "output_type": "execute_result"
    }
   ],
   "source": [
    "%time fibonacci(130)"
   ]
  },
  {
   "cell_type": "code",
   "execution_count": 57,
   "metadata": {
    "collapsed": false
   },
   "outputs": [
    {
     "name": "stdout",
     "output_type": "stream",
     "text": [
      "CPU times: user 0 ns, sys: 0 ns, total: 0 ns\n",
      "Wall time: 167 µs\n"
     ]
    },
    {
     "data": {
      "text/plain": [
       "81055900096023504197206408605"
      ]
     },
     "execution_count": 57,
     "metadata": {},
     "output_type": "execute_result"
    }
   ],
   "source": [
    "%time fibonacci(140)"
   ]
  },
  {
   "cell_type": "markdown",
   "metadata": {},
   "source": [
    "## Packaging for distribution"
   ]
  },
  {
   "cell_type": "markdown",
   "metadata": {},
   "source": [
    "Packaging is normally made through [distutils](http://docs.python.org/2/distutils/introduction.html) and is a matter of building a 'setup.py' file.  For example, let's suppose that we want to pack or new mandebrot module to send it to a friend:"
   ]
  },
  {
   "cell_type": "code",
   "execution_count": 58,
   "metadata": {
    "collapsed": false
   },
   "outputs": [
    {
     "name": "stdout",
     "output_type": "stream",
     "text": [
      "Overwriting mandelbrot.py\n"
     ]
    }
   ],
   "source": [
    "%%file mandelbrot.py\n",
    "\n",
    "# Make a plot of the mandelbrot set\n",
    "import numpy as np\n",
    "from matplotlib import pylab as plt\n",
    "from matplotlib import cm\n",
    "\n",
    "# Test a given x,y coordinate to see if it's a member of the set\n",
    "def in_mandelbrot(x0, y0, n):\n",
    "    x = 0\n",
    "    y = 0\n",
    "    while n > 0:\n",
    "        xtemp = x * x - y * y + x0\n",
    "        y = 2 * x * y + y0\n",
    "        x = xtemp\n",
    "        n -= 1\n",
    "        if x * x + y * y > 4:\n",
    "            return False\n",
    "    return True\n",
    "\n",
    "# Generate a range of floating point numbers \n",
    "def frange(fmin,fmax,divisions):\n",
    "    delta = (fmax - fmin)/divisions\n",
    "    x = fmin\n",
    "    for i in range(divisions):\n",
    "        yield x\n",
    "        x += delta\n",
    "\n",
    "# Generate all of the pixels of the mandelbrot set.  The output of\n",
    "# this function is a sequence of rows.  Each row is a sequence of\n",
    "# True/False values indicating whether or not a point is a member\n",
    "# of the set or not. Note: This is using generators and generator\n",
    "# expressions to produce all of the pixels without ever allocating\n",
    "# a huge array of pixels in memory. \n",
    "def generate_mandel(xmin=-2.0, ymin=-1.5, width=3.0, height=3.0, pixels=128, n=400):\n",
    "    for y in frange(ymin, ymin + height, pixels):\n",
    "        for x in frange(xmin, xmin + width, pixels):\n",
    "            yield in_mandelbrot(x, y, n)\n",
    "\n",
    "if __name__ == \"__main__\":\n",
    "    import sys\n",
    "    if len(sys.argv) > 1:\n",
    "        npixels = int(sys.argv[1])\n",
    "    else:\n",
    "        npixels = 128\n",
    "    img = generate_mandel(pixels=npixels)\n",
    "    im = np.fromiter(img, dtype=bool).reshape(npixels, npixels)\n",
    "    plt.imshow(im, cmap=cm.gray_r)\n",
    "    plt.show()"
   ]
  },
  {
   "cell_type": "markdown",
   "metadata": {},
   "source": [
    "Now, we can build a minimalistic setup.py for packaging it:"
   ]
  },
  {
   "cell_type": "code",
   "execution_count": 59,
   "metadata": {
    "collapsed": false
   },
   "outputs": [
    {
     "name": "stdout",
     "output_type": "stream",
     "text": [
      "Overwriting setup.py\n"
     ]
    }
   ],
   "source": [
    "%%file setup.py\n",
    "\n",
    "from distutils.core import setup\n",
    "setup(name='mymandel',\n",
    "      version='1.0',\n",
    "      py_modules=['mandelbrot'],\n",
    "      )"
   ]
  },
  {
   "cell_type": "markdown",
   "metadata": {},
   "source": [
    "And we can create a tarball easily with:"
   ]
  },
  {
   "cell_type": "code",
   "execution_count": 60,
   "metadata": {
    "collapsed": false
   },
   "outputs": [
    {
     "name": "stdout",
     "output_type": "stream",
     "text": [
      "running sdist\n",
      "running check\n",
      "warning: check: missing required meta-data: url\n",
      "\n",
      "warning: check: missing meta-data: either (author and author_email) or (maintainer and maintainer_email) must be supplied\n",
      "\n",
      "warning: sdist: manifest template 'MANIFEST.in' does not exist (using default file list)\n",
      "\n",
      "warning: sdist: standard file not found: should have one of README, README.txt\n",
      "\n",
      "writing manifest file 'MANIFEST'\n",
      "creating mymandel-1.0\n",
      "making hard links in mymandel-1.0...\n",
      "hard linking mandelbrot.py -> mymandel-1.0\n",
      "hard linking setup.py -> mymandel-1.0\n",
      "Creating tar archive\n",
      "removing 'mymandel-1.0' (and everything under it)\n"
     ]
    }
   ],
   "source": [
    "!python setup.py sdist"
   ]
  },
  {
   "cell_type": "code",
   "execution_count": 61,
   "metadata": {
    "collapsed": false
   },
   "outputs": [
    {
     "name": "stdout",
     "output_type": "stream",
     "text": [
      "total 4\r\n",
      "-rw-rw-r-- 1 faltet faltet 1099 oct 16 19:20 mymandel-1.0.tar.gz\r\n"
     ]
    }
   ],
   "source": [
    "!ls -l dist  # this is put in the 'dist/' directory"
   ]
  },
  {
   "cell_type": "markdown",
   "metadata": {},
   "source": [
    "Then, your friend has to unpack the tarball and install it in his own system with:"
   ]
  },
  {
   "cell_type": "code",
   "execution_count": 50,
   "metadata": {
    "collapsed": false
   },
   "outputs": [],
   "source": [
    "# Just don't run the line below so as to not mess your environment...\n",
    "#!python setup.py install"
   ]
  },
  {
   "cell_type": "markdown",
   "metadata": {},
   "source": [
    "### Exercise"
   ]
  },
  {
   "cell_type": "markdown",
   "metadata": {},
   "source": [
    "Remember the warnings during the `sdist` task above?  Try to get rid of them.\n",
    "\n",
    "Hint: have a look at the [manual of distutils](http://docs.python.org/2/distutils/introduction.html)."
   ]
  },
  {
   "cell_type": "code",
   "execution_count": null,
   "metadata": {
    "collapsed": true
   },
   "outputs": [],
   "source": []
  }
 ],
 "metadata": {
  "anaconda-cloud": {},
  "kernelspec": {
   "display_name": "Python [default]",
   "language": "python",
   "name": "python3"
  },
  "language_info": {
   "codemirror_mode": {
    "name": "ipython",
    "version": 3
   },
   "file_extension": ".py",
   "mimetype": "text/x-python",
   "name": "python",
   "nbconvert_exporter": "python",
   "pygments_lexer": "ipython3",
   "version": "3.5.2"
  }
 },
 "nbformat": 4,
 "nbformat_minor": 0
}
