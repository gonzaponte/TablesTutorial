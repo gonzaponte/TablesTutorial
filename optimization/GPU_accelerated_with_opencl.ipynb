{
 "cells": [
  {
   "cell_type": "markdown",
   "metadata": {},
   "source": [
    "## numba powered mandelbrot function"
   ]
  },
  {
   "cell_type": "code",
   "execution_count": 1,
   "metadata": {
    "collapsed": false
   },
   "outputs": [],
   "source": [
    "import numpy as np\n",
    "from pylab import imshow, show\n",
    "from timeit import default_timer as timer\n",
    "import numba\n",
    "\n",
    "@numba.autojit\n",
    "def mandel(x, y, max_iters):\n",
    "  \"\"\"\n",
    "    Given the real and imaginary parts of a complex number,\n",
    "    determine if it is a candidate for membership in the Mandelbrot\n",
    "    set given a fixed number of iterations.\n",
    "  \"\"\"\n",
    "  \n",
    "  c = complex(x, y)\n",
    "  z = 0.0j\n",
    "  for i in xrange(max_iters):\n",
    "    z = z*z + c\n",
    "    if (z.real*z.real + z.imag*z.imag) >= 4:\n",
    "      return i\n",
    "\n",
    "  return max_iters\n",
    "\n",
    "@numba.autojit\n",
    "def create_fractal(min_x, max_x, min_y, max_y, image, iters):\n",
    "  height = image.shape[0]\n",
    "  width = image.shape[1]\n",
    "\n",
    "  pixel_size_x = (max_x - min_x) / width\n",
    "  pixel_size_y = (max_y - min_y) / height\n",
    "\n",
    "    \n",
    "  for x in xrange(width):\n",
    "    real = min_x + x * pixel_size_x\n",
    "    for y in xrange(height):\n",
    "      imag = min_y + y * pixel_size_y\n",
    "      color = mandel(real, imag, iters)\n",
    "      image[y, x] = color\n",
    "  return image"
   ]
  },
  {
   "cell_type": "markdown",
   "metadata": {},
   "source": [
    "## Opencl kernel for calculating mandelbrot"
   ]
  },
  {
   "cell_type": "code",
   "execution_count": 2,
   "metadata": {
    "collapsed": false
   },
   "outputs": [
    {
     "name": "stdout",
     "output_type": "stream",
     "text": [
      "Overwriting mandelbrot.cl\n"
     ]
    }
   ],
   "source": [
    "%%file mandelbrot.cl\n",
    "\n",
    "\t__kernel void mandelbrot(__global int *output, constant int* maxiter , \n",
    "                     constant float* p_size_x, constant float* p_size_y,\n",
    "                     constant float* min_x, constant float* min_y)\n",
    "    {\n",
    "        int row = get_global_id(0);\n",
    "        int col = get_global_id(1);\n",
    "        \n",
    "        int numRows = get_global_size(0);\n",
    "        int numCols = get_global_size(1);\n",
    "\t\n",
    "        int gid = col+ row*numCols;\n",
    "        \n",
    "        float real, imag, nreal = 0.0f;\n",
    "        float oreal = min_x[0] + col * p_size_x[0] ;\n",
    "        float oimag = min_y[0] + row * p_size_y[0] ;\n",
    "\t\t\n",
    "\n",
    "        output[gid] = maxiter[0];\n",
    "       for(int curiter = 0; curiter < maxiter[0]; curiter++) {\n",
    "           nreal = real*real - imag*imag + oreal;\n",
    "           imag = 2.0f* real*imag + oimag;\n",
    "           real = nreal;\n",
    "\t\t   \n",
    "\n",
    "\t\t   if ((real*real + imag*imag) >= 4.0f){\n",
    "                output[gid] = curiter;\n",
    "\t\t\t\tcuriter = maxiter[0];\n",
    "\t\t\t}\n",
    "       }\n",
    "    }"
   ]
  },
  {
   "cell_type": "markdown",
   "metadata": {},
   "source": [
    "## Code for doing the mandelbrot calculation and comparison vs numba"
   ]
  },
  {
   "cell_type": "code",
   "execution_count": 11,
   "metadata": {
    "collapsed": false
   },
   "outputs": [
    {
     "name": "stdout",
     "output_type": "stream",
     "text": [
      "Device name: GeForce GTX 780M\n",
      "Device type: GPU\n",
      "==============================\n",
      "Max iterations: 10\n",
      "opencl accalerated: 11.1233 ms\n",
      "numba accalerated: 37.3206 ms\n",
      "Opencl is 3.35517x times faster\n",
      "==============================\n",
      "Max iterations: 20\n",
      "opencl accalerated: 12.2498 ms\n",
      "numba accalerated: 58.5353 ms\n",
      "Opencl is 4.77849x times faster\n",
      "==============================\n",
      "Max iterations: 100\n",
      "opencl accalerated: 11.8922 ms\n",
      "numba accalerated: 218.123 ms\n",
      "Opencl is 18.3417x times faster\n",
      "==============================\n",
      "Max iterations: 500\n",
      "opencl accalerated: 13.558 ms\n",
      "numba accalerated: 969.229 ms\n",
      "Opencl is 71.4879x times faster\n",
      "==============================\n",
      "Max iterations: 1000\n",
      "opencl accalerated: 19.5763 ms\n",
      "numba accalerated: 1881.9 ms\n",
      "Opencl is 96.1314x times faster\n",
      "==============================\n",
      "Max iterations: 10000\n",
      "opencl accalerated: 139.305 ms\n",
      "numba accalerated: 18419 ms\n",
      "Opencl is 132.221x times faster\n"
     ]
    },
    {
     "data": {
      "image/png": "[encoded data removed]",
      "text/plain": [
       "<matplotlib.figure.Figure at 0xe8e7b38>"
      ]
     },
     "metadata": {},
     "output_type": "display_data"
    },
    {
     "data": {
      "image/png": "[encoded data removed]",
      "text/plain": [
       "<matplotlib.figure.Figure at 0xeaf7a20>"
      ]
     },
     "metadata": {},
     "output_type": "display_data"
    },
    {
     "name": "stdout",
     "output_type": "stream",
     "text": [
      "\n",
      "Arrays are not equal\n",
      "\n",
      "(mismatch 0.38096110026%)\n",
      " x: array([[0, 0, 0, ..., 1, 1, 1],\n",
      "       [0, 0, 0, ..., 1, 1, 1],\n",
      "       [0, 0, 0, ..., 1, 1, 1],...\n",
      " y: array([[0, 0, 0, ..., 1, 1, 1],\n",
      "       [0, 0, 0, ..., 1, 1, 1],\n",
      "       [0, 0, 0, ..., 1, 1, 1],...\n"
     ]
    }
   ],
   "source": [
    "import numpy as np\n",
    "import pyopencl as cl\n",
    "from pylab import imshow, show\n",
    "from numpy.testing import assert_equal\n",
    "from time import clock\n",
    "\n",
    "import os \n",
    "\n",
    "os.environ['PYOPENCL_COMPILER_OUTPUT'] = '0'\n",
    "\n",
    "class CL:\n",
    "    def __init__(self,device):\n",
    "        self.ctx = cl.Context([device])\n",
    "        self.queue = cl.CommandQueue(self.ctx, properties=cl.command_queue_properties.PROFILING_ENABLE)\n",
    "\n",
    "    def loadProgram(self, filename):\n",
    "        \"\"\"read in the OpenCL source file as a string\"\"\"\n",
    "        f = open(filename, 'r')\n",
    "        fstr = \"\".join(f.readlines())\n",
    "        \n",
    "        #print fstr #Uncomment to print the kernel code\n",
    "        #Compiles the kernel (if not in cache)\n",
    "        self.program = cl.Program(self.ctx, fstr).build()\n",
    "\n",
    "    def execute(self,min_x, max_x, min_y, max_y,image, maxiter):\n",
    "        \"\"\"\n",
    "        Executes the downsample(part1) kernel of the loaded file\n",
    "        Input is the img array and a cell tupple\n",
    "        \"\"\"\n",
    "        mf = cl.mem_flags\n",
    "\n",
    "        #initialize client side (CPU) arrays\n",
    "\t\t\n",
    "        height = image.shape[0]\n",
    "        width = image.shape[1]\n",
    "\n",
    "        pixel_size_x = (max_x - min_x) / width\n",
    "        pixel_size_y = (max_y - min_y) / height\n",
    "\t\t\n",
    "        \n",
    "        \n",
    "        #create OpenCL buffers\n",
    "\n",
    "        #out_buf = cl.Buffer(self.ctx, mf.WRITE_ONLY | mf.USE_HOST_PTR, hostbuf=image)\n",
    "        out_buf = cl.Buffer(self.ctx, mf.WRITE_ONLY, image.nbytes)\n",
    "\t\t\n",
    "        maxiter_buf = cl.Buffer(self.ctx, mf.READ_ONLY | mf.USE_HOST_PTR, hostbuf=np.array([maxiter],dtype=np.int))\n",
    "        pixel_size_x_buf = cl.Buffer(self.ctx, mf.READ_ONLY | mf.USE_HOST_PTR, hostbuf=np.array([pixel_size_x],dtype=np.float32))\n",
    "        pixel_size_y_buf = cl.Buffer(self.ctx, mf.READ_ONLY | mf.USE_HOST_PTR, hostbuf=np.array([pixel_size_y],dtype=np.float32))\n",
    "        min_x_buf = cl.Buffer(self.ctx, mf.READ_ONLY | mf.USE_HOST_PTR, hostbuf=np.array([min_x],dtype=np.float32))\n",
    "        min_y_buf = cl.Buffer(self.ctx, mf.READ_ONLY | mf.USE_HOST_PTR, hostbuf=np.array([min_y],dtype=np.float32))\n",
    "\t\t\n",
    "\t\t\n",
    "        #profiling \n",
    "        exec_evt = self.program.mandelbrot(self.queue, image.shape, None, out_buf, maxiter_buf,\n",
    "\t\t\t\t\t\t\t\t\t\t\tpixel_size_x_buf, pixel_size_y_buf,\n",
    "\t\t\t\t\t\t\t\t\t\t\tmin_x_buf, min_y_buf)\n",
    "        exec_evt.wait()\n",
    "        self.elapsed = 1e-9*(exec_evt.profile.end - exec_evt.profile.start)\n",
    "        \n",
    "        #Reads the buffer back to the array\n",
    "        \n",
    "        cl.enqueue_read_buffer(self.queue, out_buf, image).wait()\n",
    "        return (image)\n",
    "\n",
    "\n",
    "#Getting the device to use with opencl    \n",
    "devices = [device for platforms in cl.get_platforms() for device in platforms.get_devices()]\n",
    "deviceUsed = devices[0]\n",
    "\n",
    "example = CL(deviceUsed)\n",
    "example.loadProgram(\"mandelbrot.cl\")\n",
    "\n",
    "#Code for shifting and zooming the area. \n",
    "xoffset = 0\n",
    "yoffset = 0\n",
    "zoomFactor = 1\n",
    "\n",
    "x = np.array([-2.0, 1.0]) + xoffset\n",
    "y = np.array([-1.0, 1.0]) + yoffset\n",
    "xdif = (x[1] - x[0])\n",
    "ydif = (y[1] - y[0])\n",
    "xmid = x[0] + xdif/2\n",
    "ymid = y[0] + (y[1] - y[0])/2\n",
    "\n",
    "\n",
    "x = np.array([xmid - (xdif/(2*zoomFactor)), xmid + xdif/(2*zoomFactor)])\n",
    "y = np.array([ymid - (ydif/(2*zoomFactor)), ymid + ydif/(2*zoomFactor)])\n",
    "\n",
    "print \"Device name:\", deviceUsed.name\n",
    "print \"Device type:\", cl.device_type.to_string(deviceUsed.type)\n",
    "\n",
    "for maxiter in [10,20,100,500,1000,10000]:\n",
    "\n",
    "    image = np.zeros((1024, 1536), dtype = np.int) \n",
    "    t0 = clock()\n",
    "    result_opencl = example.execute(x[0], x[1], y[0], y[1], image, maxiter)\n",
    "    t1 = clock()\n",
    "    \n",
    "    print '='*30\n",
    "    print \"Max iterations: %g\" %maxiter\n",
    "    print \"opencl accalerated: %g ms\"%((t1 - t0) * 1000) \n",
    "    \n",
    "    \n",
    "    image = np.zeros((1024, 1536), dtype = np.int) \n",
    "    t2 = clock()\n",
    "    result_numba = create_fractal(x[0], x[1], y[0], y[1], image, maxiter)\n",
    "    t3 = clock()\n",
    "    print \"numba accalerated: %g ms\"%((t3 - t2) * 1000) \n",
    "    \n",
    "    print \"Opencl is %gx times faster\" % ((t3 - t2)/(t1 - t0)) \n",
    "imshow(result_opencl)\n",
    "show()\n",
    "imshow(result_numba)\n",
    "show()\n",
    "\n",
    "\n",
    "#There seems to be some small differences in the results, when increasing the iterations and\\or changing the view.\n",
    "#Probably rounding errors. Becouse visually the results looks the same all the time. \n",
    "try: \n",
    "    assert_equal(result_numba, result_opencl)\n",
    "    print \"Equal\"\n",
    "except AssertionError as e:\n",
    "    print e\n"
   ]
  },
  {
   "cell_type": "code",
   "execution_count": 4,
   "metadata": {
    "collapsed": false
   },
   "outputs": [],
   "source": [
    "%load_ext cythonmagic"
   ]
  },
  {
   "cell_type": "code",
   "execution_count": 5,
   "metadata": {
    "collapsed": false
   },
   "outputs": [],
   "source": [
    "%%cython\n",
    "import numpy as np\n",
    "cimport numpy as np\n",
    "cimport cython\n",
    "from cython.parallel import prange\n",
    "\n",
    "@cython.boundscheck(False)\n",
    "@cython.cdivision(True)\n",
    "cdef float mymean(float [:,:] x) nogil:\n",
    "    cdef int xs, ys\n",
    "    cdef float s = 0.\n",
    "    cdef int i, j\n",
    "    xs, ys = x.shape[0], x.shape[1]\n",
    "    for i in prange(xs):\n",
    "    #for i in prange(xs, schedule='static'):  # give this a try\n",
    "        for j in range(ys):\n",
    "            s += x[i,j]\n",
    "    return s / (xs * ys)\n",
    "\n",
    "@cython.boundscheck(False)\n",
    "def downsample_cython5(x, cell):\n",
    "    cdef int c0 = cell[0], c1 = cell[1]\n",
    "    cdef int ys0 = x.shape[0] // c0\n",
    "    cdef int ys1 = x.shape[1] // c1\n",
    "    cdef int i, j\n",
    "    y = np.empty((ys0, ys1), x.dtype)\n",
    "    cdef float [:, :] y_view = y \n",
    "    cdef float [:, :] x_view = x\n",
    "    with nogil:\n",
    "        for i in range(ys0):\n",
    "            for j in range(ys1):\n",
    "                y_view[i, j] = mymean(x_view[i*c0:(i+1)*c0,j*c1:(j+1)*c1])\n",
    "    return y"
   ]
  },
  {
   "cell_type": "code",
   "execution_count": 6,
   "metadata": {
    "collapsed": false
   },
   "outputs": [
    {
     "name": "stdout",
     "output_type": "stream",
     "text": [
      "Overwriting downsample.cl\n"
     ]
    }
   ],
   "source": [
    "%%file downsample.cl\n",
    "\n",
    "//a is the original image\n",
    "//b is the downsampled image\n",
    "__kernel void downsample(__global float* a, __global float* b, constant int* aShape, constant int* Cell )\n",
    "{\n",
    "\n",
    "\tint row = get_global_id(1);\n",
    "\tint col = get_global_id(0);\n",
    "\n",
    "\tint numRows = get_global_size(1);\n",
    "\tint numCols = get_global_size(0);\n",
    "\n",
    "\tint gid = col+ row*numCols;\n",
    "\t\n",
    "\tint CellX = Cell[0];\n",
    "\tint CellY = Cell[1];\n",
    "\t\n",
    "\tint Arow = row*CellX;\n",
    "\tint Acol = col*CellY;\n",
    "\t\n",
    "\tint AnumRows = aShape[0];\n",
    "\tint AnumCols = aShape[1];\n",
    "\t\n",
    "\t//Here we map the index of the downscaled image to the original.\n",
    "\tint Agid = Acol+ Arow*AnumCols;\n",
    "\t\n",
    "\t\n",
    "\tfloat s = 0.0f;\n",
    "\n",
    "\tfor(int i = 0; i < CellX; i++){\n",
    "\t\t\tfor(int j = 0 ; j < CellY; j++){\n",
    "\t\t\t\ts += a[(Agid + i*aShape[0]) + j];\n",
    "\t\t}\n",
    "\t}\n",
    "\tb[gid] = s/(1.0f * CellX * CellY);\n",
    "}"
   ]
  },
  {
   "cell_type": "code",
   "execution_count": 8,
   "metadata": {
    "collapsed": false
   },
   "outputs": [
    {
     "name": "stdout",
     "output_type": "stream",
     "text": [
      "==============================\n",
      "('Device name:', 'GeForce GTX 780M')\n",
      "10 loops, best of 3: 21.2 ms per loop\n",
      "Actualt computation speed: 1.10576 ms\n",
      "==============================\n",
      "('Device name:', 'Intel(R) HD Graphics 4600')\n",
      "10 loops, best of 3: 22 ms per loop\n",
      "Actualt computation speed: 23.2033 ms\n",
      "==============================\n",
      "('Device name:', 'Intel(R) Core(TM) i7-4700MQ CPU @ 2.40GHz')\n",
      "10 loops, best of 3: 41.7 ms per loop\n",
      "Actualt computation speed: 9.34361 ms\n",
      "==============================\n",
      "Cython speed: \n",
      "1 loops, best of 3: 205 ms per loop\n",
      "==============================\n",
      "skimage speed: \n",
      "10 loops, best of 3: 166 ms per loop\n"
     ]
    },
    {
     "data": {
      "text/plain": [
       "True"
      ]
     },
     "execution_count": 8,
     "metadata": {},
     "output_type": "execute_result"
    }
   ],
   "source": [
    "import pyopencl as cl\n",
    "import numpy as np\n",
    "import skimage.transform\n",
    "\n",
    "class CL:\n",
    "    def __init__(self,device):\n",
    "        self.ctx = cl.Context([device])\n",
    "        self.queue = cl.CommandQueue(self.ctx, properties=cl.command_queue_properties.PROFILING_ENABLE)\n",
    "\n",
    "    def loadProgram(self, filename):\n",
    "        \"\"\"read in the OpenCL source file as a string\"\"\"\n",
    "        f = open(filename, 'r')\n",
    "        fstr = \"\".join(f.readlines())\n",
    "        \n",
    "        #print fstr #Uncomment to print the kernel code\n",
    "        #Compiles the kernel (if not in cache)\n",
    "        self.program = cl.Program(self.ctx, fstr).build()\n",
    "\n",
    "    def execute(self,a, cell):\n",
    "        \"\"\"\n",
    "        Executes the downsample(part1) kernel of the loaded file\n",
    "        Input is the img array and a cell tupple\n",
    "        \"\"\"\n",
    "        mf = cl.mem_flags\n",
    "\n",
    "        #initialize client side (CPU) arrays\n",
    "        c0, c1 = cell\n",
    "        yshape = (a.shape[0] // c0, a.shape[1] // c1)\n",
    "        b = np.empty(yshape, a.dtype)\n",
    "        \n",
    "        #create OpenCL buffers\n",
    "        a_buf = cl.Buffer(self.ctx, mf.READ_ONLY | mf.USE_HOST_PTR, hostbuf=a)\n",
    "        b_buf = cl.Buffer(self.ctx, mf.WRITE_ONLY, b.nbytes)\n",
    "        aShape_buf = cl.Buffer(self.ctx, mf.READ_ONLY | mf.USE_HOST_PTR, hostbuf=np.array([a.shape[0],a.shape[1]],dtype=int))\n",
    "        cell_buf = cl.Buffer(self.ctx, mf.READ_ONLY | mf.USE_HOST_PTR, hostbuf=np.array([c0,c1]))\n",
    "\t\t\n",
    "        #profiling \n",
    "        exec_evt = self.program.downsample(self.queue, b.shape, None, a_buf, b_buf, aShape_buf, cell_buf)\n",
    "        exec_evt.wait()\n",
    "        self.elapsed = 1e-9*(exec_evt.profile.end - exec_evt.profile.start)\n",
    "        \n",
    "        #Reads the buffer back to the array\n",
    "        cl.enqueue_read_buffer(self.queue, b_buf, b).wait()\n",
    "        return (b)\n",
    "\n",
    "    \n",
    "\n",
    "n = 2\n",
    "img = np.arange(2**24, dtype=np.float32).reshape(2**12, 2**12)\n",
    "for platform in cl.get_platforms():\n",
    "    for device in platform.get_devices():\n",
    "        print '='*30\n",
    "        print(\"Device name:\", device.name)\n",
    "        example = CL(device)\n",
    "        example.loadProgram(\"downsample.cl\")\n",
    "        \n",
    "        %timeit example.execute(img, (n,n))\n",
    "        #The 'actual' computation speed is without the time used to create, and read back, the arrays and buffers.\n",
    "        print \"Actualt computation speed: %g ms\" %(1000*example.elapsed)\n",
    "        \n",
    "\n",
    "\n",
    "print '='*30\n",
    "print(\"Cython speed: \")\n",
    "%timeit downsample_cython5(img,(n,n))\n",
    "print '='*30\n",
    "print(\"skimage speed: \")\n",
    "%timeit skimage.transform.downscale_local_mean(img, (n,n))\n",
    "down_cl = downsample_cython5(img,(n,n))\n",
    "down5 = downsample_cython5(img,(n,n))\n",
    "np.allclose(down_cl, down5)"
   ]
  },
  {
   "cell_type": "markdown",
   "metadata": {},
   "source": [
    "The 'Actual computation speed' could be relevant if you we're to do more computation on the downsampled image, since you could use the same buffer as input for a new kernel. And would not have to waste time for transfering the data to the gpu again. "
   ]
  }
 ],
 "metadata": {
  "anaconda-cloud": {},
  "kernelspec": {
   "display_name": "Python [default]",
   "language": "python",
   "name": "python3"
  },
  "language_info": {
   "codemirror_mode": {
    "name": "ipython",
    "version": 3
   },
   "file_extension": ".py",
   "mimetype": "text/x-python",
   "name": "python",
   "nbconvert_exporter": "python",
   "pygments_lexer": "ipython3",
   "version": "3.5.2"
  }
 },
 "nbformat": 4,
 "nbformat_minor": 0
}
