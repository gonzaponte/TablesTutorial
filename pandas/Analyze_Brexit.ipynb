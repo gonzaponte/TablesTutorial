{
 "cells": [
  {
   "cell_type": "markdown",
   "metadata": {},
   "source": [
    "# Analyze Bexit"
   ]
  },
  {
   "cell_type": "markdown",
   "metadata": {},
   "source": [
    "This is based on work by [Bob Belderbos](https://github.com/bbelderbos/brexit-pandas)."
   ]
  },
  {
   "cell_type": "code",
   "execution_count": 1,
   "metadata": {
    "collapsed": true
   },
   "outputs": [],
   "source": [
    "%matplotlib inline\n",
    "import pandas as pd"
   ]
  },
  {
   "cell_type": "markdown",
   "metadata": {},
   "source": [
    "## Preparation\n",
    "\n",
    "Importing CSV data from [electoralcommission.org.uk](http://www.electoralcommission.org.uk/find-information-by-subject/elections-and-referendums/upcoming-elections-and-referendums/eu-referendum/electorate-and-count-information)"
   ]
  },
  {
   "cell_type": "code",
   "execution_count": 2,
   "metadata": {
    "collapsed": false
   },
   "outputs": [],
   "source": [
    "df = pd.read_csv(\"http://www.electoralcommission.org.uk/__data/assets/file/0014/212135/EU-referendum-result-data.csv\")"
   ]
  },
  {
   "cell_type": "code",
   "execution_count": 3,
   "metadata": {
    "collapsed": false
   },
   "outputs": [
    {
     "data": {
      "text/html": [
       "<div>\n",
       "<table border=\"1\" class=\"dataframe\">\n",
       "  <thead>\n",
       "    <tr style=\"text-align: right;\">\n",
       "      <th></th>\n",
       "      <th>id</th>\n",
       "      <th>Region_Code</th>\n",
       "      <th>Region</th>\n",
       "      <th>Area_Code</th>\n",
       "      <th>Area</th>\n",
       "      <th>Electorate</th>\n",
       "      <th>ExpectedBallots</th>\n",
       "      <th>VerifiedBallotPapers</th>\n",
       "      <th>Pct_Turnout</th>\n",
       "      <th>Votes_Cast</th>\n",
       "      <th>...</th>\n",
       "      <th>Remain</th>\n",
       "      <th>Leave</th>\n",
       "      <th>Rejected_Ballots</th>\n",
       "      <th>No_official_mark</th>\n",
       "      <th>Voting_for_both_answers</th>\n",
       "      <th>Writing_or_mark</th>\n",
       "      <th>Unmarked_or_void</th>\n",
       "      <th>Pct_Remain</th>\n",
       "      <th>Pct_Leave</th>\n",
       "      <th>Pct_Rejected</th>\n",
       "    </tr>\n",
       "  </thead>\n",
       "  <tbody>\n",
       "    <tr>\n",
       "      <th>0</th>\n",
       "      <td>108</td>\n",
       "      <td>E12000006</td>\n",
       "      <td>East</td>\n",
       "      <td>E06000031</td>\n",
       "      <td>Peterborough</td>\n",
       "      <td>120892</td>\n",
       "      <td>87474</td>\n",
       "      <td>87469</td>\n",
       "      <td>72.35</td>\n",
       "      <td>87469</td>\n",
       "      <td>...</td>\n",
       "      <td>34176</td>\n",
       "      <td>53216</td>\n",
       "      <td>77</td>\n",
       "      <td>0</td>\n",
       "      <td>32</td>\n",
       "      <td>7</td>\n",
       "      <td>38</td>\n",
       "      <td>39.11</td>\n",
       "      <td>60.89</td>\n",
       "      <td>0.09</td>\n",
       "    </tr>\n",
       "    <tr>\n",
       "      <th>1</th>\n",
       "      <td>109</td>\n",
       "      <td>E12000006</td>\n",
       "      <td>East</td>\n",
       "      <td>E06000032</td>\n",
       "      <td>Luton</td>\n",
       "      <td>127612</td>\n",
       "      <td>84633</td>\n",
       "      <td>84636</td>\n",
       "      <td>66.31</td>\n",
       "      <td>84616</td>\n",
       "      <td>...</td>\n",
       "      <td>36708</td>\n",
       "      <td>47773</td>\n",
       "      <td>135</td>\n",
       "      <td>0</td>\n",
       "      <td>85</td>\n",
       "      <td>0</td>\n",
       "      <td>50</td>\n",
       "      <td>43.45</td>\n",
       "      <td>56.55</td>\n",
       "      <td>0.16</td>\n",
       "    </tr>\n",
       "    <tr>\n",
       "      <th>2</th>\n",
       "      <td>112</td>\n",
       "      <td>E12000006</td>\n",
       "      <td>East</td>\n",
       "      <td>E06000033</td>\n",
       "      <td>Southend-on-Sea</td>\n",
       "      <td>128856</td>\n",
       "      <td>93948</td>\n",
       "      <td>93939</td>\n",
       "      <td>72.90</td>\n",
       "      <td>93939</td>\n",
       "      <td>...</td>\n",
       "      <td>39348</td>\n",
       "      <td>54522</td>\n",
       "      <td>69</td>\n",
       "      <td>0</td>\n",
       "      <td>21</td>\n",
       "      <td>0</td>\n",
       "      <td>48</td>\n",
       "      <td>41.92</td>\n",
       "      <td>58.08</td>\n",
       "      <td>0.07</td>\n",
       "    </tr>\n",
       "    <tr>\n",
       "      <th>3</th>\n",
       "      <td>113</td>\n",
       "      <td>E12000006</td>\n",
       "      <td>East</td>\n",
       "      <td>E06000034</td>\n",
       "      <td>Thurrock</td>\n",
       "      <td>109897</td>\n",
       "      <td>79969</td>\n",
       "      <td>79954</td>\n",
       "      <td>72.75</td>\n",
       "      <td>79950</td>\n",
       "      <td>...</td>\n",
       "      <td>22151</td>\n",
       "      <td>57765</td>\n",
       "      <td>34</td>\n",
       "      <td>0</td>\n",
       "      <td>8</td>\n",
       "      <td>3</td>\n",
       "      <td>23</td>\n",
       "      <td>27.72</td>\n",
       "      <td>72.28</td>\n",
       "      <td>0.04</td>\n",
       "    </tr>\n",
       "    <tr>\n",
       "      <th>4</th>\n",
       "      <td>110</td>\n",
       "      <td>E12000006</td>\n",
       "      <td>East</td>\n",
       "      <td>E06000055</td>\n",
       "      <td>Bedford</td>\n",
       "      <td>119530</td>\n",
       "      <td>86136</td>\n",
       "      <td>86136</td>\n",
       "      <td>72.06</td>\n",
       "      <td>86135</td>\n",
       "      <td>...</td>\n",
       "      <td>41497</td>\n",
       "      <td>44569</td>\n",
       "      <td>69</td>\n",
       "      <td>0</td>\n",
       "      <td>26</td>\n",
       "      <td>1</td>\n",
       "      <td>42</td>\n",
       "      <td>48.22</td>\n",
       "      <td>51.78</td>\n",
       "      <td>0.08</td>\n",
       "    </tr>\n",
       "  </tbody>\n",
       "</table>\n",
       "<p>5 rows × 21 columns</p>\n",
       "</div>"
      ],
      "text/plain": [
       "    id Region_Code Region  Area_Code             Area  Electorate  \\\n",
       "0  108   E12000006   East  E06000031     Peterborough      120892   \n",
       "1  109   E12000006   East  E06000032            Luton      127612   \n",
       "2  112   E12000006   East  E06000033  Southend-on-Sea      128856   \n",
       "3  113   E12000006   East  E06000034         Thurrock      109897   \n",
       "4  110   E12000006   East  E06000055          Bedford      119530   \n",
       "\n",
       "   ExpectedBallots  VerifiedBallotPapers  Pct_Turnout  Votes_Cast  \\\n",
       "0            87474                 87469        72.35       87469   \n",
       "1            84633                 84636        66.31       84616   \n",
       "2            93948                 93939        72.90       93939   \n",
       "3            79969                 79954        72.75       79950   \n",
       "4            86136                 86136        72.06       86135   \n",
       "\n",
       "       ...       Remain  Leave  Rejected_Ballots  No_official_mark  \\\n",
       "0      ...        34176  53216                77                 0   \n",
       "1      ...        36708  47773               135                 0   \n",
       "2      ...        39348  54522                69                 0   \n",
       "3      ...        22151  57765                34                 0   \n",
       "4      ...        41497  44569                69                 0   \n",
       "\n",
       "   Voting_for_both_answers  Writing_or_mark  Unmarked_or_void  Pct_Remain  \\\n",
       "0                       32                7                38       39.11   \n",
       "1                       85                0                50       43.45   \n",
       "2                       21                0                48       41.92   \n",
       "3                        8                3                23       27.72   \n",
       "4                       26                1                42       48.22   \n",
       "\n",
       "   Pct_Leave  Pct_Rejected  \n",
       "0      60.89          0.09  \n",
       "1      56.55          0.16  \n",
       "2      58.08          0.07  \n",
       "3      72.28          0.04  \n",
       "4      51.78          0.08  \n",
       "\n",
       "[5 rows x 21 columns]"
      ]
     },
     "execution_count": 3,
     "metadata": {},
     "output_type": "execute_result"
    }
   ],
   "source": [
    "df.head()"
   ]
  },
  {
   "cell_type": "markdown",
   "metadata": {},
   "source": [
    "## Check of some numbers\n",
    "\n",
    "Let's see if we can match the data of the [Financial Times summary page](https://ig.ft.com/sites/elections/2016/uk/eu-referendum/index.html) ..."
   ]
  },
  {
   "cell_type": "markdown",
   "metadata": {},
   "source": [
    "There it says for example: \"The leave camp has won the day by 1,269,501 votes\", does this match my data?"
   ]
  },
  {
   "cell_type": "code",
   "execution_count": 4,
   "metadata": {
    "collapsed": false
   },
   "outputs": [
    {
     "name": "stdout",
     "output_type": "stream",
     "text": [
      "17410742 - 16141241 = 1269501\n"
     ]
    }
   ],
   "source": [
    "leave = df[\"Leave\"].sum() \n",
    "remain = df[\"Remain\"].sum()\n",
    "print(\"{} - {} = {}\".format(leave, remain, (leave - remain)))"
   ]
  },
  {
   "cell_type": "markdown",
   "metadata": {},
   "source": [
    "Leave won with: 51,9% vs Remain 48,1%"
   ]
  },
  {
   "cell_type": "code",
   "execution_count": 5,
   "metadata": {
    "collapsed": false
   },
   "outputs": [
    {
     "data": {
      "text/plain": [
       "51.891841981441154"
      ]
     },
     "execution_count": 5,
     "metadata": {},
     "output_type": "execute_result"
    }
   ],
   "source": [
    "leave / (remain + leave) *100"
   ]
  },
  {
   "cell_type": "markdown",
   "metadata": {},
   "source": [
    "One more check: [electoralcommission.org.uk](http://www.electoralcommission.org.uk/find-information-by-subject/elections-and-referendums/upcoming-elections-and-referendums/eu-referendum/electorate-and-count-information) mentions: \n",
    "\n",
    "- Total Electorate: 46,500,001\n",
    "- Turnout: 72.2%\n",
    "- Rejected Ballots: 25,359"
   ]
  },
  {
   "cell_type": "code",
   "execution_count": 6,
   "metadata": {
    "collapsed": false
   },
   "outputs": [
    {
     "data": {
      "text/plain": [
       "46500001"
      ]
     },
     "execution_count": 6,
     "metadata": {},
     "output_type": "execute_result"
    }
   ],
   "source": [
    "electorate = df['Electorate'].sum(); electorate"
   ]
  },
  {
   "cell_type": "code",
   "execution_count": 7,
   "metadata": {
    "collapsed": false
   },
   "outputs": [
    {
     "data": {
      "text/plain": [
       "72.154800598821495"
      ]
     },
     "execution_count": 7,
     "metadata": {},
     "output_type": "execute_result"
    }
   ],
   "source": [
    "turnout = (leave + remain) / electorate * 100; turnout"
   ]
  },
  {
   "cell_type": "code",
   "execution_count": 8,
   "metadata": {
    "collapsed": false
   },
   "outputs": [
    {
     "data": {
      "text/plain": [
       "25359"
      ]
     },
     "execution_count": 8,
     "metadata": {},
     "output_type": "execute_result"
    }
   ],
   "source": [
    "rejected = df.Rejected_Ballots.sum(); rejected"
   ]
  },
  {
   "cell_type": "markdown",
   "metadata": {},
   "source": [
    "## Local areas most in favor of staying vs leaving\n",
    "\n",
    "OK, now the fun part, plot analysis of areas followed by regions..."
   ]
  },
  {
   "cell_type": "markdown",
   "metadata": {},
   "source": [
    "We are going to look at the area most in favor of exiting the Union: "
   ]
  },
  {
   "cell_type": "code",
   "execution_count": 9,
   "metadata": {
    "collapsed": false
   },
   "outputs": [],
   "source": [
    "dfa = df.groupby(\"Area\").sum()\n",
    "dfa.head()\n",
    "dfa[\"Perc_leave\"] = dfa[\"Leave\"] / (dfa[\"Remain\"] + dfa[\"Leave\"]) * 100\n",
    "dfa[\"Perc_remain\"] = dfa[\"Remain\"] / (dfa[\"Remain\"] + dfa[\"Leave\"]) * 100"
   ]
  },
  {
   "cell_type": "code",
   "execution_count": 10,
   "metadata": {
    "collapsed": false
   },
   "outputs": [
    {
     "data": {
      "text/html": [
       "<div>\n",
       "<table border=\"1\" class=\"dataframe\">\n",
       "  <thead>\n",
       "    <tr style=\"text-align: right;\">\n",
       "      <th></th>\n",
       "      <th>id</th>\n",
       "      <th>Electorate</th>\n",
       "      <th>ExpectedBallots</th>\n",
       "      <th>VerifiedBallotPapers</th>\n",
       "      <th>Pct_Turnout</th>\n",
       "      <th>Votes_Cast</th>\n",
       "      <th>Valid_Votes</th>\n",
       "      <th>Remain</th>\n",
       "      <th>Leave</th>\n",
       "      <th>Rejected_Ballots</th>\n",
       "      <th>No_official_mark</th>\n",
       "      <th>Voting_for_both_answers</th>\n",
       "      <th>Writing_or_mark</th>\n",
       "      <th>Unmarked_or_void</th>\n",
       "      <th>Pct_Remain</th>\n",
       "      <th>Pct_Leave</th>\n",
       "      <th>Pct_Rejected</th>\n",
       "      <th>Perc_leave</th>\n",
       "      <th>Perc_remain</th>\n",
       "    </tr>\n",
       "    <tr>\n",
       "      <th>Area</th>\n",
       "      <th></th>\n",
       "      <th></th>\n",
       "      <th></th>\n",
       "      <th></th>\n",
       "      <th></th>\n",
       "      <th></th>\n",
       "      <th></th>\n",
       "      <th></th>\n",
       "      <th></th>\n",
       "      <th></th>\n",
       "      <th></th>\n",
       "      <th></th>\n",
       "      <th></th>\n",
       "      <th></th>\n",
       "      <th></th>\n",
       "      <th></th>\n",
       "      <th></th>\n",
       "      <th></th>\n",
       "      <th></th>\n",
       "    </tr>\n",
       "  </thead>\n",
       "  <tbody>\n",
       "    <tr>\n",
       "      <th>Aberdeen City</th>\n",
       "      <td>148</td>\n",
       "      <td>154266</td>\n",
       "      <td>104809</td>\n",
       "      <td>104809</td>\n",
       "      <td>67.94</td>\n",
       "      <td>104809</td>\n",
       "      <td>104714</td>\n",
       "      <td>63985</td>\n",
       "      <td>40729</td>\n",
       "      <td>95</td>\n",
       "      <td>0</td>\n",
       "      <td>34</td>\n",
       "      <td>2</td>\n",
       "      <td>59</td>\n",
       "      <td>61.10</td>\n",
       "      <td>38.90</td>\n",
       "      <td>0.09</td>\n",
       "      <td>38.895468</td>\n",
       "      <td>61.104532</td>\n",
       "    </tr>\n",
       "    <tr>\n",
       "      <th>Aberdeenshire</th>\n",
       "      <td>149</td>\n",
       "      <td>196809</td>\n",
       "      <td>139014</td>\n",
       "      <td>139014</td>\n",
       "      <td>70.63</td>\n",
       "      <td>139014</td>\n",
       "      <td>138961</td>\n",
       "      <td>76445</td>\n",
       "      <td>62516</td>\n",
       "      <td>53</td>\n",
       "      <td>0</td>\n",
       "      <td>19</td>\n",
       "      <td>1</td>\n",
       "      <td>33</td>\n",
       "      <td>55.01</td>\n",
       "      <td>44.99</td>\n",
       "      <td>0.04</td>\n",
       "      <td>44.988162</td>\n",
       "      <td>55.011838</td>\n",
       "    </tr>\n",
       "    <tr>\n",
       "      <th>Adur</th>\n",
       "      <td>368</td>\n",
       "      <td>48755</td>\n",
       "      <td>37253</td>\n",
       "      <td>37251</td>\n",
       "      <td>76.40</td>\n",
       "      <td>37251</td>\n",
       "      <td>37229</td>\n",
       "      <td>16914</td>\n",
       "      <td>20315</td>\n",
       "      <td>22</td>\n",
       "      <td>0</td>\n",
       "      <td>8</td>\n",
       "      <td>0</td>\n",
       "      <td>14</td>\n",
       "      <td>45.43</td>\n",
       "      <td>54.57</td>\n",
       "      <td>0.06</td>\n",
       "      <td>54.567676</td>\n",
       "      <td>45.432324</td>\n",
       "    </tr>\n",
       "  </tbody>\n",
       "</table>\n",
       "</div>"
      ],
      "text/plain": [
       "                id  Electorate  ExpectedBallots  VerifiedBallotPapers  \\\n",
       "Area                                                                    \n",
       "Aberdeen City  148      154266           104809                104809   \n",
       "Aberdeenshire  149      196809           139014                139014   \n",
       "Adur           368       48755            37253                 37251   \n",
       "\n",
       "               Pct_Turnout  Votes_Cast  Valid_Votes  Remain  Leave  \\\n",
       "Area                                                                 \n",
       "Aberdeen City        67.94      104809       104714   63985  40729   \n",
       "Aberdeenshire        70.63      139014       138961   76445  62516   \n",
       "Adur                 76.40       37251        37229   16914  20315   \n",
       "\n",
       "               Rejected_Ballots  No_official_mark  Voting_for_both_answers  \\\n",
       "Area                                                                         \n",
       "Aberdeen City                95                 0                       34   \n",
       "Aberdeenshire                53                 0                       19   \n",
       "Adur                         22                 0                        8   \n",
       "\n",
       "               Writing_or_mark  Unmarked_or_void  Pct_Remain  Pct_Leave  \\\n",
       "Area                                                                      \n",
       "Aberdeen City                2                59       61.10      38.90   \n",
       "Aberdeenshire                1                33       55.01      44.99   \n",
       "Adur                         0                14       45.43      54.57   \n",
       "\n",
       "               Pct_Rejected  Perc_leave  Perc_remain  \n",
       "Area                                                  \n",
       "Aberdeen City          0.09   38.895468    61.104532  \n",
       "Aberdeenshire          0.04   44.988162    55.011838  \n",
       "Adur                   0.06   54.567676    45.432324  "
      ]
     },
     "execution_count": 10,
     "metadata": {},
     "output_type": "execute_result"
    }
   ],
   "source": [
    "dfa.head(3)"
   ]
  },
  {
   "cell_type": "code",
   "execution_count": 11,
   "metadata": {
    "collapsed": false
   },
   "outputs": [
    {
     "data": {
      "text/html": [
       "<div>\n",
       "<table border=\"1\" class=\"dataframe\">\n",
       "  <thead>\n",
       "    <tr style=\"text-align: right;\">\n",
       "      <th></th>\n",
       "      <th>Perc_leave</th>\n",
       "      <th>Perc_remain</th>\n",
       "    </tr>\n",
       "    <tr>\n",
       "      <th>Area</th>\n",
       "      <th></th>\n",
       "      <th></th>\n",
       "    </tr>\n",
       "  </thead>\n",
       "  <tbody>\n",
       "    <tr>\n",
       "      <th>Boston</th>\n",
       "      <td>75.562426</td>\n",
       "      <td>24.437574</td>\n",
       "    </tr>\n",
       "    <tr>\n",
       "      <th>South Holland</th>\n",
       "      <td>73.586278</td>\n",
       "      <td>26.413722</td>\n",
       "    </tr>\n",
       "    <tr>\n",
       "      <th>Castle Point</th>\n",
       "      <td>72.699392</td>\n",
       "      <td>27.300608</td>\n",
       "    </tr>\n",
       "    <tr>\n",
       "      <th>Thurrock</th>\n",
       "      <td>72.282146</td>\n",
       "      <td>27.717854</td>\n",
       "    </tr>\n",
       "    <tr>\n",
       "      <th>Great Yarmouth</th>\n",
       "      <td>71.504947</td>\n",
       "      <td>28.495053</td>\n",
       "    </tr>\n",
       "  </tbody>\n",
       "</table>\n",
       "</div>"
      ],
      "text/plain": [
       "                Perc_leave  Perc_remain\n",
       "Area                                   \n",
       "Boston           75.562426    24.437574\n",
       "South Holland    73.586278    26.413722\n",
       "Castle Point     72.699392    27.300608\n",
       "Thurrock         72.282146    27.717854\n",
       "Great Yarmouth   71.504947    28.495053"
      ]
     },
     "execution_count": 11,
     "metadata": {},
     "output_type": "execute_result"
    }
   ],
   "source": [
    "top5_leave = dfa[[\"Perc_leave\", \"Perc_remain\"]].sort_values(by=\"Perc_leave\", ascending=False)[0:5]\n",
    "top5_leave.head()"
   ]
  },
  {
   "cell_type": "code",
   "execution_count": 12,
   "metadata": {
    "collapsed": false
   },
   "outputs": [
    {
     "data": {
      "text/plain": [
       "<matplotlib.legend.Legend at 0x7f614bdaec50>"
      ]
     },
     "execution_count": 12,
     "metadata": {},
     "output_type": "execute_result"
    },
    {
     "data": {
      "image/png": "[encoded data removed]",
      "text/plain": [
       "<matplotlib.figure.Figure at 0x7f614bdbc278>"
      ]
     },
     "metadata": {},
     "output_type": "display_data"
    }
   ],
   "source": [
    "plt1 = top5_leave.plot(kind=\"bar\")\n",
    "plt1.legend(loc='center left', bbox_to_anchor=(1, 0.5))"
   ]
  },
  {
   "cell_type": "markdown",
   "metadata": {},
   "source": [
    "Boston at the extreme. Let's see the other extreme: who mostly wanted to stay? We simply change some parametres:"
   ]
  },
  {
   "cell_type": "code",
   "execution_count": 13,
   "metadata": {
    "collapsed": false
   },
   "outputs": [
    {
     "data": {
      "text/html": [
       "<div>\n",
       "<table border=\"1\" class=\"dataframe\">\n",
       "  <thead>\n",
       "    <tr style=\"text-align: right;\">\n",
       "      <th></th>\n",
       "      <th>Perc_leave</th>\n",
       "      <th>Perc_remain</th>\n",
       "    </tr>\n",
       "    <tr>\n",
       "      <th>Area</th>\n",
       "      <th></th>\n",
       "      <th></th>\n",
       "    </tr>\n",
       "  </thead>\n",
       "  <tbody>\n",
       "    <tr>\n",
       "      <th>City of London</th>\n",
       "      <td>24.710161</td>\n",
       "      <td>75.289839</td>\n",
       "    </tr>\n",
       "    <tr>\n",
       "      <th>Haringey</th>\n",
       "      <td>24.426998</td>\n",
       "      <td>75.573002</td>\n",
       "    </tr>\n",
       "    <tr>\n",
       "      <th>Hackney</th>\n",
       "      <td>21.519583</td>\n",
       "      <td>78.480417</td>\n",
       "    </tr>\n",
       "    <tr>\n",
       "      <th>Lambeth</th>\n",
       "      <td>21.377639</td>\n",
       "      <td>78.622361</td>\n",
       "    </tr>\n",
       "    <tr>\n",
       "      <th>Gibraltar</th>\n",
       "      <td>4.085381</td>\n",
       "      <td>95.914619</td>\n",
       "    </tr>\n",
       "  </tbody>\n",
       "</table>\n",
       "</div>"
      ],
      "text/plain": [
       "                Perc_leave  Perc_remain\n",
       "Area                                   \n",
       "City of London   24.710161    75.289839\n",
       "Haringey         24.426998    75.573002\n",
       "Hackney          21.519583    78.480417\n",
       "Lambeth          21.377639    78.622361\n",
       "Gibraltar         4.085381    95.914619"
      ]
     },
     "execution_count": 13,
     "metadata": {},
     "output_type": "execute_result"
    }
   ],
   "source": [
    "top5_remain = dfa[[\"Perc_leave\", \"Perc_remain\"]].sort_values(by=\"Perc_leave\", ascending=False)[-5:]\n",
    "top5_remain"
   ]
  },
  {
   "cell_type": "code",
   "execution_count": 14,
   "metadata": {
    "collapsed": false
   },
   "outputs": [
    {
     "data": {
      "text/plain": [
       "<matplotlib.legend.Legend at 0x7f6149919048>"
      ]
     },
     "execution_count": 14,
     "metadata": {},
     "output_type": "execute_result"
    },
    {
     "data": {
      "image/png": "[encoded data removed]",
      "text/plain": [
       "<matplotlib.figure.Figure at 0x7f6149996ac8>"
      ]
     },
     "metadata": {},
     "output_type": "display_data"
    }
   ],
   "source": [
    "plt2 = top5_remain.plot(kind=\"bar\")\n",
    "plt2.legend(loc='center left', bbox_to_anchor=(1, 0.5))"
   ]
  },
  {
   "cell_type": "markdown",
   "metadata": {},
   "source": [
    "Gibraltar shows a clear spike!"
   ]
  },
  {
   "cell_type": "markdown",
   "metadata": {},
   "source": [
    "## Regions\n",
    "\n",
    "Now we look at what regions want to remain / leave: "
   ]
  },
  {
   "cell_type": "code",
   "execution_count": 15,
   "metadata": {
    "collapsed": false
   },
   "outputs": [
    {
     "data": {
      "text/html": [
       "<div>\n",
       "<table border=\"1\" class=\"dataframe\">\n",
       "  <thead>\n",
       "    <tr style=\"text-align: right;\">\n",
       "      <th></th>\n",
       "      <th>id</th>\n",
       "      <th>Electorate</th>\n",
       "      <th>ExpectedBallots</th>\n",
       "      <th>VerifiedBallotPapers</th>\n",
       "      <th>Pct_Turnout</th>\n",
       "      <th>Votes_Cast</th>\n",
       "      <th>Valid_Votes</th>\n",
       "      <th>Remain</th>\n",
       "      <th>Leave</th>\n",
       "      <th>Rejected_Ballots</th>\n",
       "      <th>No_official_mark</th>\n",
       "      <th>Voting_for_both_answers</th>\n",
       "      <th>Writing_or_mark</th>\n",
       "      <th>Unmarked_or_void</th>\n",
       "      <th>Pct_Remain</th>\n",
       "      <th>Pct_Leave</th>\n",
       "      <th>Pct_Rejected</th>\n",
       "    </tr>\n",
       "    <tr>\n",
       "      <th>Region</th>\n",
       "      <th></th>\n",
       "      <th></th>\n",
       "      <th></th>\n",
       "      <th></th>\n",
       "      <th></th>\n",
       "      <th></th>\n",
       "      <th></th>\n",
       "      <th></th>\n",
       "      <th></th>\n",
       "      <th></th>\n",
       "      <th></th>\n",
       "      <th></th>\n",
       "      <th></th>\n",
       "      <th></th>\n",
       "      <th></th>\n",
       "      <th></th>\n",
       "      <th></th>\n",
       "    </tr>\n",
       "  </thead>\n",
       "  <tbody>\n",
       "    <tr>\n",
       "      <th>East</th>\n",
       "      <td>11428</td>\n",
       "      <td>4398796</td>\n",
       "      <td>3331637</td>\n",
       "      <td>3331459</td>\n",
       "      <td>3559.86</td>\n",
       "      <td>3331312</td>\n",
       "      <td>3328983</td>\n",
       "      <td>1448616</td>\n",
       "      <td>1880367</td>\n",
       "      <td>2329</td>\n",
       "      <td>17</td>\n",
       "      <td>815</td>\n",
       "      <td>72</td>\n",
       "      <td>1425</td>\n",
       "      <td>2022.78</td>\n",
       "      <td>2677.22</td>\n",
       "      <td>3.27</td>\n",
       "    </tr>\n",
       "    <tr>\n",
       "      <th>East Midlands</th>\n",
       "      <td>10451</td>\n",
       "      <td>3384299</td>\n",
       "      <td>2510653</td>\n",
       "      <td>2510561</td>\n",
       "      <td>3018.09</td>\n",
       "      <td>2510496</td>\n",
       "      <td>2508515</td>\n",
       "      <td>1033036</td>\n",
       "      <td>1475479</td>\n",
       "      <td>1981</td>\n",
       "      <td>7</td>\n",
       "      <td>694</td>\n",
       "      <td>73</td>\n",
       "      <td>1207</td>\n",
       "      <td>1617.02</td>\n",
       "      <td>2382.98</td>\n",
       "      <td>2.85</td>\n",
       "    </tr>\n",
       "    <tr>\n",
       "      <th>London</th>\n",
       "      <td>561</td>\n",
       "      <td>5424768</td>\n",
       "      <td>3781355</td>\n",
       "      <td>3781234</td>\n",
       "      <td>2303.97</td>\n",
       "      <td>3781204</td>\n",
       "      <td>3776751</td>\n",
       "      <td>2263519</td>\n",
       "      <td>1513232</td>\n",
       "      <td>4453</td>\n",
       "      <td>26</td>\n",
       "      <td>1788</td>\n",
       "      <td>143</td>\n",
       "      <td>2496</td>\n",
       "      <td>2009.98</td>\n",
       "      <td>1290.02</td>\n",
       "      <td>3.94</td>\n",
       "    </tr>\n",
       "    <tr>\n",
       "      <th>North East</th>\n",
       "      <td>786</td>\n",
       "      <td>1934341</td>\n",
       "      <td>1341474</td>\n",
       "      <td>1341387</td>\n",
       "      <td>829.57</td>\n",
       "      <td>1341387</td>\n",
       "      <td>1340698</td>\n",
       "      <td>562595</td>\n",
       "      <td>778103</td>\n",
       "      <td>689</td>\n",
       "      <td>8</td>\n",
       "      <td>185</td>\n",
       "      <td>30</td>\n",
       "      <td>466</td>\n",
       "      <td>486.25</td>\n",
       "      <td>713.75</td>\n",
       "      <td>0.62</td>\n",
       "    </tr>\n",
       "    <tr>\n",
       "      <th>North West</th>\n",
       "      <td>5583</td>\n",
       "      <td>5241568</td>\n",
       "      <td>3668740</td>\n",
       "      <td>3668629</td>\n",
       "      <td>2758.82</td>\n",
       "      <td>3668627</td>\n",
       "      <td>3665945</td>\n",
       "      <td>1699020</td>\n",
       "      <td>1966925</td>\n",
       "      <td>2682</td>\n",
       "      <td>44</td>\n",
       "      <td>851</td>\n",
       "      <td>110</td>\n",
       "      <td>1677</td>\n",
       "      <td>1719.31</td>\n",
       "      <td>2180.69</td>\n",
       "      <td>2.87</td>\n",
       "    </tr>\n",
       "    <tr>\n",
       "      <th>Northern Ireland</th>\n",
       "      <td>381</td>\n",
       "      <td>1260955</td>\n",
       "      <td>790647</td>\n",
       "      <td>790523</td>\n",
       "      <td>62.69</td>\n",
       "      <td>790523</td>\n",
       "      <td>790149</td>\n",
       "      <td>440707</td>\n",
       "      <td>349442</td>\n",
       "      <td>374</td>\n",
       "      <td>18</td>\n",
       "      <td>148</td>\n",
       "      <td>1</td>\n",
       "      <td>207</td>\n",
       "      <td>55.78</td>\n",
       "      <td>44.22</td>\n",
       "      <td>0.05</td>\n",
       "    </tr>\n",
       "    <tr>\n",
       "      <th>Scotland</th>\n",
       "      <td>5232</td>\n",
       "      <td>3987112</td>\n",
       "      <td>2681265</td>\n",
       "      <td>2681179</td>\n",
       "      <td>2195.87</td>\n",
       "      <td>2681179</td>\n",
       "      <td>2679513</td>\n",
       "      <td>1661191</td>\n",
       "      <td>1018322</td>\n",
       "      <td>1666</td>\n",
       "      <td>6</td>\n",
       "      <td>553</td>\n",
       "      <td>38</td>\n",
       "      <td>1069</td>\n",
       "      <td>1947.62</td>\n",
       "      <td>1252.38</td>\n",
       "      <td>2.12</td>\n",
       "    </tr>\n",
       "    <tr>\n",
       "      <th>South East</th>\n",
       "      <td>17317</td>\n",
       "      <td>6465404</td>\n",
       "      <td>4963338</td>\n",
       "      <td>4963182</td>\n",
       "      <td>5162.38</td>\n",
       "      <td>4963110</td>\n",
       "      <td>4959683</td>\n",
       "      <td>2391718</td>\n",
       "      <td>2567965</td>\n",
       "      <td>3427</td>\n",
       "      <td>13</td>\n",
       "      <td>1197</td>\n",
       "      <td>148</td>\n",
       "      <td>2069</td>\n",
       "      <td>3204.61</td>\n",
       "      <td>3495.39</td>\n",
       "      <td>4.64</td>\n",
       "    </tr>\n",
       "    <tr>\n",
       "      <th>South West</th>\n",
       "      <td>7622</td>\n",
       "      <td>4138134</td>\n",
       "      <td>3175204</td>\n",
       "      <td>3175003</td>\n",
       "      <td>2945.16</td>\n",
       "      <td>3174909</td>\n",
       "      <td>3172730</td>\n",
       "      <td>1503019</td>\n",
       "      <td>1669711</td>\n",
       "      <td>2179</td>\n",
       "      <td>5</td>\n",
       "      <td>735</td>\n",
       "      <td>65</td>\n",
       "      <td>1374</td>\n",
       "      <td>1809.59</td>\n",
       "      <td>1990.41</td>\n",
       "      <td>2.51</td>\n",
       "    </tr>\n",
       "    <tr>\n",
       "      <th>Wales</th>\n",
       "      <td>3003</td>\n",
       "      <td>2270272</td>\n",
       "      <td>1628115</td>\n",
       "      <td>1628075</td>\n",
       "      <td>1583.18</td>\n",
       "      <td>1628054</td>\n",
       "      <td>1626919</td>\n",
       "      <td>772347</td>\n",
       "      <td>854572</td>\n",
       "      <td>1135</td>\n",
       "      <td>39</td>\n",
       "      <td>418</td>\n",
       "      <td>27</td>\n",
       "      <td>651</td>\n",
       "      <td>1026.35</td>\n",
       "      <td>1173.65</td>\n",
       "      <td>1.49</td>\n",
       "    </tr>\n",
       "    <tr>\n",
       "      <th>West Midlands</th>\n",
       "      <td>7615</td>\n",
       "      <td>4116572</td>\n",
       "      <td>2965599</td>\n",
       "      <td>2965411</td>\n",
       "      <td>2236.03</td>\n",
       "      <td>2965369</td>\n",
       "      <td>2962862</td>\n",
       "      <td>1207175</td>\n",
       "      <td>1755687</td>\n",
       "      <td>2507</td>\n",
       "      <td>7</td>\n",
       "      <td>1000</td>\n",
       "      <td>55</td>\n",
       "      <td>1445</td>\n",
       "      <td>1190.56</td>\n",
       "      <td>1809.44</td>\n",
       "      <td>2.22</td>\n",
       "    </tr>\n",
       "    <tr>\n",
       "      <th>Yorkshire and The Humber</th>\n",
       "      <td>3174</td>\n",
       "      <td>3877780</td>\n",
       "      <td>2741465</td>\n",
       "      <td>2741394</td>\n",
       "      <td>1518.70</td>\n",
       "      <td>2741172</td>\n",
       "      <td>2739235</td>\n",
       "      <td>1158298</td>\n",
       "      <td>1580937</td>\n",
       "      <td>1937</td>\n",
       "      <td>42</td>\n",
       "      <td>700</td>\n",
       "      <td>74</td>\n",
       "      <td>1121</td>\n",
       "      <td>868.35</td>\n",
       "      <td>1231.65</td>\n",
       "      <td>1.32</td>\n",
       "    </tr>\n",
       "  </tbody>\n",
       "</table>\n",
       "</div>"
      ],
      "text/plain": [
       "                             id  Electorate  ExpectedBallots  \\\n",
       "Region                                                         \n",
       "East                      11428     4398796          3331637   \n",
       "East Midlands             10451     3384299          2510653   \n",
       "London                      561     5424768          3781355   \n",
       "North East                  786     1934341          1341474   \n",
       "North West                 5583     5241568          3668740   \n",
       "Northern Ireland            381     1260955           790647   \n",
       "Scotland                   5232     3987112          2681265   \n",
       "South East                17317     6465404          4963338   \n",
       "South West                 7622     4138134          3175204   \n",
       "Wales                      3003     2270272          1628115   \n",
       "West Midlands              7615     4116572          2965599   \n",
       "Yorkshire and The Humber   3174     3877780          2741465   \n",
       "\n",
       "                          VerifiedBallotPapers  Pct_Turnout  Votes_Cast  \\\n",
       "Region                                                                    \n",
       "East                                   3331459      3559.86     3331312   \n",
       "East Midlands                          2510561      3018.09     2510496   \n",
       "London                                 3781234      2303.97     3781204   \n",
       "North East                             1341387       829.57     1341387   \n",
       "North West                             3668629      2758.82     3668627   \n",
       "Northern Ireland                        790523        62.69      790523   \n",
       "Scotland                               2681179      2195.87     2681179   \n",
       "South East                             4963182      5162.38     4963110   \n",
       "South West                             3175003      2945.16     3174909   \n",
       "Wales                                  1628075      1583.18     1628054   \n",
       "West Midlands                          2965411      2236.03     2965369   \n",
       "Yorkshire and The Humber               2741394      1518.70     2741172   \n",
       "\n",
       "                          Valid_Votes   Remain    Leave  Rejected_Ballots  \\\n",
       "Region                                                                      \n",
       "East                          3328983  1448616  1880367              2329   \n",
       "East Midlands                 2508515  1033036  1475479              1981   \n",
       "London                        3776751  2263519  1513232              4453   \n",
       "North East                    1340698   562595   778103               689   \n",
       "North West                    3665945  1699020  1966925              2682   \n",
       "Northern Ireland               790149   440707   349442               374   \n",
       "Scotland                      2679513  1661191  1018322              1666   \n",
       "South East                    4959683  2391718  2567965              3427   \n",
       "South West                    3172730  1503019  1669711              2179   \n",
       "Wales                         1626919   772347   854572              1135   \n",
       "West Midlands                 2962862  1207175  1755687              2507   \n",
       "Yorkshire and The Humber      2739235  1158298  1580937              1937   \n",
       "\n",
       "                          No_official_mark  Voting_for_both_answers  \\\n",
       "Region                                                                \n",
       "East                                    17                      815   \n",
       "East Midlands                            7                      694   \n",
       "London                                  26                     1788   \n",
       "North East                               8                      185   \n",
       "North West                              44                      851   \n",
       "Northern Ireland                        18                      148   \n",
       "Scotland                                 6                      553   \n",
       "South East                              13                     1197   \n",
       "South West                               5                      735   \n",
       "Wales                                   39                      418   \n",
       "West Midlands                            7                     1000   \n",
       "Yorkshire and The Humber                42                      700   \n",
       "\n",
       "                          Writing_or_mark  Unmarked_or_void  Pct_Remain  \\\n",
       "Region                                                                    \n",
       "East                                   72              1425     2022.78   \n",
       "East Midlands                          73              1207     1617.02   \n",
       "London                                143              2496     2009.98   \n",
       "North East                             30               466      486.25   \n",
       "North West                            110              1677     1719.31   \n",
       "Northern Ireland                        1               207       55.78   \n",
       "Scotland                               38              1069     1947.62   \n",
       "South East                            148              2069     3204.61   \n",
       "South West                             65              1374     1809.59   \n",
       "Wales                                  27               651     1026.35   \n",
       "West Midlands                          55              1445     1190.56   \n",
       "Yorkshire and The Humber               74              1121      868.35   \n",
       "\n",
       "                          Pct_Leave  Pct_Rejected  \n",
       "Region                                             \n",
       "East                        2677.22          3.27  \n",
       "East Midlands               2382.98          2.85  \n",
       "London                      1290.02          3.94  \n",
       "North East                   713.75          0.62  \n",
       "North West                  2180.69          2.87  \n",
       "Northern Ireland              44.22          0.05  \n",
       "Scotland                    1252.38          2.12  \n",
       "South East                  3495.39          4.64  \n",
       "South West                  1990.41          2.51  \n",
       "Wales                       1173.65          1.49  \n",
       "West Midlands               1809.44          2.22  \n",
       "Yorkshire and The Humber    1231.65          1.32  "
      ]
     },
     "execution_count": 15,
     "metadata": {},
     "output_type": "execute_result"
    }
   ],
   "source": [
    "dfr = df.groupby(\"Region\").sum(); dfr"
   ]
  },
  {
   "cell_type": "code",
   "execution_count": 16,
   "metadata": {
    "collapsed": true
   },
   "outputs": [],
   "source": [
    "dfr[\"Perc_leave\"] = dfr[\"Leave\"] / (dfr[\"Remain\"] + dfr[\"Leave\"]) * 100\n",
    "dfr[\"Perc_remain\"] = dfr[\"Remain\"] / (dfr[\"Remain\"] + dfr[\"Leave\"]) * 100"
   ]
  },
  {
   "cell_type": "code",
   "execution_count": 17,
   "metadata": {
    "collapsed": false
   },
   "outputs": [
    {
     "data": {
      "text/plain": [
       "<matplotlib.axes._subplots.AxesSubplot at 0x7f61496ecc18>"
      ]
     },
     "execution_count": 17,
     "metadata": {},
     "output_type": "execute_result"
    },
    {
     "data": {
      "image/png": "[encoded data removed]",
      "text/plain": [
       "<matplotlib.figure.Figure at 0x7f61496f9e80>"
      ]
     },
     "metadata": {},
     "output_type": "display_data"
    }
   ],
   "source": [
    "dfr[[\"Perc_leave\", \"Perc_remain\"]].sort_values(by=\"Perc_leave\", ascending=False).plot(kind=\"bar\")"
   ]
  },
  {
   "cell_type": "markdown",
   "metadata": {},
   "source": [
    "We can see that Scotland, London and Ireland wanted to stay, The Midlands want to leave. "
   ]
  },
  {
   "cell_type": "markdown",
   "metadata": {},
   "source": [
    "## Doing relations with demographic data"
   ]
  },
  {
   "cell_type": "markdown",
   "metadata": {},
   "source": [
    "We can relate the brexit voting data per area to various demographic data found at [2011 Census, Key Statistics for Local Authorities in England and Wales](http://webarchive.nationalarchives.gov.uk/20160105160709/http://www.ons.gov.uk/ons/publications/re-reference-tables.html?edition=tcm%3A77-286262). Let's check if there is a relation between the voting and median age, unemployment, higher education and born outside UK.\n",
    "\n",
    "Define the census tables we need:"
   ]
  },
  {
   "cell_type": "code",
   "execution_count": 18,
   "metadata": {
    "collapsed": true
   },
   "outputs": [],
   "source": [
    "census_data = {\n",
    "     \"age\" : \"http://webarchive.nationalarchives.gov.uk/20160105160709/http://www.ons.gov.uk/ons/rel/census/2011-census/key-statistics-for-local-authorities-in-england-and-wales/rft-table-ks102ew.xls\",\n",
    "     \"unemployment\" : \"http://webarchive.nationalarchives.gov.uk/20160105160709/http://www.ons.gov.uk/ons/rel/census/2011-census/key-statistics-for-local-authorities-in-england-and-wales/rft-table-ks601ew.xls\",\n",
    "     \"education\" : \"http://webarchive.nationalarchives.gov.uk/20160105160709/http://www.ons.gov.uk/ons/rel/census/2011-census/key-statistics-for-local-authorities-in-england-and-wales/rft-table-ks501ew.xls\",\n",
    "     \"outside_uk\" : \"http://webarchive.nationalarchives.gov.uk/20160105160709/http://www.ons.gov.uk/ons/rel/census/2011-census/key-statistics-for-local-authorities-in-england-and-wales/rft-table-qs203ew.xls\",\n",
    "}"
   ]
  },
  {
   "cell_type": "markdown",
   "metadata": {},
   "source": [
    "Load the census data for age, unemployment rate and people born outside of UK:"
   ]
  },
  {
   "cell_type": "code",
   "execution_count": 19,
   "metadata": {
    "collapsed": false
   },
   "outputs": [
    {
     "data": {
      "text/html": [
       "<div>\n",
       "<table border=\"1\" class=\"dataframe\">\n",
       "  <thead>\n",
       "    <tr style=\"text-align: right;\">\n",
       "      <th></th>\n",
       "      <th>Area code</th>\n",
       "      <th>Median age</th>\n",
       "    </tr>\n",
       "  </thead>\n",
       "  <tbody>\n",
       "    <tr>\n",
       "      <th>0</th>\n",
       "      <td>K04000001</td>\n",
       "      <td>39.0</td>\n",
       "    </tr>\n",
       "    <tr>\n",
       "      <th>1</th>\n",
       "      <td>NaN</td>\n",
       "      <td>NaN</td>\n",
       "    </tr>\n",
       "    <tr>\n",
       "      <th>2</th>\n",
       "      <td>E92000001</td>\n",
       "      <td>39.0</td>\n",
       "    </tr>\n",
       "    <tr>\n",
       "      <th>3</th>\n",
       "      <td>NaN</td>\n",
       "      <td>NaN</td>\n",
       "    </tr>\n",
       "    <tr>\n",
       "      <th>4</th>\n",
       "      <td>E12000001</td>\n",
       "      <td>41.0</td>\n",
       "    </tr>\n",
       "  </tbody>\n",
       "</table>\n",
       "</div>"
      ],
      "text/plain": [
       "   Area code  Median age\n",
       "0  K04000001        39.0\n",
       "1        NaN         NaN\n",
       "2  E92000001        39.0\n",
       "3        NaN         NaN\n",
       "4  E12000001        41.0"
      ]
     },
     "execution_count": 19,
     "metadata": {},
     "output_type": "execute_result"
    }
   ],
   "source": [
    "age = pd.read_excel(io=census_data[\"age\"], sheetname=\"KS102EW_Numbers\", header=10, parse_cols=(\"A,W\"), skiprows=[11,12,13])\n",
    "age.head()"
   ]
  },
  {
   "cell_type": "code",
   "execution_count": 20,
   "metadata": {
    "collapsed": false
   },
   "outputs": [
    {
     "data": {
      "text/html": [
       "<div>\n",
       "<table border=\"1\" class=\"dataframe\">\n",
       "  <thead>\n",
       "    <tr style=\"text-align: right;\">\n",
       "      <th></th>\n",
       "      <th>Area code</th>\n",
       "      <th>median_age</th>\n",
       "    </tr>\n",
       "  </thead>\n",
       "  <tbody>\n",
       "    <tr>\n",
       "      <th>0</th>\n",
       "      <td>K04000001</td>\n",
       "      <td>39.0</td>\n",
       "    </tr>\n",
       "    <tr>\n",
       "      <th>2</th>\n",
       "      <td>E92000001</td>\n",
       "      <td>39.0</td>\n",
       "    </tr>\n",
       "    <tr>\n",
       "      <th>4</th>\n",
       "      <td>E12000001</td>\n",
       "      <td>41.0</td>\n",
       "    </tr>\n",
       "    <tr>\n",
       "      <th>6</th>\n",
       "      <td>E06000047</td>\n",
       "      <td>42.0</td>\n",
       "    </tr>\n",
       "    <tr>\n",
       "      <th>7</th>\n",
       "      <td>E06000005</td>\n",
       "      <td>41.0</td>\n",
       "    </tr>\n",
       "  </tbody>\n",
       "</table>\n",
       "</div>"
      ],
      "text/plain": [
       "   Area code  median_age\n",
       "0  K04000001        39.0\n",
       "2  E92000001        39.0\n",
       "4  E12000001        41.0\n",
       "6  E06000047        42.0\n",
       "7  E06000005        41.0"
      ]
     },
     "execution_count": 20,
     "metadata": {},
     "output_type": "execute_result"
    }
   ],
   "source": [
    "age.dropna(how='all', inplace=True)\n",
    "age.rename(index=str, inplace=True, columns={\"Median age\": \"median_age\", }) \n",
    "age = age[[\"Area code\", \"median_age\"]]\n",
    "age.head()"
   ]
  },
  {
   "cell_type": "code",
   "execution_count": 21,
   "metadata": {
    "collapsed": false
   },
   "outputs": [
    {
     "data": {
      "text/html": [
       "<div>\n",
       "<table border=\"1\" class=\"dataframe\">\n",
       "  <thead>\n",
       "    <tr style=\"text-align: right;\">\n",
       "      <th></th>\n",
       "      <th>Area code</th>\n",
       "      <th>perc_high_education</th>\n",
       "    </tr>\n",
       "  </thead>\n",
       "  <tbody>\n",
       "    <tr>\n",
       "      <th>1</th>\n",
       "      <td>K04000001</td>\n",
       "      <td>0.395661</td>\n",
       "    </tr>\n",
       "    <tr>\n",
       "      <th>3</th>\n",
       "      <td>E92000001</td>\n",
       "      <td>0.397282</td>\n",
       "    </tr>\n",
       "  </tbody>\n",
       "</table>\n",
       "</div>"
      ],
      "text/plain": [
       "   Area code  perc_high_education\n",
       "1  K04000001             0.395661\n",
       "3  E92000001             0.397282"
      ]
     },
     "execution_count": 21,
     "metadata": {},
     "output_type": "execute_result"
    }
   ],
   "source": [
    "# level 3 and 4+ = cols J and K \n",
    "education = pd.read_excel(io=census_data[\"education\"], sheetname=\"KS501EW_Numbers\", header=10, parse_cols=(\"A,E,J,K\"), skiprows=[11,12,13])\n",
    "education.dropna(how='all', inplace=True)\n",
    "education[\"perc_high_education\"] = (education[education.columns[2]] + education[education.columns[3]]) / education[education.columns[1]]\n",
    "education = education[[\"Area code\", \"perc_high_education\"]]\n",
    "education.head(2)"
   ]
  },
  {
   "cell_type": "code",
   "execution_count": 22,
   "metadata": {
    "collapsed": false
   },
   "outputs": [
    {
     "data": {
      "text/html": [
       "<div>\n",
       "<table border=\"1\" class=\"dataframe\">\n",
       "  <thead>\n",
       "    <tr style=\"text-align: right;\">\n",
       "      <th></th>\n",
       "      <th>Area code</th>\n",
       "      <th>perc_unemployed</th>\n",
       "    </tr>\n",
       "  </thead>\n",
       "  <tbody>\n",
       "    <tr>\n",
       "      <th>0</th>\n",
       "      <td>K04000001</td>\n",
       "      <td>0.043756</td>\n",
       "    </tr>\n",
       "    <tr>\n",
       "      <th>2</th>\n",
       "      <td>E92000001</td>\n",
       "      <td>0.043796</td>\n",
       "    </tr>\n",
       "  </tbody>\n",
       "</table>\n",
       "</div>"
      ],
      "text/plain": [
       "   Area code  perc_unemployed\n",
       "0  K04000001         0.043756\n",
       "2  E92000001         0.043796"
      ]
     },
     "execution_count": 22,
     "metadata": {},
     "output_type": "execute_result"
    }
   ],
   "source": [
    "unemployment = pd.read_excel(io=census_data[\"unemployment\"], sheetname=\"KS601EW_Numbers\", header=10, parse_cols=(\"A,E,I\"), skiprows=[11,12,13])\n",
    "unemployment.dropna(how='all', inplace=True)\n",
    "unemployment[\"perc_unemployed\"] = unemployment[unemployment.columns[2]] / unemployment[unemployment.columns[1]]\n",
    "unemployment = unemployment[[\"Area code\", \"perc_unemployed\"]]\n",
    "unemployment.head(2)"
   ]
  },
  {
   "cell_type": "code",
   "execution_count": 23,
   "metadata": {
    "collapsed": false
   },
   "outputs": [
    {
     "data": {
      "text/html": [
       "<div>\n",
       "<table border=\"1\" class=\"dataframe\">\n",
       "  <thead>\n",
       "    <tr style=\"text-align: right;\">\n",
       "      <th></th>\n",
       "      <th>Area code</th>\n",
       "      <th>perc_born_outside_uk</th>\n",
       "    </tr>\n",
       "  </thead>\n",
       "  <tbody>\n",
       "    <tr>\n",
       "      <th>0</th>\n",
       "      <td>K04000001</td>\n",
       "      <td>0.133837</td>\n",
       "    </tr>\n",
       "    <tr>\n",
       "      <th>2</th>\n",
       "      <td>E92000001</td>\n",
       "      <td>0.138404</td>\n",
       "    </tr>\n",
       "  </tbody>\n",
       "</table>\n",
       "</div>"
      ],
      "text/plain": [
       "   Area code  perc_born_outside_uk\n",
       "0  K04000001              0.133837\n",
       "2  E92000001              0.138404"
      ]
     },
     "execution_count": 23,
     "metadata": {},
     "output_type": "execute_result"
    }
   ],
   "source": [
    "outside_uk = pd.read_excel(io=census_data[\"outside_uk\"], sheetname=\"QS203EW_Numbers\", header=10, parse_cols=(\"A,E,G\"), skiprows=[11,12,13])\n",
    "outside_uk.dropna(how='all', inplace=True)\n",
    "outside_uk.columns[2]\n",
    "# all birth (col E) - UK birth (col G) = outside birth\n",
    "outside_uk[\"perc_born_outside_uk\"] = (outside_uk[outside_uk.columns[1]] - outside_uk[outside_uk.columns[2]]) / outside_uk[outside_uk.columns[1]]\n",
    "outside_uk = outside_uk[[\"Area code\", \"perc_born_outside_uk\"]]\n",
    "outside_uk.head(2)"
   ]
  },
  {
   "cell_type": "code",
   "execution_count": 24,
   "metadata": {
    "collapsed": false
   },
   "outputs": [
    {
     "data": {
      "text/html": [
       "<div>\n",
       "<table border=\"1\" class=\"dataframe\">\n",
       "  <thead>\n",
       "    <tr style=\"text-align: right;\">\n",
       "      <th></th>\n",
       "      <th>id</th>\n",
       "      <th>Region_Code</th>\n",
       "      <th>Region</th>\n",
       "      <th>Area_Code</th>\n",
       "      <th>Area</th>\n",
       "      <th>Electorate</th>\n",
       "      <th>ExpectedBallots</th>\n",
       "      <th>VerifiedBallotPapers</th>\n",
       "      <th>Pct_Turnout</th>\n",
       "      <th>Votes_Cast</th>\n",
       "      <th>...</th>\n",
       "      <th>Remain</th>\n",
       "      <th>Leave</th>\n",
       "      <th>Rejected_Ballots</th>\n",
       "      <th>No_official_mark</th>\n",
       "      <th>Voting_for_both_answers</th>\n",
       "      <th>Writing_or_mark</th>\n",
       "      <th>Unmarked_or_void</th>\n",
       "      <th>Pct_Remain</th>\n",
       "      <th>Pct_Leave</th>\n",
       "      <th>Pct_Rejected</th>\n",
       "    </tr>\n",
       "  </thead>\n",
       "  <tbody>\n",
       "    <tr>\n",
       "      <th>0</th>\n",
       "      <td>108</td>\n",
       "      <td>E12000006</td>\n",
       "      <td>East</td>\n",
       "      <td>E06000031</td>\n",
       "      <td>Peterborough</td>\n",
       "      <td>120892</td>\n",
       "      <td>87474</td>\n",
       "      <td>87469</td>\n",
       "      <td>72.35</td>\n",
       "      <td>87469</td>\n",
       "      <td>...</td>\n",
       "      <td>34176</td>\n",
       "      <td>53216</td>\n",
       "      <td>77</td>\n",
       "      <td>0</td>\n",
       "      <td>32</td>\n",
       "      <td>7</td>\n",
       "      <td>38</td>\n",
       "      <td>39.11</td>\n",
       "      <td>60.89</td>\n",
       "      <td>0.09</td>\n",
       "    </tr>\n",
       "    <tr>\n",
       "      <th>1</th>\n",
       "      <td>109</td>\n",
       "      <td>E12000006</td>\n",
       "      <td>East</td>\n",
       "      <td>E06000032</td>\n",
       "      <td>Luton</td>\n",
       "      <td>127612</td>\n",
       "      <td>84633</td>\n",
       "      <td>84636</td>\n",
       "      <td>66.31</td>\n",
       "      <td>84616</td>\n",
       "      <td>...</td>\n",
       "      <td>36708</td>\n",
       "      <td>47773</td>\n",
       "      <td>135</td>\n",
       "      <td>0</td>\n",
       "      <td>85</td>\n",
       "      <td>0</td>\n",
       "      <td>50</td>\n",
       "      <td>43.45</td>\n",
       "      <td>56.55</td>\n",
       "      <td>0.16</td>\n",
       "    </tr>\n",
       "    <tr>\n",
       "      <th>2</th>\n",
       "      <td>112</td>\n",
       "      <td>E12000006</td>\n",
       "      <td>East</td>\n",
       "      <td>E06000033</td>\n",
       "      <td>Southend-on-Sea</td>\n",
       "      <td>128856</td>\n",
       "      <td>93948</td>\n",
       "      <td>93939</td>\n",
       "      <td>72.90</td>\n",
       "      <td>93939</td>\n",
       "      <td>...</td>\n",
       "      <td>39348</td>\n",
       "      <td>54522</td>\n",
       "      <td>69</td>\n",
       "      <td>0</td>\n",
       "      <td>21</td>\n",
       "      <td>0</td>\n",
       "      <td>48</td>\n",
       "      <td>41.92</td>\n",
       "      <td>58.08</td>\n",
       "      <td>0.07</td>\n",
       "    </tr>\n",
       "    <tr>\n",
       "      <th>3</th>\n",
       "      <td>113</td>\n",
       "      <td>E12000006</td>\n",
       "      <td>East</td>\n",
       "      <td>E06000034</td>\n",
       "      <td>Thurrock</td>\n",
       "      <td>109897</td>\n",
       "      <td>79969</td>\n",
       "      <td>79954</td>\n",
       "      <td>72.75</td>\n",
       "      <td>79950</td>\n",
       "      <td>...</td>\n",
       "      <td>22151</td>\n",
       "      <td>57765</td>\n",
       "      <td>34</td>\n",
       "      <td>0</td>\n",
       "      <td>8</td>\n",
       "      <td>3</td>\n",
       "      <td>23</td>\n",
       "      <td>27.72</td>\n",
       "      <td>72.28</td>\n",
       "      <td>0.04</td>\n",
       "    </tr>\n",
       "    <tr>\n",
       "      <th>4</th>\n",
       "      <td>110</td>\n",
       "      <td>E12000006</td>\n",
       "      <td>East</td>\n",
       "      <td>E06000055</td>\n",
       "      <td>Bedford</td>\n",
       "      <td>119530</td>\n",
       "      <td>86136</td>\n",
       "      <td>86136</td>\n",
       "      <td>72.06</td>\n",
       "      <td>86135</td>\n",
       "      <td>...</td>\n",
       "      <td>41497</td>\n",
       "      <td>44569</td>\n",
       "      <td>69</td>\n",
       "      <td>0</td>\n",
       "      <td>26</td>\n",
       "      <td>1</td>\n",
       "      <td>42</td>\n",
       "      <td>48.22</td>\n",
       "      <td>51.78</td>\n",
       "      <td>0.08</td>\n",
       "    </tr>\n",
       "  </tbody>\n",
       "</table>\n",
       "<p>5 rows × 21 columns</p>\n",
       "</div>"
      ],
      "text/plain": [
       "    id Region_Code Region  Area_Code             Area  Electorate  \\\n",
       "0  108   E12000006   East  E06000031     Peterborough      120892   \n",
       "1  109   E12000006   East  E06000032            Luton      127612   \n",
       "2  112   E12000006   East  E06000033  Southend-on-Sea      128856   \n",
       "3  113   E12000006   East  E06000034         Thurrock      109897   \n",
       "4  110   E12000006   East  E06000055          Bedford      119530   \n",
       "\n",
       "   ExpectedBallots  VerifiedBallotPapers  Pct_Turnout  Votes_Cast  \\\n",
       "0            87474                 87469        72.35       87469   \n",
       "1            84633                 84636        66.31       84616   \n",
       "2            93948                 93939        72.90       93939   \n",
       "3            79969                 79954        72.75       79950   \n",
       "4            86136                 86136        72.06       86135   \n",
       "\n",
       "       ...       Remain  Leave  Rejected_Ballots  No_official_mark  \\\n",
       "0      ...        34176  53216                77                 0   \n",
       "1      ...        36708  47773               135                 0   \n",
       "2      ...        39348  54522                69                 0   \n",
       "3      ...        22151  57765                34                 0   \n",
       "4      ...        41497  44569                69                 0   \n",
       "\n",
       "   Voting_for_both_answers  Writing_or_mark  Unmarked_or_void  Pct_Remain  \\\n",
       "0                       32                7                38       39.11   \n",
       "1                       85                0                50       43.45   \n",
       "2                       21                0                48       41.92   \n",
       "3                        8                3                23       27.72   \n",
       "4                       26                1                42       48.22   \n",
       "\n",
       "   Pct_Leave  Pct_Rejected  \n",
       "0      60.89          0.09  \n",
       "1      56.55          0.16  \n",
       "2      58.08          0.07  \n",
       "3      72.28          0.04  \n",
       "4      51.78          0.08  \n",
       "\n",
       "[5 rows x 21 columns]"
      ]
     },
     "execution_count": 24,
     "metadata": {},
     "output_type": "execute_result"
    }
   ],
   "source": [
    "df.head()"
   ]
  },
  {
   "cell_type": "code",
   "execution_count": 25,
   "metadata": {
    "collapsed": false
   },
   "outputs": [
    {
     "data": {
      "text/html": [
       "<div>\n",
       "<table border=\"1\" class=\"dataframe\">\n",
       "  <thead>\n",
       "    <tr style=\"text-align: right;\">\n",
       "      <th></th>\n",
       "      <th>Area code</th>\n",
       "      <th>votes</th>\n",
       "    </tr>\n",
       "  </thead>\n",
       "  <tbody>\n",
       "    <tr>\n",
       "      <th>0</th>\n",
       "      <td>E06000031</td>\n",
       "      <td>-19040</td>\n",
       "    </tr>\n",
       "    <tr>\n",
       "      <th>1</th>\n",
       "      <td>E06000032</td>\n",
       "      <td>-11065</td>\n",
       "    </tr>\n",
       "    <tr>\n",
       "      <th>2</th>\n",
       "      <td>E06000033</td>\n",
       "      <td>-15174</td>\n",
       "    </tr>\n",
       "    <tr>\n",
       "      <th>3</th>\n",
       "      <td>E06000034</td>\n",
       "      <td>-35614</td>\n",
       "    </tr>\n",
       "    <tr>\n",
       "      <th>4</th>\n",
       "      <td>E06000055</td>\n",
       "      <td>-3072</td>\n",
       "    </tr>\n",
       "  </tbody>\n",
       "</table>\n",
       "</div>"
      ],
      "text/plain": [
       "   Area code  votes\n",
       "0  E06000031 -19040\n",
       "1  E06000032 -11065\n",
       "2  E06000033 -15174\n",
       "3  E06000034 -35614\n",
       "4  E06000055  -3072"
      ]
     },
     "execution_count": 25,
     "metadata": {},
     "output_type": "execute_result"
    }
   ],
   "source": [
    "votes = df.loc[:,[\"Area_Code\"]]\n",
    "votes[\"votes\"] = df[\"Remain\"] - df[\"Leave\"]\n",
    "votes = votes.rename(index=str, columns={\"Area_Code\": \"Area code\", })\n",
    "votes.head()"
   ]
  },
  {
   "cell_type": "code",
   "execution_count": 26,
   "metadata": {
    "collapsed": false
   },
   "outputs": [
    {
     "data": {
      "text/html": [
       "<div>\n",
       "<table border=\"1\" class=\"dataframe\">\n",
       "  <thead>\n",
       "    <tr style=\"text-align: right;\">\n",
       "      <th></th>\n",
       "      <th>Area code</th>\n",
       "      <th>votes</th>\n",
       "      <th>median_age</th>\n",
       "      <th>perc_unemployed</th>\n",
       "      <th>perc_high_education</th>\n",
       "      <th>perc_born_outside_uk</th>\n",
       "    </tr>\n",
       "  </thead>\n",
       "  <tbody>\n",
       "    <tr>\n",
       "      <th>0</th>\n",
       "      <td>E06000031</td>\n",
       "      <td>-19040</td>\n",
       "      <td>35.0</td>\n",
       "      <td>0.050568</td>\n",
       "      <td>0.310281</td>\n",
       "      <td>0.206349</td>\n",
       "    </tr>\n",
       "    <tr>\n",
       "      <th>1</th>\n",
       "      <td>E06000032</td>\n",
       "      <td>-11065</td>\n",
       "      <td>32.0</td>\n",
       "      <td>0.057414</td>\n",
       "      <td>0.333318</td>\n",
       "      <td>0.309408</td>\n",
       "    </tr>\n",
       "    <tr>\n",
       "      <th>2</th>\n",
       "      <td>E06000033</td>\n",
       "      <td>-15174</td>\n",
       "      <td>40.0</td>\n",
       "      <td>0.049669</td>\n",
       "      <td>0.332425</td>\n",
       "      <td>0.098596</td>\n",
       "    </tr>\n",
       "    <tr>\n",
       "      <th>3</th>\n",
       "      <td>E06000034</td>\n",
       "      <td>-35614</td>\n",
       "      <td>36.0</td>\n",
       "      <td>0.054239</td>\n",
       "      <td>0.283631</td>\n",
       "      <td>0.119692</td>\n",
       "    </tr>\n",
       "    <tr>\n",
       "      <th>4</th>\n",
       "      <td>E06000055</td>\n",
       "      <td>-3072</td>\n",
       "      <td>39.0</td>\n",
       "      <td>0.044478</td>\n",
       "      <td>0.399608</td>\n",
       "      <td>0.176049</td>\n",
       "    </tr>\n",
       "  </tbody>\n",
       "</table>\n",
       "</div>"
      ],
      "text/plain": [
       "   Area code  votes  median_age  perc_unemployed  perc_high_education  \\\n",
       "0  E06000031 -19040        35.0         0.050568             0.310281   \n",
       "1  E06000032 -11065        32.0         0.057414             0.333318   \n",
       "2  E06000033 -15174        40.0         0.049669             0.332425   \n",
       "3  E06000034 -35614        36.0         0.054239             0.283631   \n",
       "4  E06000055  -3072        39.0         0.044478             0.399608   \n",
       "\n",
       "   perc_born_outside_uk  \n",
       "0              0.206349  \n",
       "1              0.309408  \n",
       "2              0.098596  \n",
       "3              0.119692  \n",
       "4              0.176049  "
      ]
     },
     "execution_count": 26,
     "metadata": {},
     "output_type": "execute_result"
    }
   ],
   "source": [
    "data = votes.merge(age, on='Area code').merge(unemployment, on='Area code').merge(education, on='Area code').merge(outside_uk, on='Area code')\n",
    "data.head()"
   ]
  },
  {
   "cell_type": "markdown",
   "metadata": {},
   "source": [
    "## Exercise"
   ]
  },
  {
   "cell_type": "markdown",
   "metadata": {},
   "source": [
    "Use a scatter plot to show the relations between the votes and the age, unemployment rate, high education rate and people born outside UK."
   ]
  },
  {
   "cell_type": "markdown",
   "metadata": {},
   "source": [
    "**Hint:** Use the `scatter()` function in matplotlib.  Also, make a plotting function so that it can be reused for producing the different plots."
   ]
  },
  {
   "cell_type": "code",
   "execution_count": null,
   "metadata": {
    "collapsed": true
   },
   "outputs": [],
   "source": []
  }
 ],
 "metadata": {
  "anaconda-cloud": {},
  "kernelspec": {
   "display_name": "Python [default]",
   "language": "python",
   "name": "python3"
  },
  "language_info": {
   "codemirror_mode": {
    "name": "ipython",
    "version": 3
   },
   "file_extension": ".py",
   "mimetype": "text/x-python",
   "name": "python",
   "nbconvert_exporter": "python",
   "pygments_lexer": "ipython3",
   "version": "3.5.2"
  }
 },
 "nbformat": 4,
 "nbformat_minor": 0
}
