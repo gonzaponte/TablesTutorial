{
 "cells": [
  {
   "cell_type": "markdown",
   "metadata": {},
   "source": [
    "Testing code\n",
    "============"
   ]
  },
  {
   "cell_type": "markdown",
   "metadata": {},
   "source": [
    "## Modern programming practices and science\n",
    "\n",
    "* Researchers and scientific software developers write software daily, but few have been trained to do so\n",
    "* Good programming practices make a BIG difference\n",
    "* We can learn a lot from the development methods developed for commercial and open source software in the past 10 years\n"
   ]
  },
  {
   "cell_type": "code",
   "execution_count": null,
   "metadata": {
    "collapsed": false
   },
   "outputs": [],
   "source": [
    "from IPython.display import Image\n",
    "Image(\"images/pulsar.png\")"
   ]
  },
  {
   "cell_type": "markdown",
   "metadata": {},
   "source": [
    "## Requirements for scientific programming\n",
    "\n",
    "* Main requirement: scientific code must be error free\n",
    "* Scientist time, not computer time is the bottleneck\n",
    " * Being able to explore many different models and statistical analyses is more important than a very fast single approach\n",
    "* Reproducibility and re-usability:\n",
    " * Every scientific result should be independently reproduced at least internally before publication (DFG, 1999)\n",
    " * Increasing pressure for making the source code used in publications available online (especially for theoretical papers)\n",
    " * No need for somebody else to re-implement your algorithm "
   ]
  },
  {
   "cell_type": "markdown",
   "metadata": {},
   "source": [
    "## Effect of software errors in science"
   ]
  },
  {
   "cell_type": "code",
   "execution_count": null,
   "metadata": {
    "collapsed": false
   },
   "outputs": [],
   "source": [
    "Image(\"images/errors_in_science.png\", height=400, width=400)"
   ]
  },
  {
   "cell_type": "markdown",
   "metadata": {},
   "source": [
    "## Software bugs in research are a serious business"
   ]
  },
  {
   "cell_type": "code",
   "execution_count": null,
   "metadata": {
    "collapsed": false
   },
   "outputs": [],
   "source": [
    "Image(\"images/software_bugs_in_research.png\")"
   ]
  },
  {
   "cell_type": "markdown",
   "metadata": {},
   "source": [
    "## The basic agile development cycle"
   ]
  },
  {
   "cell_type": "code",
   "execution_count": null,
   "metadata": {
    "collapsed": false
   },
   "outputs": [],
   "source": [
    "Image(\"images/agile_development_cycle.png\", height=300, width=300)"
   ]
  },
  {
   "cell_type": "markdown",
   "metadata": {},
   "source": [
    "## Reminder: Testing in agile development\n",
    "* Formal software testing has become one of the most important parts of modern software development\n",
    "* Tests become part of the programming cycle and are automated:\n",
    " * Write test suite in parallel with your code\n",
    " * External software runs the tests and provides reports and statistics\n",
    "\n",
    "```\n",
    "test_choice (__main__.TestSequenceFunctions) ... ok\n",
    "test_sample (__main__.TestSequenceFunctions) ... ok\n",
    "test_shuffle(__main__.TestSequenceFunctions) ... ok\n",
    "-------------------------------------------------------\n",
    "Ran 3 tests in 0.110s\n",
    "OK\n",
    "```"
   ]
  },
  {
   "cell_type": "markdown",
   "metadata": {},
   "source": [
    "## Testing benefits\n",
    "* Tests are the only way to trust your code\n",
    "* Faster development:\n",
    " * Bugs are always pinpointed\n",
    " * Avoids starting all over again when fixing one part of the code causes a bug somewhere else\n",
    "* Encourages better code and optimization: code can change, and consistency is assured by tests "
   ]
  },
  {
   "cell_type": "markdown",
   "metadata": {},
   "source": [
    "## Example: writing some unit tests"
   ]
  },
  {
   "cell_type": "markdown",
   "metadata": {},
   "source": [
    "This is an example of unit testing. We are trying to make sure that the function calc_gc properly calculated the gc fraction of the DNA sequence.\n",
    "Checks to be performed:\n",
    "\n",
    "1. the sequence contained 'N's\n",
    "2. the sequence contained lowercase char"
   ]
  },
  {
   "cell_type": "code",
   "execution_count": null,
   "metadata": {
    "collapsed": false
   },
   "outputs": [],
   "source": [
    "%%file calc_gc.py\n",
    "def calc_gc(sequence):\n",
    "    sequence = sequence.upper()                    # make all chars uppercase\n",
    "    n = sequence.count('T') + sequence.count('A')  # count only A, T,\n",
    "    m = sequence.count('G') + sequence.count('C')  # C, and G -- nothing else (no Ns, Rs, Ws, etc.)\n",
    "    return float(m) / float(n + m)\n",
    "\n",
    "def test_1(): # test handling N\n",
    "    result = round(calc_gc('NATGC'), 2)\n",
    "    assert result == 0.5, result\n",
    "    \n",
    "def test_2(): # test handling lowercase\n",
    "    result = round(calc_gc('natgc'), 2)\n",
    "    assert result == 0.5, result"
   ]
  },
  {
   "cell_type": "code",
   "execution_count": null,
   "metadata": {
    "collapsed": false
   },
   "outputs": [],
   "source": [
    "!pytest calc_gc.py"
   ]
  },
  {
   "cell_type": "markdown",
   "metadata": {},
   "source": [
    "### Exercise"
   ]
  },
  {
   "cell_type": "markdown",
   "metadata": {},
   "source": [
    "Make sure that the code has protection to avoid a division by zero for sequences with no A, T, C, G."
   ]
  },
  {
   "cell_type": "code",
   "execution_count": null,
   "metadata": {
    "collapsed": false
   },
   "outputs": [],
   "source": []
  },
  {
   "cell_type": "markdown",
   "metadata": {},
   "source": [
    "## Example: checking numerical results"
   ]
  },
  {
   "cell_type": "markdown",
   "metadata": {},
   "source": [
    "In this new example we are going to check that some numerical computations:"
   ]
  },
  {
   "cell_type": "code",
   "execution_count": null,
   "metadata": {
    "collapsed": false
   },
   "outputs": [],
   "source": [
    "%%file test_numbers.py\n",
    "import numpy as np\n",
    "from numpy.testing import assert_equal\n",
    "import numexpr as ne\n",
    "\n",
    "def test_numpy():\n",
    "    x = np.linspace(0, 5, 100)\n",
    "    result1 = x**3\n",
    "    result2 = x*x*x\n",
    "    assert_equal(result1, result2)\n",
    "    \n",
    "def test_numexpr():\n",
    "    x = np.linspace(0, 5, 100)\n",
    "    result1 = x**3\n",
    "    result2 = ne.evaluate(\"x**3\")\n",
    "    assert_equal(result1, result2)\n"
   ]
  },
  {
   "cell_type": "code",
   "execution_count": null,
   "metadata": {
    "collapsed": false
   },
   "outputs": [],
   "source": [
    "!pytest test_numbers.py"
   ]
  },
  {
   "cell_type": "markdown",
   "metadata": {},
   "source": [
    "Hmm, something is not going on well, so:"
   ]
  },
  {
   "cell_type": "markdown",
   "metadata": {},
   "source": [
    "### Exercise"
   ]
  },
  {
   "cell_type": "markdown",
   "metadata": {},
   "source": [
    "What's wrong with the tests above?  Try to fix them.\n",
    "\n",
    "*Hint:*  You should know that the comparison in floating point is a bit tricky due to small differences in precision.  Try to use another, more convenient,  test function than `assert_equal`."
   ]
  },
  {
   "cell_type": "code",
   "execution_count": null,
   "metadata": {
    "collapsed": false
   },
   "outputs": [],
   "source": []
  },
  {
   "cell_type": "markdown",
   "metadata": {},
   "source": [
    "## Final exercise"
   ]
  },
  {
   "cell_type": "markdown",
   "metadata": {},
   "source": [
    "The [scikit image library](http://scikit-image.org/) has an interesting function called [skimage.measure.regionprops](http://scikit-image.org/docs/dev/api/skimage.measure.html#regionprops).  Use it so as to pick a series of measurements in a image in order to ensure that a downsampling of it is not degrading our image too much.\n",
    "\n",
    "The plan is to use it so as to design some tests for making sure that the level of downsizing that we apply to some image does not loose the properties that we consider important.\n",
    "\n",
    "Make use of the next function and image to design some test units:"
   ]
  },
  {
   "cell_type": "code",
   "execution_count": null,
   "metadata": {
    "collapsed": false
   },
   "outputs": [],
   "source": [
    "import numpy as np\n",
    "\n",
    "# This function downsamples a certain image by getting the mean in a certain cell shape\n",
    "def downsample(x, cell):\n",
    "    c0, c1 = cell\n",
    "    yshape = (x.shape[0] // c0, x.shape[1] // c1)\n",
    "    y = np.empty(yshape, x.dtype)\n",
    "    for i in xrange(yshape[0]):\n",
    "        for j in xrange(yshape[1]):\n",
    "            y[i, j] = x[i*c0:(i+1)*c0,j*c1:(j+1)*c1].mean()\n",
    "    return y\n",
    "\n",
    "# The image to downsample\n",
    "img = np.arange(2**14, dtype=np.float32).reshape(2**7, 2**7)\n",
    "\n",
    "# Example of downsampling API\n",
    "# down = downsample(img, (2,2))\n",
    "\n",
    "# Your test units here..."
   ]
  },
  {
   "cell_type": "code",
   "execution_count": null,
   "metadata": {
    "collapsed": false
   },
   "outputs": [],
   "source": []
  }
 ],
 "metadata": {
  "kernelspec": {
   "display_name": "Python [default]",
   "language": "python",
   "name": "python3"
  },
  "language_info": {
   "codemirror_mode": {
    "name": "ipython",
    "version": 3
   },
   "file_extension": ".py",
   "mimetype": "text/x-python",
   "name": "python",
   "nbconvert_exporter": "python",
   "pygments_lexer": "ipython3",
   "version": "3.5.2"
  }
 },
 "nbformat": 4,
 "nbformat_minor": 0
}
